{
  "cells": [
    {
      "cell_type": "markdown",
      "metadata": {
        "id": "view-in-github",
        "colab_type": "text"
      },
      "source": [
        "<a href=\"https://colab.research.google.com/github/programminghistorian/ph-submissions/blob/gh-pages/assets/facial-recognition-ai-python/facial_recognition_ai_python.ipynb\" target=\"_parent\"><img src=\"https://colab.research.google.com/assets/colab-badge.svg\" alt=\"Open In Colab\"/></a>"
      ]
    },
    {
      "cell_type": "markdown",
      "source": [
        "##Preliminaries"
      ],
      "metadata": {
        "id": "UqNpNL9YdW_F"
      }
    },
    {
      "cell_type": "code",
      "execution_count": null,
      "metadata": {
        "id": "AstQdmx7ecwk"
      },
      "outputs": [],
      "source": [
        "%mkdir yearbook\n",
        "%cd yearbook\n",
        "!pip install --upgrade --no-cache-dir gdown\n",
        "!gdown --id \"1NHT8NN8ClBEnUC5VqkP3wr2KhyiIQzyU\"\n",
        "!unzip PHfiles.zip\n",
        "%mkdir images\n",
        "!pip install PyMuPDF\n",
        "!pip install dlib\n",
        "!pip install DeepFace\n",
        "import os, shutil, fitz, cv2, numpy as np, pandas as pd, dlib, tensorflow as tf\n",
        "from os.path import dirname, join\n",
        "from deepface import DeepFace"
      ]
    },
    {
      "cell_type": "markdown",
      "source": [
        "##PDF Conversion"
      ],
      "metadata": {
        "id": "5D4NGWwSdagp"
      }
    },
    {
      "cell_type": "code",
      "execution_count": null,
      "metadata": {
        "id": "rhGzknifXosP"
      },
      "outputs": [],
      "source": [
        "path = r'./'\n",
        "pdfs = [f for f in os.listdir(path) if f.endswith('.pdf')]\n",
        "for pdf in pdfs:\n",
        "    os.chdir(os.path.join('./images'))\n",
        "    os.mkdir((pdf.split(\".\")[0]))\n",
        "    newdir = (os.path.join('./images/' + os.path.join(pdf.split(\".\")[0])))\n",
        "    os.chdir(\"..\")\n",
        "    print (\"Now copying images into \" + (newdir))\n",
        "    shutil.copy(pdf, newdir)\n",
        "    os.chdir(newdir)\n",
        "    doc = fitz.open(pdf)\n",
        "    for page in doc:\n",
        "      pix = page.get_pixmap()\n",
        "      pix.save(\"page-%i.png\" % page.number)\n",
        "    os.chdir(os.path.dirname(os.getcwd()))\n",
        "    os.chdir(\"..\")\n",
        "\n"
      ]
    },
    {
      "cell_type": "markdown",
      "source": [
        "##Object Detection and Facial Recognition: Code"
      ],
      "metadata": {
        "id": "2jYcnBWodq7V"
      }
    },
    {
      "cell_type": "code",
      "execution_count": null,
      "metadata": {
        "id": "92YhmH4AhFR1"
      },
      "outputs": [],
      "source": [
        "path = r'./'\n",
        "\n",
        "os.chdir(os.path.join(path + 'images'))\n",
        "dirs = os.listdir(path)\n",
        "for dir in dirs:\n",
        "    os.chdir(os.path.join(path + dir))\n",
        "    pngs = [f for f in os.listdir(path) if f.endswith('.png')]\n",
        "\n",
        "    if not os.path.exists((dir) + ' faces'):\n",
        "        print(\"New 'faces' directory created in \" + (dir) + \" folder\")\n",
        "        os.makedirs((dir) + ' faces')\n",
        "\n",
        "        count = 0\n",
        "        for png in pngs:\n",
        "            image = cv2.imread(png)\n",
        "\n",
        "            greyscale_image = cv2.cvtColor(image, cv2.COLOR_BGR2GRAY)\n",
        "\n",
        "            face_cascade = cv2.CascadeClassifier(cv2.data.haarcascades + \"haarcascade_frontalface_default.xml\")\n",
        "\n",
        "            detected_faces = face_cascade.detectMultiScale(image=greyscale_image, scaleFactor=1.9, minNeighbors=4)\n",
        "\n",
        "            count = 0\n",
        "            for (x,y,w,h) in detected_faces:\n",
        "                try:\n",
        "                    xpadding = 20\n",
        "                    ypadding = 40\n",
        "                    crop_face = image[y-ypadding: y + h+ypadding, x-xpadding: x + w+xpadding]\n",
        "                    count+=1\n",
        "                    face = cv2.rectangle(crop_face,(x,y),(x+w,y+h),(255,0,0),2)\n",
        "                    cv2.imwrite(path + (dir) + ' faces/' + str(count) + '_' + png, face)\n",
        "                except (Exception):\n",
        "                    print(\"An error happened\")\n",
        "                    continue\n",
        "            os.remove(os.path.join(path, png))\n",
        "    os.chdir(\"..\")\n"
      ]
    },
    {
      "cell_type": "markdown",
      "source": [
        "##Identify Smiles: Code"
      ],
      "metadata": {
        "id": "ysjW9Atvd00g"
      }
    },
    {
      "cell_type": "code",
      "execution_count": null,
      "metadata": {
        "id": "26ben4VqkGwd"
      },
      "outputs": [],
      "source": [
        "%cd ..\n",
        "numberSmiles = 0\n",
        "smileCounts = []\n",
        "numberNonSmiles = 0\n",
        "nonSmileCounts = []\n",
        "numErrors = 0\n",
        "errorCounts = []\n",
        "pngs = []\n",
        "\n",
        "fileCount = 0\n",
        "fileCountList = []\n",
        "\n",
        "years = ['1911', '1921', '1931', '1941', '1951', '1961']\n",
        "\n",
        "for year in years:\n",
        "    path = r'./images' + '/' + year\n",
        "    for root, dirs, files in os.walk(path):\n",
        "        for dir in dirs:\n",
        "            path = path + '/' + (year + ' faces')\n",
        "            if(fileCount != 0):\n",
        "                fileCountList.append(fileCount)\n",
        "            fileCount = 0\n",
        "            for f in os.listdir(path):\n",
        "                if f.endswith('.png'):\n",
        "                    pngs.append(path + '/' + f)\n",
        "                    fileCount = fileCount + 1\n",
        "\n",
        "fileCountList.append(fileCount)\n",
        "\n",
        "totalLoops = 0\n",
        "count = 0\n",
        "iterator = 0\n",
        "for png in pngs:\n",
        "    try:\n",
        "        totalLoops = totalLoops + 1\n",
        "        count = count + 1\n",
        "        if(count != (fileCountList[iterator] + 1)):\n",
        "            demography = DeepFace.analyze(png, actions = ['emotion'])\n",
        "            print(demography)\n",
        "            if(demography[0]['dominant_emotion'] == 'happy'):\n",
        "                numberSmiles = numberSmiles + 1\n",
        "            else:\n",
        "                numberNonSmiles = numberNonSmiles + 1\n",
        "\n",
        "        else:\n",
        "            count = count - 1\n",
        "            smileCounts.append(numberSmiles / count)\n",
        "            nonSmileCounts.append(numberNonSmiles / count)\n",
        "            errorCounts.append(numErrors / count)\n",
        "            numberSmiles = 0\n",
        "            numberNonSmiles = 0\n",
        "            numErrors = 0\n",
        "            iterator = iterator + 1\n",
        "            count = 0\n",
        "\n",
        "    except (Exception):\n",
        "        numErrors = numErrors + 1\n",
        "        print(\"An error happened\")\n",
        "        continue\n",
        "\n",
        "smileCounts.append(numberSmiles / count)\n",
        "nonSmileCounts.append(numberNonSmiles / count)\n",
        "errorCounts.append(numErrors / count)\n",
        "\n",
        "dict = {'Years': years, 'Smiles': smileCounts, 'NonSmiles': nonSmileCounts, \"Error Weight\": errorCounts}\n",
        "data = pd.DataFrame(dict)\n",
        "data.to_csv('YearbookOutput.csv', index=False)\n",
        "print(count)\n"
      ]
    },
    {
      "cell_type": "markdown",
      "source": [
        "##Download and results"
      ],
      "metadata": {
        "id": "Sa2rV4Hzd5NE"
      }
    },
    {
      "cell_type": "code",
      "execution_count": null,
      "metadata": {
        "colab": {
          "base_uri": "https://localhost:8080/",
          "height": 17
        },
        "id": "QxBepnRtns50",
        "outputId": "4e7bb880-57c8-4bda-b5d2-eea7f2ca4049"
      },
      "outputs": [
        {
          "output_type": "display_data",
          "data": {
            "text/plain": [
              "<IPython.core.display.Javascript object>"
            ],
            "application/javascript": [
              "\n",
              "    async function download(id, filename, size) {\n",
              "      if (!google.colab.kernel.accessAllowed) {\n",
              "        return;\n",
              "      }\n",
              "      const div = document.createElement('div');\n",
              "      const label = document.createElement('label');\n",
              "      label.textContent = `Downloading \"${filename}\": `;\n",
              "      div.appendChild(label);\n",
              "      const progress = document.createElement('progress');\n",
              "      progress.max = size;\n",
              "      div.appendChild(progress);\n",
              "      document.body.appendChild(div);\n",
              "\n",
              "      const buffers = [];\n",
              "      let downloaded = 0;\n",
              "\n",
              "      const channel = await google.colab.kernel.comms.open(id);\n",
              "      // Send a message to notify the kernel that we're ready.\n",
              "      channel.send({})\n",
              "\n",
              "      for await (const message of channel.messages) {\n",
              "        // Send a message to notify the kernel that we're ready.\n",
              "        channel.send({})\n",
              "        if (message.buffers) {\n",
              "          for (const buffer of message.buffers) {\n",
              "            buffers.push(buffer);\n",
              "            downloaded += buffer.byteLength;\n",
              "            progress.value = downloaded;\n",
              "          }\n",
              "        }\n",
              "      }\n",
              "      const blob = new Blob(buffers, {type: 'application/binary'});\n",
              "      const a = document.createElement('a');\n",
              "      a.href = window.URL.createObjectURL(blob);\n",
              "      a.download = filename;\n",
              "      div.appendChild(a);\n",
              "      a.click();\n",
              "      div.remove();\n",
              "    }\n",
              "  "
            ]
          },
          "metadata": {}
        },
        {
          "output_type": "display_data",
          "data": {
            "text/plain": [
              "<IPython.core.display.Javascript object>"
            ],
            "application/javascript": [
              "download(\"download_0d13f19e-35db-4985-8af5-dc34bcce91a2\", \"YearbookOutput.csv\", 265)"
            ]
          },
          "metadata": {}
        }
      ],
      "source": [
        "from google.colab import files\n",
        "files.download('YearbookOutput.csv')"
      ]
    }
  ],
  "metadata": {
    "accelerator": "GPU",
    "colab": {
      "provenance": [],
      "toc_visible": true,
      "include_colab_link": true
    },
    "kernelspec": {
      "display_name": "Python 3",
      "name": "python3"
    },
    "language_info": {
      "name": "python"
    }
  },
  "nbformat": 4,
  "nbformat_minor": 0
}