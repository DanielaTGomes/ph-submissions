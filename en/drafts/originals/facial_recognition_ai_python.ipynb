{
  "cells": [
    {
      "cell_type": "markdown",
      "metadata": {
        "id": "view-in-github",
        "colab_type": "text"
      },
      "source": [
        "<a href=\"https://colab.research.google.com/github/programminghistorian/ph-submissions/blob/gh-pages/en/drafts/originals/facial_recognition_ai_python.ipynb\" target=\"_parent\"><img src=\"https://colab.research.google.com/assets/colab-badge.svg\" alt=\"Open In Colab\"/></a>"
      ]
    },
    {
      "cell_type": "markdown",
      "source": [
        "##Preliminaries"
      ],
      "metadata": {
        "id": "UqNpNL9YdW_F"
      }
    },
    {
      "cell_type": "code",
      "execution_count": null,
      "metadata": {
        "id": "AstQdmx7ecwk",
        "colab": {
          "base_uri": "https://localhost:8080/"
        },
        "outputId": "e1be2f95-1f9c-46e7-8534-b78d5aa49274"
      },
      "outputs": [
        {
          "output_type": "stream",
          "name": "stdout",
          "text": [
            "/content/yearbook\n",
            "Looking in indexes: https://pypi.org/simple, https://us-python.pkg.dev/colab-wheels/public/simple/\n",
            "Requirement already satisfied: gdown in /usr/local/lib/python3.9/dist-packages (4.6.4)\n",
            "Collecting gdown\n",
            "  Downloading gdown-4.6.6-py3-none-any.whl (14 kB)\n",
            "Requirement already satisfied: beautifulsoup4 in /usr/local/lib/python3.9/dist-packages (from gdown) (4.11.2)\n",
            "Requirement already satisfied: tqdm in /usr/local/lib/python3.9/dist-packages (from gdown) (4.65.0)\n",
            "Requirement already satisfied: six in /usr/local/lib/python3.9/dist-packages (from gdown) (1.16.0)\n",
            "Requirement already satisfied: filelock in /usr/local/lib/python3.9/dist-packages (from gdown) (3.10.0)\n",
            "Requirement already satisfied: requests[socks] in /usr/local/lib/python3.9/dist-packages (from gdown) (2.27.1)\n",
            "Requirement already satisfied: soupsieve>1.2 in /usr/local/lib/python3.9/dist-packages (from beautifulsoup4->gdown) (2.4)\n",
            "Requirement already satisfied: charset-normalizer~=2.0.0 in /usr/local/lib/python3.9/dist-packages (from requests[socks]->gdown) (2.0.12)\n",
            "Requirement already satisfied: urllib3<1.27,>=1.21.1 in /usr/local/lib/python3.9/dist-packages (from requests[socks]->gdown) (1.26.15)\n",
            "Requirement already satisfied: idna<4,>=2.5 in /usr/local/lib/python3.9/dist-packages (from requests[socks]->gdown) (3.4)\n",
            "Requirement already satisfied: certifi>=2017.4.17 in /usr/local/lib/python3.9/dist-packages (from requests[socks]->gdown) (2022.12.7)\n",
            "Requirement already satisfied: PySocks!=1.5.7,>=1.5.6 in /usr/local/lib/python3.9/dist-packages (from requests[socks]->gdown) (1.7.1)\n",
            "Installing collected packages: gdown\n",
            "  Attempting uninstall: gdown\n",
            "    Found existing installation: gdown 4.6.4\n",
            "    Uninstalling gdown-4.6.4:\n",
            "      Successfully uninstalled gdown-4.6.4\n",
            "Successfully installed gdown-4.6.6\n",
            "/usr/local/lib/python3.9/dist-packages/gdown/cli.py:121: FutureWarning: Option `--id` was deprecated in version 4.3.1 and will be removed in 5.0. You don't need to pass it anymore to use a file ID.\n",
            "  warnings.warn(\n",
            "Downloading...\n",
            "From: https://drive.google.com/uc?id=1NHT8NN8ClBEnUC5VqkP3wr2KhyiIQzyU\n",
            "To: /content/yearbook/PHfiles.zip\n",
            "100% 185M/185M [00:06<00:00, 26.5MB/s]\n",
            "Archive:  PHfiles.zip\n",
            "  inflating: 1911.pdf                \n",
            "  inflating: 1921.pdf                \n",
            "  inflating: 1931.pdf                \n",
            "  inflating: 1941.pdf                \n",
            "  inflating: 1951.pdf                \n",
            "  inflating: 1961.pdf                \n",
            "  inflating: haarcascade_frontalface_default.xml  \n",
            "Looking in indexes: https://pypi.org/simple, https://us-python.pkg.dev/colab-wheels/public/simple/\n",
            "Collecting PyMuPDF\n",
            "  Downloading PyMuPDF-1.21.1-cp39-cp39-manylinux_2_17_x86_64.manylinux2014_x86_64.whl (14.0 MB)\n",
            "\u001b[2K     \u001b[90m━━━━━━━━━━━━━━━━━━━━━━━━━━━━━━━━━━━━━━━━\u001b[0m \u001b[32m14.0/14.0 MB\u001b[0m \u001b[31m75.9 MB/s\u001b[0m eta \u001b[36m0:00:00\u001b[0m\n",
            "\u001b[?25hInstalling collected packages: PyMuPDF\n",
            "Successfully installed PyMuPDF-1.21.1\n",
            "Looking in indexes: https://pypi.org/simple, https://us-python.pkg.dev/colab-wheels/public/simple/\n",
            "Requirement already satisfied: dlib in /usr/local/lib/python3.9/dist-packages (19.24.0)\n",
            "Looking in indexes: https://pypi.org/simple, https://us-python.pkg.dev/colab-wheels/public/simple/\n",
            "Collecting DeepFace\n",
            "  Downloading deepface-0.0.79-py3-none-any.whl (49 kB)\n",
            "\u001b[2K     \u001b[90m━━━━━━━━━━━━━━━━━━━━━━━━━━━━━━━━━━━━━━━━\u001b[0m \u001b[32m49.6/49.6 KB\u001b[0m \u001b[31m6.0 MB/s\u001b[0m eta \u001b[36m0:00:00\u001b[0m\n",
            "\u001b[?25hCollecting mtcnn>=0.1.0\n",
            "  Downloading mtcnn-0.1.1-py3-none-any.whl (2.3 MB)\n",
            "\u001b[2K     \u001b[90m━━━━━━━━━━━━━━━━━━━━━━━━━━━━━━━━━━━━━━━━\u001b[0m \u001b[32m2.3/2.3 MB\u001b[0m \u001b[31m88.7 MB/s\u001b[0m eta \u001b[36m0:00:00\u001b[0m\n",
            "\u001b[?25hRequirement already satisfied: keras>=2.2.0 in /usr/local/lib/python3.9/dist-packages (from DeepFace) (2.11.0)\n",
            "Requirement already satisfied: gdown>=3.10.1 in /usr/local/lib/python3.9/dist-packages (from DeepFace) (4.6.6)\n",
            "Requirement already satisfied: tensorflow>=1.9.0 in /usr/local/lib/python3.9/dist-packages (from DeepFace) (2.11.0)\n",
            "Collecting gunicorn>=20.1.0\n",
            "  Downloading gunicorn-20.1.0-py3-none-any.whl (79 kB)\n",
            "\u001b[2K     \u001b[90m━━━━━━━━━━━━━━━━━━━━━━━━━━━━━━━━━━━━━━━━\u001b[0m \u001b[32m79.5/79.5 KB\u001b[0m \u001b[31m13.1 MB/s\u001b[0m eta \u001b[36m0:00:00\u001b[0m\n",
            "\u001b[?25hRequirement already satisfied: opencv-python>=4.5.5.64 in /usr/local/lib/python3.9/dist-packages (from DeepFace) (4.7.0.72)\n",
            "Collecting fire>=0.4.0\n",
            "  Downloading fire-0.5.0.tar.gz (88 kB)\n",
            "\u001b[2K     \u001b[90m━━━━━━━━━━━━━━━━━━━━━━━━━━━━━━━━━━━━━━━━\u001b[0m \u001b[32m88.3/88.3 KB\u001b[0m \u001b[31m14.3 MB/s\u001b[0m eta \u001b[36m0:00:00\u001b[0m\n",
            "\u001b[?25h  Preparing metadata (setup.py) ... \u001b[?25l\u001b[?25hdone\n",
            "Requirement already satisfied: Flask>=1.1.2 in /usr/local/lib/python3.9/dist-packages (from DeepFace) (2.2.3)\n",
            "Requirement already satisfied: tqdm>=4.30.0 in /usr/local/lib/python3.9/dist-packages (from DeepFace) (4.65.0)\n",
            "Collecting retina-face>=0.0.1\n",
            "  Downloading retina_face-0.0.13-py3-none-any.whl (16 kB)\n",
            "Requirement already satisfied: numpy>=1.14.0 in /usr/local/lib/python3.9/dist-packages (from DeepFace) (1.22.4)\n",
            "Requirement already satisfied: pandas>=0.23.4 in /usr/local/lib/python3.9/dist-packages (from DeepFace) (1.4.4)\n",
            "Requirement already satisfied: Pillow>=5.2.0 in /usr/local/lib/python3.9/dist-packages (from DeepFace) (8.4.0)\n",
            "Requirement already satisfied: six in /usr/local/lib/python3.9/dist-packages (from fire>=0.4.0->DeepFace) (1.16.0)\n",
            "Requirement already satisfied: termcolor in /usr/local/lib/python3.9/dist-packages (from fire>=0.4.0->DeepFace) (2.2.0)\n",
            "Requirement already satisfied: Werkzeug>=2.2.2 in /usr/local/lib/python3.9/dist-packages (from Flask>=1.1.2->DeepFace) (2.2.3)\n",
            "Requirement already satisfied: Jinja2>=3.0 in /usr/local/lib/python3.9/dist-packages (from Flask>=1.1.2->DeepFace) (3.1.2)\n",
            "Requirement already satisfied: click>=8.0 in /usr/local/lib/python3.9/dist-packages (from Flask>=1.1.2->DeepFace) (8.1.3)\n",
            "Requirement already satisfied: itsdangerous>=2.0 in /usr/local/lib/python3.9/dist-packages (from Flask>=1.1.2->DeepFace) (2.1.2)\n",
            "Requirement already satisfied: importlib-metadata>=3.6.0 in /usr/local/lib/python3.9/dist-packages (from Flask>=1.1.2->DeepFace) (6.1.0)\n",
            "Requirement already satisfied: filelock in /usr/local/lib/python3.9/dist-packages (from gdown>=3.10.1->DeepFace) (3.10.0)\n",
            "Requirement already satisfied: beautifulsoup4 in /usr/local/lib/python3.9/dist-packages (from gdown>=3.10.1->DeepFace) (4.11.2)\n",
            "Requirement already satisfied: requests[socks] in /usr/local/lib/python3.9/dist-packages (from gdown>=3.10.1->DeepFace) (2.27.1)\n",
            "Requirement already satisfied: setuptools>=3.0 in /usr/local/lib/python3.9/dist-packages (from gunicorn>=20.1.0->DeepFace) (67.6.0)\n",
            "Requirement already satisfied: python-dateutil>=2.8.1 in /usr/local/lib/python3.9/dist-packages (from pandas>=0.23.4->DeepFace) (2.8.2)\n",
            "Requirement already satisfied: pytz>=2020.1 in /usr/local/lib/python3.9/dist-packages (from pandas>=0.23.4->DeepFace) (2022.7.1)\n",
            "Requirement already satisfied: opt-einsum>=2.3.2 in /usr/local/lib/python3.9/dist-packages (from tensorflow>=1.9.0->DeepFace) (3.3.0)\n",
            "Requirement already satisfied: libclang>=13.0.0 in /usr/local/lib/python3.9/dist-packages (from tensorflow>=1.9.0->DeepFace) (15.0.6.1)\n",
            "Requirement already satisfied: gast<=0.4.0,>=0.2.1 in /usr/local/lib/python3.9/dist-packages (from tensorflow>=1.9.0->DeepFace) (0.4.0)\n",
            "Requirement already satisfied: flatbuffers>=2.0 in /usr/local/lib/python3.9/dist-packages (from tensorflow>=1.9.0->DeepFace) (23.3.3)\n",
            "Requirement already satisfied: tensorflow-estimator<2.12,>=2.11.0 in /usr/local/lib/python3.9/dist-packages (from tensorflow>=1.9.0->DeepFace) (2.11.0)\n",
            "Requirement already satisfied: typing-extensions>=3.6.6 in /usr/local/lib/python3.9/dist-packages (from tensorflow>=1.9.0->DeepFace) (4.5.0)\n",
            "Requirement already satisfied: google-pasta>=0.1.1 in /usr/local/lib/python3.9/dist-packages (from tensorflow>=1.9.0->DeepFace) (0.2.0)\n",
            "Requirement already satisfied: astunparse>=1.6.0 in /usr/local/lib/python3.9/dist-packages (from tensorflow>=1.9.0->DeepFace) (1.6.3)\n",
            "Requirement already satisfied: tensorflow-io-gcs-filesystem>=0.23.1 in /usr/local/lib/python3.9/dist-packages (from tensorflow>=1.9.0->DeepFace) (0.31.0)\n",
            "Requirement already satisfied: protobuf<3.20,>=3.9.2 in /usr/local/lib/python3.9/dist-packages (from tensorflow>=1.9.0->DeepFace) (3.19.6)\n",
            "Requirement already satisfied: packaging in /usr/local/lib/python3.9/dist-packages (from tensorflow>=1.9.0->DeepFace) (23.0)\n",
            "Requirement already satisfied: tensorboard<2.12,>=2.11 in /usr/local/lib/python3.9/dist-packages (from tensorflow>=1.9.0->DeepFace) (2.11.2)\n",
            "Requirement already satisfied: grpcio<2.0,>=1.24.3 in /usr/local/lib/python3.9/dist-packages (from tensorflow>=1.9.0->DeepFace) (1.51.3)\n",
            "Requirement already satisfied: wrapt>=1.11.0 in /usr/local/lib/python3.9/dist-packages (from tensorflow>=1.9.0->DeepFace) (1.15.0)\n",
            "Requirement already satisfied: h5py>=2.9.0 in /usr/local/lib/python3.9/dist-packages (from tensorflow>=1.9.0->DeepFace) (3.8.0)\n",
            "Requirement already satisfied: absl-py>=1.0.0 in /usr/local/lib/python3.9/dist-packages (from tensorflow>=1.9.0->DeepFace) (1.4.0)\n",
            "Requirement already satisfied: wheel<1.0,>=0.23.0 in /usr/local/lib/python3.9/dist-packages (from astunparse>=1.6.0->tensorflow>=1.9.0->DeepFace) (0.40.0)\n",
            "Requirement already satisfied: zipp>=0.5 in /usr/local/lib/python3.9/dist-packages (from importlib-metadata>=3.6.0->Flask>=1.1.2->DeepFace) (3.15.0)\n",
            "Requirement already satisfied: MarkupSafe>=2.0 in /usr/local/lib/python3.9/dist-packages (from Jinja2>=3.0->Flask>=1.1.2->DeepFace) (2.1.2)\n",
            "Requirement already satisfied: google-auth-oauthlib<0.5,>=0.4.1 in /usr/local/lib/python3.9/dist-packages (from tensorboard<2.12,>=2.11->tensorflow>=1.9.0->DeepFace) (0.4.6)\n",
            "Requirement already satisfied: google-auth<3,>=1.6.3 in /usr/local/lib/python3.9/dist-packages (from tensorboard<2.12,>=2.11->tensorflow>=1.9.0->DeepFace) (2.16.2)\n",
            "Requirement already satisfied: tensorboard-plugin-wit>=1.6.0 in /usr/local/lib/python3.9/dist-packages (from tensorboard<2.12,>=2.11->tensorflow>=1.9.0->DeepFace) (1.8.1)\n",
            "Requirement already satisfied: markdown>=2.6.8 in /usr/local/lib/python3.9/dist-packages (from tensorboard<2.12,>=2.11->tensorflow>=1.9.0->DeepFace) (3.4.1)\n",
            "Requirement already satisfied: tensorboard-data-server<0.7.0,>=0.6.0 in /usr/local/lib/python3.9/dist-packages (from tensorboard<2.12,>=2.11->tensorflow>=1.9.0->DeepFace) (0.6.1)\n",
            "Requirement already satisfied: soupsieve>1.2 in /usr/local/lib/python3.9/dist-packages (from beautifulsoup4->gdown>=3.10.1->DeepFace) (2.4)\n",
            "Requirement already satisfied: charset-normalizer~=2.0.0 in /usr/local/lib/python3.9/dist-packages (from requests[socks]->gdown>=3.10.1->DeepFace) (2.0.12)\n",
            "Requirement already satisfied: idna<4,>=2.5 in /usr/local/lib/python3.9/dist-packages (from requests[socks]->gdown>=3.10.1->DeepFace) (3.4)\n",
            "Requirement already satisfied: urllib3<1.27,>=1.21.1 in /usr/local/lib/python3.9/dist-packages (from requests[socks]->gdown>=3.10.1->DeepFace) (1.26.15)\n",
            "Requirement already satisfied: certifi>=2017.4.17 in /usr/local/lib/python3.9/dist-packages (from requests[socks]->gdown>=3.10.1->DeepFace) (2022.12.7)\n",
            "Requirement already satisfied: PySocks!=1.5.7,>=1.5.6 in /usr/local/lib/python3.9/dist-packages (from requests[socks]->gdown>=3.10.1->DeepFace) (1.7.1)\n",
            "Requirement already satisfied: pyasn1-modules>=0.2.1 in /usr/local/lib/python3.9/dist-packages (from google-auth<3,>=1.6.3->tensorboard<2.12,>=2.11->tensorflow>=1.9.0->DeepFace) (0.2.8)\n",
            "Requirement already satisfied: cachetools<6.0,>=2.0.0 in /usr/local/lib/python3.9/dist-packages (from google-auth<3,>=1.6.3->tensorboard<2.12,>=2.11->tensorflow>=1.9.0->DeepFace) (5.3.0)\n",
            "Requirement already satisfied: rsa<5,>=3.1.4 in /usr/local/lib/python3.9/dist-packages (from google-auth<3,>=1.6.3->tensorboard<2.12,>=2.11->tensorflow>=1.9.0->DeepFace) (4.9)\n",
            "Requirement already satisfied: requests-oauthlib>=0.7.0 in /usr/local/lib/python3.9/dist-packages (from google-auth-oauthlib<0.5,>=0.4.1->tensorboard<2.12,>=2.11->tensorflow>=1.9.0->DeepFace) (1.3.1)\n",
            "Requirement already satisfied: pyasn1<0.5.0,>=0.4.6 in /usr/local/lib/python3.9/dist-packages (from pyasn1-modules>=0.2.1->google-auth<3,>=1.6.3->tensorboard<2.12,>=2.11->tensorflow>=1.9.0->DeepFace) (0.4.8)\n",
            "Requirement already satisfied: oauthlib>=3.0.0 in /usr/local/lib/python3.9/dist-packages (from requests-oauthlib>=0.7.0->google-auth-oauthlib<0.5,>=0.4.1->tensorboard<2.12,>=2.11->tensorflow>=1.9.0->DeepFace) (3.2.2)\n",
            "Building wheels for collected packages: fire\n",
            "  Building wheel for fire (setup.py) ... \u001b[?25l\u001b[?25hdone\n",
            "  Created wheel for fire: filename=fire-0.5.0-py2.py3-none-any.whl size=116952 sha256=92a8b3d4e39977a3a47652c4c0dd50be1fb2a93f51885e75f3d0de5de922e4e0\n",
            "  Stored in directory: /root/.cache/pip/wheels/f7/f1/89/b9ea2bf8f80ec027a88fef1d354b3816b4d3d29530988972f6\n",
            "Successfully built fire\n",
            "Installing collected packages: gunicorn, fire, mtcnn, retina-face, DeepFace\n",
            "Successfully installed DeepFace-0.0.79 fire-0.5.0 gunicorn-20.1.0 mtcnn-0.1.1 retina-face-0.0.13\n",
            "Directory  /root /.deepface created\n",
            "Directory  /root /.deepface/weights created\n"
          ]
        }
      ],
      "source": [
        "%mkdir yearbook\n",
        "%cd yearbook\n",
        "!pip install --upgrade --no-cache-dir gdown\n",
        "!gdown --id \"1NHT8NN8ClBEnUC5VqkP3wr2KhyiIQzyU\"\n",
        "!unzip PHfiles.zip\n",
        "%mkdir images\n",
        "!pip install PyMuPDF\n",
        "!pip install dlib\n",
        "!pip install DeepFace\n",
        "import os, shutil, fitz, cv2, numpy as np, pandas as pd, dlib, tensorflow as tf\n",
        "from os.path import dirname, join\n",
        "from deepface import DeepFace"
      ]
    },
    {
      "cell_type": "markdown",
      "source": [
        "##PDF Conversion"
      ],
      "metadata": {
        "id": "5D4NGWwSdagp"
      }
    },
    {
      "cell_type": "code",
      "execution_count": null,
      "metadata": {
        "id": "rhGzknifXosP",
        "colab": {
          "base_uri": "https://localhost:8080/"
        },
        "outputId": "9c3cf5d0-e995-4121-d170-8fc416aeb3da"
      },
      "outputs": [
        {
          "output_type": "stream",
          "name": "stdout",
          "text": [
            "Now copying images into ./images/1961\n",
            "Now copying images into ./images/1951\n",
            "Now copying images into ./images/1911\n",
            "Now copying images into ./images/1941\n",
            "Now copying images into ./images/1931\n",
            "Now copying images into ./images/1921\n"
          ]
        }
      ],
      "source": [
        "path = r'./'\n",
        "pdfs = [f for f in os.listdir(path) if f.endswith('.pdf')]\n",
        "for pdf in pdfs:\n",
        "    os.chdir(os.path.join('./images'))\n",
        "    os.mkdir((pdf.split(\".\")[0]))\n",
        "    newdir = (os.path.join('./images/' + os.path.join(pdf.split(\".\")[0])))\n",
        "    os.chdir(\"..\")\n",
        "    print (\"Now copying images into \" + (newdir))\n",
        "    shutil.copy(pdf, newdir)\n",
        "    os.chdir(newdir)\n",
        "    doc = fitz.open(pdf)\n",
        "    for page in doc:\n",
        "      pix = page.get_pixmap()\n",
        "      pix.save(\"page-%i.png\" % page.number)\n",
        "    os.chdir(os.path.dirname(os.getcwd()))\n",
        "    os.chdir(\"..\")\n",
        "\n"
      ]
    },
    {
      "cell_type": "markdown",
      "source": [
        "##Object Detection and Facial Recognition: Code"
      ],
      "metadata": {
        "id": "2jYcnBWodq7V"
      }
    },
    {
      "cell_type": "code",
      "execution_count": null,
      "metadata": {
        "id": "92YhmH4AhFR1",
        "colab": {
          "base_uri": "https://localhost:8080/"
        },
        "outputId": "63bd00f8-77bf-41b5-e54e-c90c87e9e099"
      },
      "outputs": [
        {
          "output_type": "stream",
          "name": "stdout",
          "text": [
            "New 'faces' directory created in 1921 folder\n",
            "New 'faces' directory created in 1911 folder\n",
            "New 'faces' directory created in 1931 folder\n",
            "New 'faces' directory created in 1961 folder\n",
            "New 'faces' directory created in 1941 folder\n",
            "New 'faces' directory created in 1951 folder\n"
          ]
        }
      ],
      "source": [
        "path = r'./'\n",
        "\n",
        "os.chdir(os.path.join(path + 'images'))\n",
        "dirs = os.listdir(path)\n",
        "for dir in dirs:\n",
        "    os.chdir(os.path.join(path + dir))\n",
        "    pngs = [f for f in os.listdir(path) if f.endswith('.png')]\n",
        "\n",
        "    if not os.path.exists((dir) + ' faces'):\n",
        "        print(\"New 'faces' directory created in \" + (dir) + \" folder\")\n",
        "        os.makedirs((dir) + ' faces')\n",
        "\n",
        "        count = 0\n",
        "        for png in pngs:\n",
        "            image = cv2.imread(png)\n",
        "\n",
        "            greyscale_image = cv2.cvtColor(image, cv2.COLOR_BGR2GRAY)\n",
        "\n",
        "            face_cascade = cv2.CascadeClassifier(cv2.data.haarcascades + \"haarcascade_frontalface_default.xml\")\n",
        "\n",
        "            detected_faces = face_cascade.detectMultiScale(image=greyscale_image, scaleFactor=1.9, minNeighbors=4)\n",
        "\n",
        "            count = 0\n",
        "            for (x,y,w,h) in detected_faces:\n",
        "                try:\n",
        "                    xpadding = 20\n",
        "                    ypadding = 40\n",
        "                    crop_face = image[y-ypadding: y + h+ypadding, x-xpadding: x + w+xpadding]\n",
        "                    count+=1\n",
        "                    face = cv2.rectangle(crop_face,(x,y),(x+w,y+h),(255,0,0),2)\n",
        "                    cv2.imwrite(path + (dir) + ' faces/' + str(count) + '_' + png, face)\n",
        "                except (Exception):\n",
        "                    print(\"An error happened\")\n",
        "                    continue\n",
        "            os.remove(os.path.join(path, png))\n",
        "    os.chdir(\"..\")\n"
      ]
    },
    {
      "cell_type": "markdown",
      "source": [
        "##Identify Smiles: Code"
      ],
      "metadata": {
        "id": "ysjW9Atvd00g"
      }
    },
    {
      "cell_type": "code",
      "execution_count": null,
      "metadata": {
        "id": "26ben4VqkGwd",
        "colab": {
          "base_uri": "https://localhost:8080/"
        },
        "outputId": "1a68e27b-e630-4378-9240-6daeb9c6664a"
      },
      "outputs": [
        {
          "output_type": "stream",
          "name": "stdout",
          "text": [
            "/content/yearbook\n",
            "facial_expression_model_weights.h5 will be downloaded...\n"
          ]
        },
        {
          "output_type": "stream",
          "name": "stderr",
          "text": [
            "Downloading...\n",
            "From: https://github.com/serengil/deepface_models/releases/download/v1.0/facial_expression_model_weights.h5\n",
            "To: /root/.deepface/weights/facial_expression_model_weights.h5\n",
            "100%|██████████| 5.98M/5.98M [00:00<00:00, 115MB/s]\n",
            "Action: emotion: 100%|██████████| 1/1 [00:06<00:00,  6.58s/it]\n"
          ]
        },
        {
          "output_type": "stream",
          "name": "stdout",
          "text": [
            "[{'emotion': {'angry': 2.7204811573028564, 'disgust': 3.8496024146184027e-07, 'fear': 1.0063357651233673, 'happy': 0.00680559896863997, 'sad': 10.03282368183136, 'surprise': 0.0020465062334551476, 'neutral': 86.23150587081909}, 'dominant_emotion': 'neutral', 'region': {'x': 30, 'y': 50, 'w': 65, 'h': 65}}]\n"
          ]
        },
        {
          "output_type": "stream",
          "name": "stderr",
          "text": [
            "Action: emotion: 100%|██████████| 1/1 [00:00<00:00, 12.54it/s]\n"
          ]
        },
        {
          "output_type": "stream",
          "name": "stdout",
          "text": [
            "[{'emotion': {'angry': 2.1246447489089073, 'disgust': 1.901664848713893e-08, 'fear': 0.034286557916850396, 'happy': 0.0002512492229182152, 'sad': 4.2414514879642145, 'surprise': 1.7301296109425963e-07, 'neutral': 93.59936194427468}, 'dominant_emotion': 'neutral', 'region': {'x': 28, 'y': 51, 'w': 63, 'h': 63}}]\n"
          ]
        },
        {
          "output_type": "stream",
          "name": "stderr",
          "text": [
            "Action: emotion: 100%|██████████| 1/1 [00:00<00:00, 17.80it/s]\n"
          ]
        },
        {
          "output_type": "stream",
          "name": "stdout",
          "text": [
            "[{'emotion': {'angry': 0.31714143697172403, 'disgust': 7.941276759446114e-12, 'fear': 0.020388436678331345, 'happy': 5.864576380076869e-07, 'sad': 19.37987059354782, 'surprise': 1.705554968089995e-09, 'neutral': 80.28260469436646}, 'dominant_emotion': 'neutral', 'region': {'x': 31, 'y': 50, 'w': 65, 'h': 65}}]\n"
          ]
        },
        {
          "output_type": "stream",
          "name": "stderr",
          "text": [
            "Action: emotion: 100%|██████████| 1/1 [00:00<00:00, 12.96it/s]\n"
          ]
        },
        {
          "output_type": "stream",
          "name": "stdout",
          "text": [
            "[{'emotion': {'angry': 11.266442388296127, 'disgust': 1.0986424443804044e-10, 'fear': 0.03680420632008463, 'happy': 6.0797255230227165e-06, 'sad': 16.50884598493576, 'surprise': 2.14297538048136e-09, 'neutral': 72.18790054321289}, 'dominant_emotion': 'neutral', 'region': {'x': 30, 'y': 48, 'w': 64, 'h': 64}}]\n"
          ]
        },
        {
          "output_type": "stream",
          "name": "stderr",
          "text": [
            "Action: emotion: 100%|██████████| 1/1 [00:00<00:00, 17.39it/s]\n"
          ]
        },
        {
          "output_type": "stream",
          "name": "stdout",
          "text": [
            "[{'emotion': {'angry': 0.4706279840320349, 'disgust': 5.386959975317573e-10, 'fear': 1.1910023167729378, 'happy': 0.000255436270890641, 'sad': 22.509941458702087, 'surprise': 5.6404114712194087e-08, 'neutral': 75.82817077636719}, 'dominant_emotion': 'neutral', 'region': {'x': 29, 'y': 51, 'w': 65, 'h': 65}}]\n"
          ]
        },
        {
          "output_type": "stream",
          "name": "stderr",
          "text": [
            "Action: emotion: 100%|██████████| 1/1 [00:00<00:00, 14.26it/s]\n"
          ]
        },
        {
          "output_type": "stream",
          "name": "stdout",
          "text": [
            "[{'emotion': {'angry': 8.665455132722855, 'disgust': 2.5844704509836447e-05, 'fear': 0.08394850883632898, 'happy': 0.0021509360522031784, 'sad': 11.723734438419342, 'surprise': 7.168196702878049e-06, 'neutral': 79.52467799186707}, 'dominant_emotion': 'neutral', 'region': {'x': 25, 'y': 46, 'w': 75, 'h': 75}}]\n"
          ]
        },
        {
          "output_type": "stream",
          "name": "stderr",
          "text": [
            "Action: emotion: 100%|██████████| 1/1 [00:00<00:00, 13.89it/s]\n"
          ]
        },
        {
          "output_type": "stream",
          "name": "stdout",
          "text": [
            "[{'emotion': {'angry': 1.367568678710978, 'disgust': 0.00016561574362075897, 'fear': 0.7811876945160445, 'happy': 12.975960253236309, 'sad': 1.9082431887533182, 'surprise': 0.11992568166483532, 'neutral': 82.84695046227876}, 'dominant_emotion': 'neutral', 'region': {'x': 31, 'y': 47, 'w': 67, 'h': 67}}]\n"
          ]
        },
        {
          "output_type": "stream",
          "name": "stderr",
          "text": [
            "Action: emotion: 100%|██████████| 1/1 [00:00<00:00, 17.27it/s]\n"
          ]
        },
        {
          "output_type": "stream",
          "name": "stdout",
          "text": [
            "[{'emotion': {'angry': 17.499010264873505, 'disgust': 7.565321979985384e-09, 'fear': 0.0004524767064140178, 'happy': 0.24210556875914335, 'sad': 3.3341292291879654, 'surprise': 1.2534459692403743e-06, 'neutral': 78.92429828643799}, 'dominant_emotion': 'neutral', 'region': {'x': 19, 'y': 39, 'w': 51, 'h': 51}}]\n"
          ]
        },
        {
          "output_type": "stream",
          "name": "stderr",
          "text": [
            "Action: emotion: 100%|██████████| 1/1 [00:00<00:00, 13.71it/s]\n"
          ]
        },
        {
          "output_type": "stream",
          "name": "stdout",
          "text": [
            "[{'emotion': {'angry': 0.033053962397389114, 'disgust': 6.541459692308406e-13, 'fear': 0.02090636407956481, 'happy': 0.000105403569250484, 'sad': 2.6178186759352684, 'surprise': 2.7214412057219306e-05, 'neutral': 97.32809066772461}, 'dominant_emotion': 'neutral', 'region': {'x': 18, 'y': 40, 'w': 48, 'h': 48}}]\n"
          ]
        },
        {
          "output_type": "stream",
          "name": "stderr",
          "text": [
            "Action: emotion: 100%|██████████| 1/1 [00:00<00:00, 20.07it/s]\n"
          ]
        },
        {
          "output_type": "stream",
          "name": "stdout",
          "text": [
            "[{'emotion': {'angry': 1.6416773200035095, 'disgust': 3.752921529098785e-07, 'fear': 0.1956549473106861, 'happy': 0.24489951319992542, 'sad': 28.213047981262207, 'surprise': 0.0002578372686912189, 'neutral': 69.70446109771729}, 'dominant_emotion': 'neutral', 'region': {'x': 36, 'y': 50, 'w': 62, 'h': 62}}]\n"
          ]
        },
        {
          "output_type": "stream",
          "name": "stderr",
          "text": [
            "Action: emotion: 100%|██████████| 1/1 [00:00<00:00, 18.05it/s]\n"
          ]
        },
        {
          "output_type": "stream",
          "name": "stdout",
          "text": [
            "[{'emotion': {'angry': 30.051495435923066, 'disgust': 0.0001879576983064869, 'fear': 9.955067035857859, 'happy': 0.6620624962933359, 'sad': 22.929580386256003, 'surprise': 0.08298811648156443, 'neutral': 36.31862022391678}, 'dominant_emotion': 'neutral', 'region': {'x': 21, 'y': 42, 'w': 43, 'h': 43}}]\n"
          ]
        },
        {
          "output_type": "stream",
          "name": "stderr",
          "text": [
            "Action: emotion: 100%|██████████| 1/1 [00:00<00:00, 20.95it/s]\n"
          ]
        },
        {
          "output_type": "stream",
          "name": "stdout",
          "text": [
            "[{'emotion': {'angry': 89.79005217552185, 'disgust': 6.050541401236842e-07, 'fear': 0.0032832791475811973, 'happy': 0.02501466660760343, 'sad': 1.5107501298189163, 'surprise': 1.5198961023088486e-05, 'neutral': 8.670881390571594}, 'dominant_emotion': 'angry', 'region': {'x': 20, 'y': 41, 'w': 42, 'h': 42}}]\n"
          ]
        },
        {
          "output_type": "stream",
          "name": "stderr",
          "text": [
            "Action: emotion: 100%|██████████| 1/1 [00:00<00:00, 17.68it/s]\n"
          ]
        },
        {
          "output_type": "stream",
          "name": "stdout",
          "text": [
            "[{'emotion': {'angry': 15.119858086109161, 'disgust': 0.000262483717961004, 'fear': 17.35249012708664, 'happy': 0.008128312765620649, 'sad': 40.611714124679565, 'surprise': 0.06856766995042562, 'neutral': 26.838979125022888}, 'dominant_emotion': 'sad', 'region': {'x': 17, 'y': 37, 'w': 96, 'h': 96}}]\n"
          ]
        },
        {
          "output_type": "stream",
          "name": "stderr",
          "text": [
            "Action: emotion: 100%|██████████| 1/1 [00:00<00:00, 18.85it/s]\n"
          ]
        },
        {
          "output_type": "stream",
          "name": "stdout",
          "text": [
            "[{'emotion': {'angry': 12.27748617529869, 'disgust': 0.00012737838233078946, 'fear': 5.15890009701252, 'happy': 0.0018787470253300853, 'sad': 41.24492108821869, 'surprise': 0.004013891884824261, 'neutral': 41.31267964839935}, 'dominant_emotion': 'neutral', 'region': {'x': 14, 'y': 33, 'w': 98, 'h': 98}}]\n"
          ]
        },
        {
          "output_type": "stream",
          "name": "stderr",
          "text": [
            "Action: emotion: 100%|██████████| 1/1 [00:00<00:00, 17.79it/s]\n"
          ]
        },
        {
          "output_type": "stream",
          "name": "stdout",
          "text": [
            "[{'emotion': {'angry': 0.18505931366235018, 'disgust': 8.469267243071954e-06, 'fear': 28.952136635780334, 'happy': 0.2322495449334383, 'sad': 21.60264104604721, 'surprise': 0.11671901447698474, 'neutral': 48.911187052726746}, 'dominant_emotion': 'neutral', 'region': {'x': 18, 'y': 38, 'w': 90, 'h': 90}}]\n"
          ]
        },
        {
          "output_type": "stream",
          "name": "stderr",
          "text": [
            "Action: emotion: 100%|██████████| 1/1 [00:00<00:00, 17.24it/s]\n"
          ]
        },
        {
          "output_type": "stream",
          "name": "stdout",
          "text": [
            "[{'emotion': {'angry': 12.26358413696289, 'disgust': 0.0006116551503509982, 'fear': 17.405690252780914, 'happy': 0.03952177648898214, 'sad': 21.962161362171173, 'surprise': 0.00577105165575631, 'neutral': 48.32266569137573}, 'dominant_emotion': 'neutral', 'region': {'x': 14, 'y': 34, 'w': 98, 'h': 98}}]\n"
          ]
        },
        {
          "output_type": "stream",
          "name": "stderr",
          "text": [
            "Action: emotion: 100%|██████████| 1/1 [00:00<00:00, 13.46it/s]\n"
          ]
        },
        {
          "output_type": "stream",
          "name": "stdout",
          "text": [
            "[{'emotion': {'angry': 16.91470694033545, 'disgust': 1.5321407279069488e-06, 'fear': 3.584178005705953, 'happy': 0.06096406504670173, 'sad': 74.29426159228454, 'surprise': 0.053925495316490255, 'neutral': 5.09196550202164}, 'dominant_emotion': 'sad', 'region': {'x': 18, 'y': 39, 'w': 49, 'h': 49}}]\n"
          ]
        },
        {
          "output_type": "stream",
          "name": "stderr",
          "text": [
            "Action: emotion: 100%|██████████| 1/1 [00:00<00:00, 18.28it/s]\n"
          ]
        },
        {
          "output_type": "stream",
          "name": "stdout",
          "text": [
            "[{'emotion': {'angry': 1.1103689670562744, 'disgust': 0.0003547133474057773, 'fear': 8.383867889642715, 'happy': 0.005461397086037323, 'sad': 78.88991236686707, 'surprise': 0.782090425491333, 'neutral': 10.827947407960892}, 'dominant_emotion': 'sad', 'region': {'x': 21, 'y': 41, 'w': 84, 'h': 84}}]\n"
          ]
        },
        {
          "output_type": "stream",
          "name": "stderr",
          "text": [
            "Action: emotion: 100%|██████████| 1/1 [00:00<00:00, 15.95it/s]\n"
          ]
        },
        {
          "output_type": "stream",
          "name": "stdout",
          "text": [
            "[{'emotion': {'angry': 0.030710548162460327, 'disgust': 2.0403906830779306e-05, 'fear': 0.022688139870297164, 'happy': 8.911135047674179, 'sad': 0.4327877890318632, 'surprise': 0.003281169483670965, 'neutral': 90.59937596321106}, 'dominant_emotion': 'neutral', 'region': {'x': 18, 'y': 38, 'w': 49, 'h': 49}}]\n"
          ]
        },
        {
          "output_type": "stream",
          "name": "stderr",
          "text": [
            "Action: emotion: 100%|██████████| 1/1 [00:00<00:00, 18.33it/s]\n"
          ]
        },
        {
          "output_type": "stream",
          "name": "stdout",
          "text": [
            "[{'emotion': {'angry': 12.302687019109726, 'disgust': 3.0020984809198126e-06, 'fear': 4.3472640216350555, 'happy': 2.4930497488639958e-05, 'sad': 65.5044674873352, 'surprise': 2.135536902869717e-06, 'neutral': 17.845556139945984}, 'dominant_emotion': 'sad', 'region': {'x': 25, 'y': 45, 'w': 72, 'h': 72}}]\n"
          ]
        },
        {
          "output_type": "stream",
          "name": "stderr",
          "text": [
            "Action: emotion: 100%|██████████| 1/1 [00:00<00:00, 19.74it/s]\n"
          ]
        },
        {
          "output_type": "stream",
          "name": "stdout",
          "text": [
            "[{'emotion': {'angry': 0.03611544810494162, 'disgust': 1.1681543898855285e-11, 'fear': 1.8854040578150313e-05, 'happy': 97.13744487016736, 'sad': 0.01306800414827143, 'surprise': 0.006162987854436455, 'neutral': 2.807195446752959}, 'dominant_emotion': 'happy', 'region': {'x': 15, 'y': 35, 'w': 56, 'h': 56}}]\n"
          ]
        },
        {
          "output_type": "stream",
          "name": "stderr",
          "text": [
            "Action: emotion: 100%|██████████| 1/1 [00:00<00:00, 17.59it/s]\n"
          ]
        },
        {
          "output_type": "stream",
          "name": "stdout",
          "text": [
            "[{'emotion': {'angry': 0.02282898077079138, 'disgust': 6.9698809263750265e-12, 'fear': 0.10080608734564932, 'happy': 0.03414202831203153, 'sad': 0.1875342810485624, 'surprise': 0.000586518920612245, 'neutral': 99.6540964062099}, 'dominant_emotion': 'neutral', 'region': {'x': 19, 'y': 38, 'w': 27, 'h': 27}}]\n"
          ]
        },
        {
          "output_type": "stream",
          "name": "stderr",
          "text": [
            "Action: emotion: 100%|██████████| 1/1 [00:00<00:00, 18.06it/s]\n"
          ]
        },
        {
          "output_type": "stream",
          "name": "stdout",
          "text": [
            "[{'emotion': {'angry': 78.7624180316925, 'disgust': 0.00264404861809453, 'fear': 3.8712866604328156, 'happy': 0.5816744174808264, 'sad': 10.755512863397598, 'surprise': 4.908131435513496, 'neutral': 1.1183273047208786}, 'dominant_emotion': 'angry', 'region': {'x': 19, 'y': 36, 'w': 90, 'h': 90}}]\n"
          ]
        },
        {
          "output_type": "stream",
          "name": "stderr",
          "text": [
            "Action: emotion: 100%|██████████| 1/1 [00:00<00:00, 18.10it/s]\n"
          ]
        },
        {
          "output_type": "stream",
          "name": "stdout",
          "text": [
            "[{'emotion': {'angry': 0.3155781654641032, 'disgust': 9.355015428980096e-07, 'fear': 6.4515091478824615, 'happy': 0.5153384525328875, 'sad': 6.876081228256226, 'surprise': 0.03529866226017475, 'neutral': 85.80619692802429}, 'dominant_emotion': 'neutral', 'region': {'x': 28, 'y': 48, 'w': 67, 'h': 67}}]\n"
          ]
        },
        {
          "output_type": "stream",
          "name": "stderr",
          "text": [
            "Action: emotion: 100%|██████████| 1/1 [00:00<00:00, 17.60it/s]\n"
          ]
        },
        {
          "output_type": "stream",
          "name": "stdout",
          "text": [
            "[{'emotion': {'angry': 4.627562686800957, 'disgust': 0.0015246413568092976, 'fear': 4.280545562505722, 'happy': 0.09707342251203954, 'sad': 39.376842975616455, 'surprise': 0.017045911226887256, 'neutral': 51.59940719604492}, 'dominant_emotion': 'neutral', 'region': {'x': 27, 'y': 45, 'w': 74, 'h': 74}}]\n"
          ]
        },
        {
          "output_type": "stream",
          "name": "stderr",
          "text": [
            "Action: emotion: 100%|██████████| 1/1 [00:00<00:00, 18.70it/s]\n"
          ]
        },
        {
          "output_type": "stream",
          "name": "stdout",
          "text": [
            "[{'emotion': {'angry': 99.93600248527557, 'disgust': 2.3828053484240287e-07, 'fear': 0.03318383346547436, 'happy': 0.012763078914651742, 'sad': 0.0175282772920276, 'surprise': 1.2412604647230903e-07, 'neutral': 0.0005262071854040443}, 'dominant_emotion': 'angry', 'region': {'x': 28, 'y': 47, 'w': 69, 'h': 69}}]\n"
          ]
        },
        {
          "output_type": "stream",
          "name": "stderr",
          "text": [
            "Action: emotion: 100%|██████████| 1/1 [00:00<00:00, 18.81it/s]\n"
          ]
        },
        {
          "output_type": "stream",
          "name": "stdout",
          "text": [
            "[{'emotion': {'angry': 4.066537329094899e-06, 'disgust': 1.9566123591884416e-14, 'fear': 7.818965030992331e-07, 'happy': 92.90425777435303, 'sad': 0.0004836982043343596, 'surprise': 4.273586640124449e-06, 'neutral': 7.095248997211456}, 'dominant_emotion': 'happy', 'region': {'x': 33, 'y': 48, 'w': 60, 'h': 60}}]\n"
          ]
        },
        {
          "output_type": "stream",
          "name": "stderr",
          "text": [
            "Action: emotion: 100%|██████████| 1/1 [00:00<00:00, 16.71it/s]\n"
          ]
        },
        {
          "output_type": "stream",
          "name": "stdout",
          "text": [
            "[{'emotion': {'angry': 0.047912256504767034, 'disgust': 9.653936537170361e-06, 'fear': 0.031599826316711384, 'happy': 36.461659458974566, 'sad': 0.5519188803833056, 'surprise': 0.033253447854165605, 'neutral': 62.873647384264906}, 'dominant_emotion': 'neutral', 'region': {'x': 18, 'y': 38, 'w': 52, 'h': 52}}]\n"
          ]
        },
        {
          "output_type": "stream",
          "name": "stderr",
          "text": [
            "Action: emotion: 100%|██████████| 1/1 [00:00<00:00, 16.80it/s]\n"
          ]
        },
        {
          "output_type": "stream",
          "name": "stdout",
          "text": [
            "[{'emotion': {'angry': 2.630654349923134, 'disgust': 2.4124993558416463e-06, 'fear': 3.9722569286823273, 'happy': 0.00010787327937578084, 'sad': 86.71320080757141, 'surprise': 0.0007922036274976563, 'neutral': 6.682990491390228}, 'dominant_emotion': 'sad', 'region': {'x': 21, 'y': 43, 'w': 77, 'h': 77}}]\n"
          ]
        },
        {
          "output_type": "stream",
          "name": "stderr",
          "text": [
            "Action: emotion: 100%|██████████| 1/1 [00:00<00:00, 15.51it/s]\n"
          ]
        },
        {
          "output_type": "stream",
          "name": "stdout",
          "text": [
            "[{'emotion': {'angry': 10.17809706069196, 'disgust': 3.223653906189397e-06, 'fear': 2.5578038090829622, 'happy': 1.720956311664109e-05, 'sad': 77.7017864825471, 'surprise': 2.4394572827709863e-06, 'neutral': 9.562292344843428}, 'dominant_emotion': 'sad', 'region': {'x': 24, 'y': 47, 'w': 72, 'h': 72}}]\n"
          ]
        },
        {
          "output_type": "stream",
          "name": "stderr",
          "text": [
            "Action: emotion: 100%|██████████| 1/1 [00:00<00:00, 17.92it/s]\n"
          ]
        },
        {
          "output_type": "stream",
          "name": "stdout",
          "text": [
            "[{'emotion': {'angry': 2.3799060500095948e-05, 'disgust': 2.474185136283613e-10, 'fear': 0.00010816919484568643, 'happy': 35.003265738487244, 'sad': 0.07168137817643583, 'surprise': 2.8171908184049244e-05, 'neutral': 64.92489576339722}, 'dominant_emotion': 'neutral', 'region': {'x': 14, 'y': 35, 'w': 57, 'h': 57}}]\n",
            "An error happened\n"
          ]
        },
        {
          "output_type": "stream",
          "name": "stderr",
          "text": [
            "Action: emotion: 100%|██████████| 1/1 [00:00<00:00, 18.16it/s]\n"
          ]
        },
        {
          "output_type": "stream",
          "name": "stdout",
          "text": [
            "[{'emotion': {'angry': 0.01671358331805095, 'disgust': 1.5734052283278288e-06, 'fear': 0.05269547691568732, 'happy': 0.8590244688093662, 'sad': 0.4875101614743471, 'surprise': 0.02100036945194006, 'neutral': 98.56305718421936}, 'dominant_emotion': 'neutral', 'region': {'x': 28, 'y': 48, 'w': 147, 'h': 147}}]\n"
          ]
        },
        {
          "output_type": "stream",
          "name": "stderr",
          "text": [
            "Action: emotion: 100%|██████████| 1/1 [00:00<00:00, 17.19it/s]\n"
          ]
        },
        {
          "output_type": "stream",
          "name": "stdout",
          "text": [
            "[{'emotion': {'angry': 7.411506026983261, 'disgust': 2.836066315126118e-06, 'fear': 0.2551275072619319, 'happy': 12.986277043819427, 'sad': 2.0852480083703995, 'surprise': 0.05392092280089855, 'neutral': 77.20791697502136}, 'dominant_emotion': 'neutral', 'region': {'x': 18, 'y': 39, 'w': 28, 'h': 28}}]\n",
            "An error happened\n"
          ]
        },
        {
          "output_type": "stream",
          "name": "stderr",
          "text": [
            "Action: emotion: 100%|██████████| 1/1 [00:00<00:00, 18.46it/s]\n"
          ]
        },
        {
          "output_type": "stream",
          "name": "stdout",
          "text": [
            "[{'emotion': {'angry': 0.6286457180976868, 'disgust': 5.84693860168628e-11, 'fear': 0.0005052237156633055, 'happy': 1.2849154984451161e-05, 'sad': 5.30812069773674, 'surprise': 1.777988034579181e-08, 'neutral': 94.06271576881409}, 'dominant_emotion': 'neutral', 'region': {'x': 26, 'y': 47, 'w': 70, 'h': 70}}]\n"
          ]
        },
        {
          "output_type": "stream",
          "name": "stderr",
          "text": [
            "Action: emotion: 100%|██████████| 1/1 [00:00<00:00, 19.84it/s]\n"
          ]
        },
        {
          "output_type": "stream",
          "name": "stdout",
          "text": [
            "[{'emotion': {'angry': 6.467995766640214, 'disgust': 2.0718375654406435e-06, 'fear': 0.4284708249901742, 'happy': 0.03304560565870486, 'sad': 5.933748968392734, 'surprise': 0.0019190163115769738, 'neutral': 87.1348157960396}, 'dominant_emotion': 'neutral', 'region': {'x': 16, 'y': 38, 'w': 53, 'h': 53}}]\n"
          ]
        },
        {
          "output_type": "stream",
          "name": "stderr",
          "text": [
            "Action: emotion: 100%|██████████| 1/1 [00:00<00:00, 17.31it/s]\n"
          ]
        },
        {
          "output_type": "stream",
          "name": "stdout",
          "text": [
            "[{'emotion': {'angry': 97.66356335065146, 'disgust': 8.383698312721919e-17, 'fear': 2.5144019921607186e-06, 'happy': 1.6016016135382082e-06, 'sad': 1.462876697652143, 'surprise': 2.2061514409710857e-14, 'neutral': 0.8735622800029683}, 'dominant_emotion': 'angry', 'region': {'x': 28, 'y': 46, 'w': 68, 'h': 68}}]\n"
          ]
        },
        {
          "output_type": "stream",
          "name": "stderr",
          "text": [
            "Action: emotion: 100%|██████████| 1/1 [00:00<00:00, 19.09it/s]\n"
          ]
        },
        {
          "output_type": "stream",
          "name": "stdout",
          "text": [
            "[{'emotion': {'angry': 0.3460864742747828, 'disgust': 1.1829378360289539e-05, 'fear': 0.09918650039279463, 'happy': 2.537774632142462, 'sad': 0.30847908439362554, 'surprise': 0.0070411177707198425, 'neutral': 96.70141915687437}, 'dominant_emotion': 'neutral', 'region': {'x': 18, 'y': 38, 'w': 27, 'h': 27}}]\n"
          ]
        },
        {
          "output_type": "stream",
          "name": "stderr",
          "text": [
            "Action: emotion: 100%|██████████| 1/1 [00:00<00:00, 19.56it/s]\n"
          ]
        },
        {
          "output_type": "stream",
          "name": "stdout",
          "text": [
            "[{'emotion': {'angry': 1.5102328732609749, 'disgust': 7.237883892230457e-05, 'fear': 59.27005410194397, 'happy': 0.003513101182761602, 'sad': 35.82145273685455, 'surprise': 0.003105292853433639, 'neutral': 3.3915702253580093}, 'dominant_emotion': 'fear', 'region': {'x': 18, 'y': 38, 'w': 29, 'h': 29}}]\n"
          ]
        },
        {
          "output_type": "stream",
          "name": "stderr",
          "text": [
            "Action: emotion: 100%|██████████| 1/1 [00:00<00:00, 18.07it/s]\n"
          ]
        },
        {
          "output_type": "stream",
          "name": "stdout",
          "text": [
            "[{'emotion': {'angry': 0.12067584046487922, 'disgust': 7.899718265951494e-05, 'fear': 0.03707857826160452, 'happy': 0.12357240466655438, 'sad': 2.855264800159359, 'surprise': 5.924063519633952e-05, 'neutral': 96.86327017983554}, 'dominant_emotion': 'neutral', 'region': {'x': 19, 'y': 38, 'w': 28, 'h': 28}}]\n"
          ]
        },
        {
          "output_type": "stream",
          "name": "stderr",
          "text": [
            "Action: emotion: 100%|██████████| 1/1 [00:00<00:00, 14.02it/s]\n"
          ]
        },
        {
          "output_type": "stream",
          "name": "stdout",
          "text": [
            "[{'emotion': {'angry': 9.522036463022232, 'disgust': 0.0001811872721191321, 'fear': 12.21715733408928, 'happy': 0.0714536348823458, 'sad': 47.244080901145935, 'surprise': 0.2821516478434205, 'neutral': 30.662935972213745}, 'dominant_emotion': 'sad', 'region': {'x': 27, 'y': 48, 'w': 66, 'h': 66}}]\n",
            "An error happened\n"
          ]
        },
        {
          "output_type": "stream",
          "name": "stderr",
          "text": [
            "Action: emotion: 100%|██████████| 1/1 [00:00<00:00, 17.71it/s]\n"
          ]
        },
        {
          "output_type": "stream",
          "name": "stdout",
          "text": [
            "[{'emotion': {'angry': 0.01207903551403433, 'disgust': 1.686821917701309e-05, 'fear': 0.042209980892948806, 'happy': 1.3725129887461662, 'sad': 0.35288131330162287, 'surprise': 0.002501711242075544, 'neutral': 98.21779727935791}, 'dominant_emotion': 'neutral', 'region': {'x': 18, 'y': 40, 'w': 27, 'h': 27}}]\n",
            "An error happened\n"
          ]
        },
        {
          "output_type": "stream",
          "name": "stderr",
          "text": [
            "Action: emotion: 100%|██████████| 1/1 [00:00<00:00, 16.71it/s]\n"
          ]
        },
        {
          "output_type": "stream",
          "name": "stdout",
          "text": [
            "[{'emotion': {'angry': 2.9090778902173042, 'disgust': 0.006999065954005346, 'fear': 0.26515519712120295, 'happy': 0.6180115975439548, 'sad': 5.59031181037426, 'surprise': 0.00028324841423454927, 'neutral': 90.61015844345093}, 'dominant_emotion': 'neutral', 'region': {'x': 18, 'y': 38, 'w': 28, 'h': 28}}]\n"
          ]
        },
        {
          "output_type": "stream",
          "name": "stderr",
          "text": [
            "Action: emotion: 100%|██████████| 1/1 [00:00<00:00, 18.26it/s]\n"
          ]
        },
        {
          "output_type": "stream",
          "name": "stdout",
          "text": [
            "[{'emotion': {'angry': 9.263812750577927, 'disgust': 8.829354669614986e-06, 'fear': 4.8689477145671844, 'happy': 0.000611947461948148, 'sad': 24.135585129261017, 'surprise': 3.81535642191011e-05, 'neutral': 61.73099875450134}, 'dominant_emotion': 'neutral', 'region': {'x': 32, 'y': 48, 'w': 63, 'h': 63}}]\n"
          ]
        },
        {
          "output_type": "stream",
          "name": "stderr",
          "text": [
            "Action: emotion: 100%|██████████| 1/1 [00:00<00:00, 19.08it/s]\n"
          ]
        },
        {
          "output_type": "stream",
          "name": "stdout",
          "text": [
            "[{'emotion': {'angry': 6.009272142139418, 'disgust': 0.04062686155062329, 'fear': 55.92006970404748, 'happy': 2.704796617651389, 'sad': 30.663975398066594, 'surprise': 0.051896285365592196, 'neutral': 4.609353290873374}, 'dominant_emotion': 'fear', 'region': {'x': 29, 'y': 46, 'w': 65, 'h': 65}}]\n"
          ]
        },
        {
          "output_type": "stream",
          "name": "stderr",
          "text": [
            "Action: emotion: 100%|██████████| 1/1 [00:00<00:00, 18.80it/s]\n"
          ]
        },
        {
          "output_type": "stream",
          "name": "stdout",
          "text": [
            "[{'emotion': {'angry': 0.4120257217437029, 'disgust': 0.002325136119907256, 'fear': 3.807763010263443, 'happy': 40.72850048542023, 'sad': 2.587922103703022, 'surprise': 0.03781329724006355, 'neutral': 52.42365002632141}, 'dominant_emotion': 'neutral', 'region': {'x': 28, 'y': 48, 'w': 68, 'h': 68}}]\n"
          ]
        },
        {
          "output_type": "stream",
          "name": "stderr",
          "text": [
            "Action: emotion: 100%|██████████| 1/1 [00:00<00:00, 17.06it/s]\n"
          ]
        },
        {
          "output_type": "stream",
          "name": "stdout",
          "text": [
            "[{'emotion': {'angry': 3.2549556344747543, 'disgust': 0.0008699670615897048, 'fear': 48.23465347290039, 'happy': 0.19271726487204432, 'sad': 37.0438277721405, 'surprise': 0.06852143560536206, 'neutral': 11.20445504784584}, 'dominant_emotion': 'fear', 'region': {'x': 29, 'y': 47, 'w': 67, 'h': 67}}]\n"
          ]
        },
        {
          "output_type": "stream",
          "name": "stderr",
          "text": [
            "Action: emotion: 100%|██████████| 1/1 [00:00<00:00, 15.77it/s]\n"
          ]
        },
        {
          "output_type": "stream",
          "name": "stdout",
          "text": [
            "[{'emotion': {'angry': 3.9816275238990784, 'disgust': 9.950764656707634e-07, 'fear': 8.590707927942276, 'happy': 0.19178782822564244, 'sad': 58.09392333030701, 'surprise': 0.04087525303475559, 'neutral': 29.101073741912842}, 'dominant_emotion': 'sad', 'region': {'x': 31, 'y': 47, 'w': 66, 'h': 66}}]\n"
          ]
        },
        {
          "output_type": "stream",
          "name": "stderr",
          "text": [
            "Action: emotion: 100%|██████████| 1/1 [00:00<00:00, 19.21it/s]\n"
          ]
        },
        {
          "output_type": "stream",
          "name": "stdout",
          "text": [
            "[{'emotion': {'angry': 0.2129209227859974, 'disgust': 0.00010089657962453202, 'fear': 0.6023955065757036, 'happy': 16.194765269756317, 'sad': 1.5242424793541431, 'surprise': 0.011187198833795264, 'neutral': 81.45438432693481}, 'dominant_emotion': 'neutral', 'region': {'x': 19, 'y': 40, 'w': 26, 'h': 26}}]\n"
          ]
        },
        {
          "output_type": "stream",
          "name": "stderr",
          "text": [
            "Action: emotion: 100%|██████████| 1/1 [00:00<00:00, 13.69it/s]\n"
          ]
        },
        {
          "output_type": "stream",
          "name": "stdout",
          "text": [
            "[{'emotion': {'angry': 37.99613416194916, 'disgust': 5.275076091493247e-05, 'fear': 3.1017934903502464, 'happy': 4.007427394390106, 'sad': 44.25341188907623, 'surprise': 0.7394366431981325, 'neutral': 9.901745617389679}, 'dominant_emotion': 'sad', 'region': {'x': 27, 'y': 47, 'w': 70, 'h': 70}}]\n"
          ]
        },
        {
          "output_type": "stream",
          "name": "stderr",
          "text": [
            "Action: emotion: 100%|██████████| 1/1 [00:00<00:00, 20.18it/s]\n"
          ]
        },
        {
          "output_type": "stream",
          "name": "stdout",
          "text": [
            "[{'emotion': {'angry': 0.1370594371110201, 'disgust': 4.211236159790133e-06, 'fear': 1.5101195313036442, 'happy': 2.1860411390662193, 'sad': 1.073223352432251, 'surprise': 0.002205989403591957, 'neutral': 95.09134888648987}, 'dominant_emotion': 'neutral', 'region': {'x': 19, 'y': 40, 'w': 26, 'h': 26}}]\n"
          ]
        },
        {
          "output_type": "stream",
          "name": "stderr",
          "text": [
            "Action: emotion: 100%|██████████| 1/1 [00:00<00:00, 17.16it/s]\n"
          ]
        },
        {
          "output_type": "stream",
          "name": "stdout",
          "text": [
            "[{'emotion': {'angry': 15.831728279590607, 'disgust': 0.001467523725295905, 'fear': 45.27660608291626, 'happy': 6.280584633350372, 'sad': 22.011317312717438, 'surprise': 1.6341673210263252, 'neutral': 8.96412581205368}, 'dominant_emotion': 'fear', 'region': {'x': 30, 'y': 48, 'w': 66, 'h': 66}}]\n"
          ]
        },
        {
          "output_type": "stream",
          "name": "stderr",
          "text": [
            "Action: emotion: 100%|██████████| 1/1 [00:00<00:00, 17.98it/s]\n"
          ]
        },
        {
          "output_type": "stream",
          "name": "stdout",
          "text": [
            "[{'emotion': {'angry': 2.9035743325948715, 'disgust': 0.0012136626537539996, 'fear': 25.04679560661316, 'happy': 1.244484819471836, 'sad': 13.712126016616821, 'surprise': 0.09374931105412543, 'neutral': 56.998056173324585}, 'dominant_emotion': 'neutral', 'region': {'x': 31, 'y': 49, 'w': 64, 'h': 64}}]\n"
          ]
        },
        {
          "output_type": "stream",
          "name": "stderr",
          "text": [
            "Action: emotion: 100%|██████████| 1/1 [00:00<00:00, 17.68it/s]\n"
          ]
        },
        {
          "output_type": "stream",
          "name": "stdout",
          "text": [
            "[{'emotion': {'angry': 2.7998575940728188, 'disgust': 0.015301532403100282, 'fear': 21.9855934381485, 'happy': 9.368886798620224, 'sad': 16.30358397960663, 'surprise': 0.012299278751015663, 'neutral': 49.51448142528534}, 'dominant_emotion': 'neutral', 'region': {'x': 19, 'y': 40, 'w': 26, 'h': 26}}]\n",
            "An error happened\n"
          ]
        },
        {
          "output_type": "stream",
          "name": "stderr",
          "text": [
            "Action: emotion: 100%|██████████| 1/1 [00:00<00:00, 16.75it/s]\n"
          ]
        },
        {
          "output_type": "stream",
          "name": "stdout",
          "text": [
            "[{'emotion': {'angry': 2.304106205701828, 'disgust': 0.00018648808008947526, 'fear': 0.015103533223737031, 'happy': 0.056354550179094076, 'sad': 2.4959729984402657, 'surprise': 0.00021096025193401147, 'neutral': 95.12806534767151}, 'dominant_emotion': 'neutral', 'region': {'x': 20, 'y': 39, 'w': 27, 'h': 27}}]\n"
          ]
        },
        {
          "output_type": "stream",
          "name": "stderr",
          "text": [
            "Action: emotion: 100%|██████████| 1/1 [00:00<00:00, 13.54it/s]\n"
          ]
        },
        {
          "output_type": "stream",
          "name": "stdout",
          "text": [
            "[{'emotion': {'angry': 14.802131998030664, 'disgust': 0.019317860765967188, 'fear': 15.736108246777476, 'happy': 0.028523708645189726, 'sad': 46.98219967312821, 'surprise': 0.09685537680520075, 'neutral': 22.3348504698633}, 'dominant_emotion': 'sad', 'region': {'x': 28, 'y': 48, 'w': 68, 'h': 68}}]\n",
            "An error happened\n"
          ]
        },
        {
          "output_type": "stream",
          "name": "stderr",
          "text": [
            "Action: emotion: 100%|██████████| 1/1 [00:00<00:00, 17.17it/s]\n"
          ]
        },
        {
          "output_type": "stream",
          "name": "stdout",
          "text": [
            "[{'emotion': {'angry': 0.7745527196675539, 'disgust': 3.1355202878557975e-06, 'fear': 7.921312004327774, 'happy': 0.0011572195035114419, 'sad': 3.4028273075819016, 'surprise': 0.0019061155398958363, 'neutral': 87.89824843406677}, 'dominant_emotion': 'neutral', 'region': {'x': 19, 'y': 39, 'w': 26, 'h': 26}}]\n"
          ]
        },
        {
          "output_type": "stream",
          "name": "stderr",
          "text": [
            "Action: emotion: 100%|██████████| 1/1 [00:00<00:00, 13.26it/s]\n"
          ]
        },
        {
          "output_type": "stream",
          "name": "stdout",
          "text": [
            "[{'emotion': {'angry': 0.02691443529680731, 'disgust': 3.9650754662927313e-10, 'fear': 0.011054408900655965, 'happy': 0.0004157690702848793, 'sad': 0.19710297939795132, 'surprise': 1.965105084767744e-07, 'neutral': 99.76451395538533}, 'dominant_emotion': 'neutral', 'region': {'x': 18, 'y': 38, 'w': 28, 'h': 28}}]\n",
            "An error happened\n"
          ]
        },
        {
          "output_type": "stream",
          "name": "stderr",
          "text": [
            "Action: emotion: 100%|██████████| 1/1 [00:00<00:00, 16.87it/s]\n"
          ]
        },
        {
          "output_type": "stream",
          "name": "stdout",
          "text": [
            "[{'emotion': {'angry': 0.0029377077157965803, 'disgust': 1.2262817270908266e-05, 'fear': 0.010402958179627846, 'happy': 27.027194322776456, 'sad': 0.2790325953234789, 'surprise': 0.15164338723307175, 'neutral': 72.52877786927091}, 'dominant_emotion': 'neutral', 'region': {'x': 27, 'y': 47, 'w': 71, 'h': 71}}]\n"
          ]
        },
        {
          "output_type": "stream",
          "name": "stderr",
          "text": [
            "Action: emotion: 100%|██████████| 1/1 [00:00<00:00, 18.01it/s]\n"
          ]
        },
        {
          "output_type": "stream",
          "name": "stdout",
          "text": [
            "[{'emotion': {'angry': 83.6894979291855, 'disgust': 2.0174203511185488e-07, 'fear': 0.00604168307831764, 'happy': 5.900751405999149, 'sad': 1.5638624318756122, 'surprise': 3.8149755141769086e-05, 'neutral': 8.839806696165008}, 'dominant_emotion': 'angry', 'region': {'x': 19, 'y': 39, 'w': 27, 'h': 27}}]\n"
          ]
        },
        {
          "output_type": "stream",
          "name": "stderr",
          "text": [
            "Action: emotion: 100%|██████████| 1/1 [00:00<00:00, 18.43it/s]\n"
          ]
        },
        {
          "output_type": "stream",
          "name": "stdout",
          "text": [
            "[{'emotion': {'angry': 28.826043009757996, 'disgust': 0.018838759569916874, 'fear': 1.390844862908125, 'happy': 0.015842553693801165, 'sad': 11.220736801624298, 'surprise': 0.0012259952200111002, 'neutral': 58.52646827697754}, 'dominant_emotion': 'neutral', 'region': {'x': 19, 'y': 39, 'w': 26, 'h': 26}}]\n"
          ]
        },
        {
          "output_type": "stream",
          "name": "stderr",
          "text": [
            "Action: emotion: 100%|██████████| 1/1 [00:00<00:00, 18.96it/s]\n"
          ]
        },
        {
          "output_type": "stream",
          "name": "stdout",
          "text": [
            "[{'emotion': {'angry': 0.0012343889466137625, 'disgust': 2.3718463304511772e-08, 'fear': 0.0006571789526788052, 'happy': 92.02278256416321, 'sad': 0.001137920935434522, 'surprise': 0.0010047902833321132, 'neutral': 7.973184436559677}, 'dominant_emotion': 'happy', 'region': {'x': 29, 'y': 47, 'w': 70, 'h': 70}}]\n"
          ]
        },
        {
          "output_type": "stream",
          "name": "stderr",
          "text": [
            "Action: emotion: 100%|██████████| 1/1 [00:00<00:00, 18.31it/s]\n"
          ]
        },
        {
          "output_type": "stream",
          "name": "stdout",
          "text": [
            "[{'emotion': {'angry': 1.3515027239918709, 'disgust': 0.005110106940264814, 'fear': 3.5001087933778763, 'happy': 38.563182950019836, 'sad': 0.9484041482210159, 'surprise': 0.02089048648485914, 'neutral': 55.61079978942871}, 'dominant_emotion': 'neutral', 'region': {'x': 21, 'y': 43, 'w': 81, 'h': 81}}]\n"
          ]
        },
        {
          "output_type": "stream",
          "name": "stderr",
          "text": [
            "Action: emotion: 100%|██████████| 1/1 [00:00<00:00, 17.61it/s]\n"
          ]
        },
        {
          "output_type": "stream",
          "name": "stdout",
          "text": [
            "[{'emotion': {'angry': 82.83031582832336, 'disgust': 0.0001994538479266339, 'fear': 5.826837569475174, 'happy': 0.9725789539515972, 'sad': 1.199396327137947, 'surprise': 0.29225279577076435, 'neutral': 8.878424018621445}, 'dominant_emotion': 'angry', 'region': {'x': 18, 'y': 40, 'w': 88, 'h': 88}}]\n"
          ]
        },
        {
          "output_type": "stream",
          "name": "stderr",
          "text": [
            "Action: emotion: 100%|██████████| 1/1 [00:00<00:00, 12.80it/s]\n"
          ]
        },
        {
          "output_type": "stream",
          "name": "stdout",
          "text": [
            "[{'emotion': {'angry': 3.609996661543846, 'disgust': 0.00010009435982283321, 'fear': 17.379015684127808, 'happy': 0.021425574959721416, 'sad': 0.08770430576987565, 'surprise': 78.60478162765503, 'neutral': 0.296978116966784}, 'dominant_emotion': 'surprise', 'region': {'x': 24, 'y': 42, 'w': 84, 'h': 84}}]\n"
          ]
        },
        {
          "output_type": "stream",
          "name": "stderr",
          "text": [
            "Action: emotion: 100%|██████████| 1/1 [00:00<00:00, 18.32it/s]\n"
          ]
        },
        {
          "output_type": "stream",
          "name": "stdout",
          "text": [
            "[{'emotion': {'angry': 5.037498101592064, 'disgust': 0.00017619412346903118, 'fear': 0.5548254121094942, 'happy': 2.8045587241649628, 'sad': 2.649860270321369, 'surprise': 0.23094567004591227, 'neutral': 88.72213959693909}, 'dominant_emotion': 'neutral', 'region': {'x': 25, 'y': 46, 'w': 71, 'h': 71}}]\n"
          ]
        },
        {
          "output_type": "stream",
          "name": "stderr",
          "text": [
            "Action: emotion: 100%|██████████| 1/1 [00:00<00:00, 13.32it/s]\n"
          ]
        },
        {
          "output_type": "stream",
          "name": "stdout",
          "text": [
            "[{'emotion': {'angry': 0.0012340612556727137, 'disgust': 1.638149060845251e-07, 'fear': 0.06767426966689527, 'happy': 0.0013674385627382435, 'sad': 0.5458600353449583, 'surprise': 5.112254797268179e-06, 'neutral': 99.38386082649231}, 'dominant_emotion': 'neutral', 'region': {'x': 29, 'y': 48, 'w': 70, 'h': 70}}]\n"
          ]
        },
        {
          "output_type": "stream",
          "name": "stderr",
          "text": [
            "Action: emotion: 100%|██████████| 1/1 [00:00<00:00, 17.76it/s]\n"
          ]
        },
        {
          "output_type": "stream",
          "name": "stdout",
          "text": [
            "[{'emotion': {'angry': 0.0028306198146310635, 'disgust': 3.1688103530047584e-09, 'fear': 0.04706570762209594, 'happy': 27.03816294670105, 'sad': 69.34276819229126, 'surprise': 1.1828446666584114e-06, 'neutral': 3.5691719502210617}, 'dominant_emotion': 'sad', 'region': {'x': 18, 'y': 36, 'w': 90, 'h': 90}}]\n"
          ]
        },
        {
          "output_type": "stream",
          "name": "stderr",
          "text": [
            "Action: emotion: 100%|██████████| 1/1 [00:00<00:00, 18.21it/s]\n"
          ]
        },
        {
          "output_type": "stream",
          "name": "stdout",
          "text": [
            "[{'emotion': {'angry': 0.6387124769389629, 'disgust': 1.114139535566671e-12, 'fear': 0.0034630731533979997, 'happy': 0.12395718367770314, 'sad': 0.038006354589015245, 'surprise': 0.00017586752392162452, 'neutral': 99.19568300247192}, 'dominant_emotion': 'neutral', 'region': {'x': 28, 'y': 46, 'w': 71, 'h': 71}}]\n"
          ]
        },
        {
          "output_type": "stream",
          "name": "stderr",
          "text": [
            "Action: emotion: 100%|██████████| 1/1 [00:00<00:00, 18.69it/s]\n"
          ]
        },
        {
          "output_type": "stream",
          "name": "stdout",
          "text": [
            "[{'emotion': {'angry': 0.2043900434681799, 'disgust': 0.005517283317731817, 'fear': 5.040902572328005, 'happy': 4.674105252272204, 'sad': 3.73224601043737, 'surprise': 0.014409126874230915, 'neutral': 86.32842816879918}, 'dominant_emotion': 'neutral', 'region': {'x': 28, 'y': 50, 'w': 68, 'h': 68}}]\n"
          ]
        },
        {
          "output_type": "stream",
          "name": "stderr",
          "text": [
            "Action: emotion: 100%|██████████| 1/1 [00:00<00:00, 17.03it/s]\n"
          ]
        },
        {
          "output_type": "stream",
          "name": "stdout",
          "text": [
            "[{'emotion': {'angry': 0.43663717806339264, 'disgust': 84.74792242050171, 'fear': 2.340315468609333, 'happy': 0.05548715125769377, 'sad': 0.004707305924966931, 'surprise': 11.013545095920563, 'neutral': 1.4013825915753841}, 'dominant_emotion': 'disgust', 'region': {'x': 14, 'y': 38, 'w': 97, 'h': 97}}]\n"
          ]
        },
        {
          "output_type": "stream",
          "name": "stderr",
          "text": [
            "Action: emotion: 100%|██████████| 1/1 [00:00<00:00, 17.56it/s]\n"
          ]
        },
        {
          "output_type": "stream",
          "name": "stdout",
          "text": [
            "[{'emotion': {'angry': 67.53751635551453, 'disgust': 1.0351012460887432, 'fear': 12.0382621884346, 'happy': 0.09781984845176339, 'sad': 11.599913984537125, 'surprise': 0.11595458490774035, 'neutral': 7.57543221116066}, 'dominant_emotion': 'angry', 'region': {'x': 20, 'y': 41, 'w': 85, 'h': 85}}]\n"
          ]
        },
        {
          "output_type": "stream",
          "name": "stderr",
          "text": [
            "Action: emotion: 100%|██████████| 1/1 [00:00<00:00, 14.90it/s]\n"
          ]
        },
        {
          "output_type": "stream",
          "name": "stdout",
          "text": [
            "[{'emotion': {'angry': 0.00016966270095508662, 'disgust': 3.8672758329028056e-07, 'fear': 1.6429905258519284e-05, 'happy': 9.273837506771088, 'sad': 9.989623777073575e-05, 'surprise': 5.144740744533749e-08, 'neutral': 90.72587490081787}, 'dominant_emotion': 'neutral', 'region': {'x': 18, 'y': 39, 'w': 93, 'h': 93}}]\n"
          ]
        },
        {
          "output_type": "stream",
          "name": "stderr",
          "text": [
            "Action: emotion: 100%|██████████| 1/1 [00:00<00:00, 15.33it/s]\n"
          ]
        },
        {
          "output_type": "stream",
          "name": "stdout",
          "text": [
            "[{'emotion': {'angry': 39.16436731815338, 'disgust': 0.0020858178686467, 'fear': 2.5672852993011475, 'happy': 0.21494782995432615, 'sad': 28.177353739738464, 'surprise': 0.04531173035502434, 'neutral': 29.828640818595886}, 'dominant_emotion': 'angry', 'region': {'x': 32, 'y': 48, 'w': 64, 'h': 64}}]\n"
          ]
        },
        {
          "output_type": "stream",
          "name": "stderr",
          "text": [
            "Action: emotion: 100%|██████████| 1/1 [00:00<00:00, 18.02it/s]\n"
          ]
        },
        {
          "output_type": "stream",
          "name": "stdout",
          "text": [
            "[{'emotion': {'angry': 3.2232541153287206e-12, 'disgust': 2.4627966014896513e-15, 'fear': 4.4180390140584336e-11, 'happy': 99.99923706054688, 'sad': 1.4162190864475122e-08, 'surprise': 8.598649570146222e-10, 'neutral': 0.0007687169272685423}, 'dominant_emotion': 'happy', 'region': {'x': 30, 'y': 49, 'w': 64, 'h': 64}}]\n"
          ]
        },
        {
          "output_type": "stream",
          "name": "stderr",
          "text": [
            "Action: emotion: 100%|██████████| 1/1 [00:00<00:00, 18.14it/s]\n"
          ]
        },
        {
          "output_type": "stream",
          "name": "stdout",
          "text": [
            "[{'emotion': {'angry': 9.366524964571, 'disgust': 0.00029008072033320786, 'fear': 5.282940715551376, 'happy': 0.08245563949458301, 'sad': 73.85854721069336, 'surprise': 0.004683590304921381, 'neutral': 11.404553800821304}, 'dominant_emotion': 'sad', 'region': {'x': 18, 'y': 38, 'w': 27, 'h': 27}}]\n"
          ]
        },
        {
          "output_type": "stream",
          "name": "stderr",
          "text": [
            "Action: emotion: 100%|██████████| 1/1 [00:00<00:00, 16.23it/s]\n"
          ]
        },
        {
          "output_type": "stream",
          "name": "stdout",
          "text": [
            "[{'emotion': {'angry': 0.1420645508915186, 'disgust': 1.8152341851873643e-06, 'fear': 0.08112550131045282, 'happy': 79.63306903839111, 'sad': 0.4712238907814026, 'surprise': 0.011545719462446868, 'neutral': 19.66097205877304}, 'dominant_emotion': 'happy', 'region': {'x': 21, 'y': 43, 'w': 83, 'h': 83}}]\n"
          ]
        },
        {
          "output_type": "stream",
          "name": "stderr",
          "text": [
            "Action: emotion: 100%|██████████| 1/1 [00:00<00:00, 17.89it/s]\n"
          ]
        },
        {
          "output_type": "stream",
          "name": "stdout",
          "text": [
            "[{'emotion': {'angry': 28.4477561712265, 'disgust': 0.00018108216863765847, 'fear': 0.48413570038974285, 'happy': 0.035000170464627445, 'sad': 17.665691673755646, 'surprise': 0.00850020078360103, 'neutral': 53.358739614486694}, 'dominant_emotion': 'neutral', 'region': {'x': 30, 'y': 51, 'w': 69, 'h': 69}}]\n"
          ]
        },
        {
          "output_type": "stream",
          "name": "stderr",
          "text": [
            "Action: emotion: 100%|██████████| 1/1 [00:00<00:00, 16.42it/s]\n"
          ]
        },
        {
          "output_type": "stream",
          "name": "stdout",
          "text": [
            "[{'emotion': {'angry': 0.001923568494078595, 'disgust': 2.4700069851751774e-09, 'fear': 27.497165053913893, 'happy': 15.603796577679907, 'sad': 0.3371605152061889, 'surprise': 31.448643293895916, 'neutral': 25.111313170868943}, 'dominant_emotion': 'surprise', 'region': {'x': 18, 'y': 37, 'w': 28, 'h': 28}}]\n"
          ]
        },
        {
          "output_type": "stream",
          "name": "stderr",
          "text": [
            "Action: emotion: 100%|██████████| 1/1 [00:00<00:00, 18.06it/s]\n"
          ]
        },
        {
          "output_type": "stream",
          "name": "stdout",
          "text": [
            "[{'emotion': {'angry': 0.13869726099073887, 'disgust': 1.178486925823563e-05, 'fear': 97.50032424926758, 'happy': 1.565220020711422, 'sad': 0.43299333192408085, 'surprise': 0.0007868818101997022, 'neutral': 0.36196752917021513}, 'dominant_emotion': 'fear', 'region': {'x': 25, 'y': 47, 'w': 78, 'h': 78}}]\n"
          ]
        },
        {
          "output_type": "stream",
          "name": "stderr",
          "text": [
            "Action: emotion: 100%|██████████| 1/1 [00:00<00:00, 17.36it/s]\n"
          ]
        },
        {
          "output_type": "stream",
          "name": "stdout",
          "text": [
            "[{'emotion': {'angry': 0.011116167297586799, 'disgust': 2.781380032956804e-05, 'fear': 0.12102298205718398, 'happy': 8.5097536444664, 'sad': 1.516361627727747, 'surprise': 0.0072054135671351105, 'neutral': 89.83451724052429}, 'dominant_emotion': 'neutral', 'region': {'x': 19, 'y': 40, 'w': 28, 'h': 28}}]\n"
          ]
        },
        {
          "output_type": "stream",
          "name": "stderr",
          "text": [
            "Action: emotion: 100%|██████████| 1/1 [00:00<00:00, 17.29it/s]\n"
          ]
        },
        {
          "output_type": "stream",
          "name": "stdout",
          "text": [
            "[{'emotion': {'angry': 23.745344579219818, 'disgust': 0.1904363976791501, 'fear': 68.3361828327179, 'happy': 0.6436874158680439, 'sad': 7.027813792228699, 'surprise': 0.008096151577774435, 'neutral': 0.04843438800889999}, 'dominant_emotion': 'fear', 'region': {'x': 22, 'y': 41, 'w': 82, 'h': 82}}]\n"
          ]
        },
        {
          "output_type": "stream",
          "name": "stderr",
          "text": [
            "Action: emotion: 100%|██████████| 1/1 [00:00<00:00, 16.04it/s]\n"
          ]
        },
        {
          "output_type": "stream",
          "name": "stdout",
          "text": [
            "[{'emotion': {'angry': 8.445676677903734, 'disgust': 0.0018456985725782973, 'fear': 76.28789261435182, 'happy': 0.07038731967059608, 'sad': 14.979873893245923, 'surprise': 0.034188812134012536, 'neutral': 0.18013756308481849}, 'dominant_emotion': 'fear', 'region': {'x': 24, 'y': 44, 'w': 78, 'h': 78}}]\n"
          ]
        },
        {
          "output_type": "stream",
          "name": "stderr",
          "text": [
            "Action: emotion: 100%|██████████| 1/1 [00:00<00:00, 18.28it/s]\n"
          ]
        },
        {
          "output_type": "stream",
          "name": "stdout",
          "text": [
            "[{'emotion': {'angry': 12.939727306365967, 'disgust': 0.002668989145604428, 'fear': 1.053730957210064, 'happy': 0.07629773463122547, 'sad': 11.988729983568192, 'surprise': 0.02974620438180864, 'neutral': 73.90909790992737}, 'dominant_emotion': 'neutral', 'region': {'x': 17, 'y': 36, 'w': 32, 'h': 32}}]\n"
          ]
        },
        {
          "output_type": "stream",
          "name": "stderr",
          "text": [
            "Action: emotion: 100%|██████████| 1/1 [00:00<00:00, 19.22it/s]\n"
          ]
        },
        {
          "output_type": "stream",
          "name": "stdout",
          "text": [
            "[{'emotion': {'angry': 1.596890389919281, 'disgust': 8.171726904038223e-05, 'fear': 0.8285300806164742, 'happy': 0.025098322657868266, 'sad': 6.99656680226326, 'surprise': 0.014346629905048758, 'neutral': 90.53848385810852}, 'dominant_emotion': 'neutral', 'region': {'x': 31, 'y': 48, 'w': 67, 'h': 67}}]\n"
          ]
        },
        {
          "output_type": "stream",
          "name": "stderr",
          "text": [
            "Action: emotion: 100%|██████████| 1/1 [00:00<00:00, 17.08it/s]\n"
          ]
        },
        {
          "output_type": "stream",
          "name": "stdout",
          "text": [
            "[{'emotion': {'angry': 0.3796929493546486, 'disgust': 2.4186210367815875e-06, 'fear': 1.1652413755655289, 'happy': 5.54884672164917, 'sad': 5.284992605447769, 'surprise': 0.12123563792556524, 'neutral': 87.49998807907104}, 'dominant_emotion': 'neutral', 'region': {'x': 20, 'y': 43, 'w': 84, 'h': 84}}]\n"
          ]
        },
        {
          "output_type": "stream",
          "name": "stderr",
          "text": [
            "Action: emotion: 100%|██████████| 1/1 [00:00<00:00, 17.24it/s]\n"
          ]
        },
        {
          "output_type": "stream",
          "name": "stdout",
          "text": [
            "[{'emotion': {'angry': 8.937624841928482, 'disgust': 0.0008549669473723043, 'fear': 28.692829608917236, 'happy': 0.09312438196502626, 'sad': 34.894946217536926, 'surprise': 0.01809945097193122, 'neutral': 27.36252248287201}, 'dominant_emotion': 'sad', 'region': {'x': 28, 'y': 48, 'w': 69, 'h': 69}}]\n"
          ]
        },
        {
          "output_type": "stream",
          "name": "stderr",
          "text": [
            "Action: emotion: 100%|██████████| 1/1 [00:00<00:00, 17.76it/s]\n"
          ]
        },
        {
          "output_type": "stream",
          "name": "stdout",
          "text": [
            "[{'emotion': {'angry': 0.012386345770210028, 'disgust': 9.793082261882675e-16, 'fear': 2.4684640442806938e-08, 'happy': 97.18883037567139, 'sad': 6.365681759490371e-07, 'surprise': 1.2771694812840906e-06, 'neutral': 2.7987832203507423}, 'dominant_emotion': 'happy', 'region': {'x': 35, 'y': 47, 'w': 70, 'h': 70}}]\n",
            "An error happened\n"
          ]
        },
        {
          "output_type": "stream",
          "name": "stderr",
          "text": [
            "Action: emotion: 100%|██████████| 1/1 [00:00<00:00, 18.64it/s]\n"
          ]
        },
        {
          "output_type": "stream",
          "name": "stdout",
          "text": [
            "[{'emotion': {'angry': 0.07831845432519913, 'disgust': 0.00016326040395142627, 'fear': 3.4179318696260452, 'happy': 68.87362599372864, 'sad': 0.3719585482031107, 'surprise': 0.05541822174564004, 'neutral': 27.202582359313965}, 'dominant_emotion': 'happy', 'region': {'x': 26, 'y': 45, 'w': 74, 'h': 74}}]\n"
          ]
        },
        {
          "output_type": "stream",
          "name": "stderr",
          "text": [
            "Action: emotion: 100%|██████████| 1/1 [00:00<00:00, 18.29it/s]\n"
          ]
        },
        {
          "output_type": "stream",
          "name": "stdout",
          "text": [
            "[{'emotion': {'angry': 12.82145082950592, 'disgust': 0.0014760380508960225, 'fear': 2.4318458512425423, 'happy': 0.16012616688385606, 'sad': 17.229393124580383, 'surprise': 0.2622445113956928, 'neutral': 67.09346771240234}, 'dominant_emotion': 'neutral', 'region': {'x': 20, 'y': 41, 'w': 85, 'h': 85}}]\n"
          ]
        },
        {
          "output_type": "stream",
          "name": "stderr",
          "text": [
            "Action: emotion: 100%|██████████| 1/1 [00:00<00:00, 16.47it/s]\n"
          ]
        },
        {
          "output_type": "stream",
          "name": "stdout",
          "text": [
            "[{'emotion': {'angry': 0.00048469704030604157, 'disgust': 1.1118438647238638e-10, 'fear': 3.901090172495829e-05, 'happy': 99.98533129604645, 'sad': 3.5907145709835006e-05, 'surprise': 0.0060434584120813185, 'neutral': 0.008066090712072147}, 'dominant_emotion': 'happy', 'region': {'x': 28, 'y': 47, 'w': 70, 'h': 70}}]\n"
          ]
        },
        {
          "output_type": "stream",
          "name": "stderr",
          "text": [
            "Action: emotion: 100%|██████████| 1/1 [00:00<00:00, 17.01it/s]\n"
          ]
        },
        {
          "output_type": "stream",
          "name": "stdout",
          "text": [
            "[{'emotion': {'angry': 60.932499170303345, 'disgust': 0.006806099554523826, 'fear': 0.007545168773503974, 'happy': 0.0028084694349672645, 'sad': 6.9061897695064545, 'surprise': 0.0991478911601007, 'neutral': 32.04500675201416}, 'dominant_emotion': 'angry', 'region': {'x': 29, 'y': 50, 'w': 68, 'h': 68}}]\n"
          ]
        },
        {
          "output_type": "stream",
          "name": "stderr",
          "text": [
            "Action: emotion: 100%|██████████| 1/1 [00:00<00:00, 18.35it/s]\n"
          ]
        },
        {
          "output_type": "stream",
          "name": "stdout",
          "text": [
            "[{'emotion': {'angry': 4.357269753341164e-09, 'disgust': 5.83568484148093e-14, 'fear': 6.511889009790106e-11, 'happy': 99.99502897262573, 'sad': 1.8896924303124507e-08, 'surprise': 1.0643478987049093e-06, 'neutral': 0.004971088856109418}, 'dominant_emotion': 'happy', 'region': {'x': 22, 'y': 44, 'w': 79, 'h': 79}}]\n"
          ]
        },
        {
          "output_type": "stream",
          "name": "stderr",
          "text": [
            "Action: emotion: 100%|██████████| 1/1 [00:00<00:00, 13.59it/s]\n"
          ]
        },
        {
          "output_type": "stream",
          "name": "stdout",
          "text": [
            "[{'emotion': {'angry': 1.6054553911089897, 'disgust': 7.192165973890496e-07, 'fear': 0.11803129455074668, 'happy': 2.209402620792389, 'sad': 0.05820331862196326, 'surprise': 0.06143232458271086, 'neutral': 95.94747424125671}, 'dominant_emotion': 'neutral', 'region': {'x': 20, 'y': 41, 'w': 84, 'h': 84}}]\n",
            "An error happened\n",
            "An error happened\n"
          ]
        },
        {
          "output_type": "stream",
          "name": "stderr",
          "text": [
            "Action: emotion: 100%|██████████| 1/1 [00:00<00:00, 18.71it/s]\n"
          ]
        },
        {
          "output_type": "stream",
          "name": "stdout",
          "text": [
            "[{'emotion': {'angry': 0.05109196645207703, 'disgust': 7.261513439160705e-10, 'fear': 0.021482996817212552, 'happy': 7.1531035006046295, 'sad': 0.023918479564599693, 'surprise': 0.006313135236268863, 'neutral': 92.74409413337708}, 'dominant_emotion': 'neutral', 'region': {'x': 19, 'y': 39, 'w': 26, 'h': 26}}]\n"
          ]
        },
        {
          "output_type": "stream",
          "name": "stderr",
          "text": [
            "Action: emotion: 100%|██████████| 1/1 [00:00<00:00, 17.72it/s]\n"
          ]
        },
        {
          "output_type": "stream",
          "name": "stdout",
          "text": [
            "[{'emotion': {'angry': 0.0019957338736276142, 'disgust': 1.2670626858835021e-05, 'fear': 0.004208557584206574, 'happy': 2.3380864411592484, 'sad': 0.004299687498132698, 'surprise': 0.006352338823489845, 'neutral': 97.6450502872467}, 'dominant_emotion': 'neutral', 'region': {'x': 18, 'y': 37, 'w': 91, 'h': 91}}]\n"
          ]
        },
        {
          "output_type": "stream",
          "name": "stderr",
          "text": [
            "Action: emotion: 100%|██████████| 1/1 [00:00<00:00, 18.68it/s]\n"
          ]
        },
        {
          "output_type": "stream",
          "name": "stdout",
          "text": [
            "[{'emotion': {'angry': 32.161592373942874, 'disgust': 0.04383015591197645, 'fear': 13.110283798592317, 'happy': 0.13207228244526878, 'sad': 19.731843157520483, 'surprise': 0.018193029602387823, 'neutral': 34.80218856347731}, 'dominant_emotion': 'neutral', 'region': {'x': 22, 'y': 42, 'w': 80, 'h': 80}}]\n"
          ]
        },
        {
          "output_type": "stream",
          "name": "stderr",
          "text": [
            "Action: emotion: 100%|██████████| 1/1 [00:00<00:00, 14.03it/s]\n"
          ]
        },
        {
          "output_type": "stream",
          "name": "stdout",
          "text": [
            "[{'emotion': {'angry': 18.20843030264558, 'disgust': 0.0002590202638886258, 'fear': 8.095700776320742, 'happy': 0.000595276050273252, 'sad': 50.155034670533816, 'surprise': 0.1357997150078246, 'neutral': 23.404182398568533}, 'dominant_emotion': 'sad', 'region': {'x': 29, 'y': 45, 'w': 65, 'h': 65}}]\n"
          ]
        },
        {
          "output_type": "stream",
          "name": "stderr",
          "text": [
            "Action: emotion: 100%|██████████| 1/1 [00:00<00:00, 19.12it/s]\n"
          ]
        },
        {
          "output_type": "stream",
          "name": "stdout",
          "text": [
            "[{'emotion': {'angry': 3.1409586043196214e-07, 'disgust': 2.5288166946211242e-12, 'fear': 0.0008191782399080694, 'happy': 33.232393860816956, 'sad': 0.0004549913683149498, 'surprise': 0.012475982657633722, 'neutral': 66.75385236740112}, 'dominant_emotion': 'neutral', 'region': {'x': 30, 'y': 48, 'w': 64, 'h': 64}}]\n"
          ]
        },
        {
          "output_type": "stream",
          "name": "stderr",
          "text": [
            "Action: emotion: 100%|██████████| 1/1 [00:00<00:00, 17.66it/s]\n"
          ]
        },
        {
          "output_type": "stream",
          "name": "stdout",
          "text": [
            "[{'emotion': {'angry': 5.073985457420349, 'disgust': 0.00010049110414911411, 'fear': 1.0301508009433746, 'happy': 0.14186629559844732, 'sad': 6.5347447991371155, 'surprise': 0.005066410085419193, 'neutral': 87.21408247947693}, 'dominant_emotion': 'neutral', 'region': {'x': 18, 'y': 41, 'w': 87, 'h': 87}}]\n"
          ]
        },
        {
          "output_type": "stream",
          "name": "stderr",
          "text": [
            "Action: emotion: 100%|██████████| 1/1 [00:00<00:00, 12.71it/s]\n"
          ]
        },
        {
          "output_type": "stream",
          "name": "stdout",
          "text": [
            "[{'emotion': {'angry': 5.661928526023985e-06, 'disgust': 2.7195628004272753e-17, 'fear': 5.091190490025266e-10, 'happy': 99.97369647026062, 'sad': 1.1659911924866151e-07, 'surprise': 2.2650907816057497e-07, 'neutral': 0.02629751688800752}, 'dominant_emotion': 'happy', 'region': {'x': 23, 'y': 42, 'w': 79, 'h': 79}}]\n"
          ]
        },
        {
          "output_type": "stream",
          "name": "stderr",
          "text": [
            "Action: emotion: 100%|██████████| 1/1 [00:00<00:00, 15.72it/s]\n"
          ]
        },
        {
          "output_type": "stream",
          "name": "stdout",
          "text": [
            "[{'emotion': {'angry': 12.176532298326492, 'disgust': 2.9604223072965397e-05, 'fear': 0.4828001372516155, 'happy': 1.733652502298355, 'sad': 4.067515954375267, 'surprise': 0.11327381944283843, 'neutral': 81.42619729042053}, 'dominant_emotion': 'neutral', 'region': {'x': 29, 'y': 47, 'w': 66, 'h': 66}}]\n"
          ]
        },
        {
          "output_type": "stream",
          "name": "stderr",
          "text": [
            "Action: emotion: 100%|██████████| 1/1 [00:00<00:00, 13.75it/s]\n"
          ]
        },
        {
          "output_type": "stream",
          "name": "stdout",
          "text": [
            "[{'emotion': {'angry': 35.655105113983154, 'disgust': 0.042781190131790936, 'fear': 3.465757891535759, 'happy': 0.051751191494986415, 'sad': 26.479655504226685, 'surprise': 0.02356503246119246, 'neutral': 34.28139090538025}, 'dominant_emotion': 'angry', 'region': {'x': 30, 'y': 48, 'w': 66, 'h': 66}}]\n"
          ]
        },
        {
          "output_type": "stream",
          "name": "stderr",
          "text": [
            "Action: emotion: 100%|██████████| 1/1 [00:00<00:00, 16.67it/s]\n"
          ]
        },
        {
          "output_type": "stream",
          "name": "stdout",
          "text": [
            "[{'emotion': {'angry': 0.20681449677795172, 'disgust': 0.0012406667337927502, 'fear': 2.5892728939652443, 'happy': 0.00040865315895644017, 'sad': 96.95143103599548, 'surprise': 1.1224106799545552e-05, 'neutral': 0.2508217468857765}, 'dominant_emotion': 'sad', 'region': {'x': 18, 'y': 38, 'w': 28, 'h': 28}}]\n"
          ]
        },
        {
          "output_type": "stream",
          "name": "stderr",
          "text": [
            "Action: emotion: 100%|██████████| 1/1 [00:00<00:00, 18.08it/s]\n"
          ]
        },
        {
          "output_type": "stream",
          "name": "stdout",
          "text": [
            "[{'emotion': {'angry': 5.022650584578514, 'disgust': 0.0009347862032882404, 'fear': 2.066022902727127, 'happy': 0.0016183190382434987, 'sad': 23.77891093492508, 'surprise': 4.6345346049747604e-05, 'neutral': 69.12981867790222}, 'dominant_emotion': 'neutral', 'region': {'x': 30, 'y': 52, 'w': 63, 'h': 63}}]\n"
          ]
        },
        {
          "output_type": "stream",
          "name": "stderr",
          "text": [
            "Action: emotion: 100%|██████████| 1/1 [00:00<00:00, 16.88it/s]\n"
          ]
        },
        {
          "output_type": "stream",
          "name": "stdout",
          "text": [
            "[{'emotion': {'angry': 10.5377197265625, 'disgust': 0.02246190997539088, 'fear': 10.181856155395508, 'happy': 0.6686047650873661, 'sad': 51.31731629371643, 'surprise': 0.4103700164705515, 'neutral': 26.86167061328888}, 'dominant_emotion': 'sad', 'region': {'x': 18, 'y': 38, 'w': 28, 'h': 28}}]\n"
          ]
        },
        {
          "output_type": "stream",
          "name": "stderr",
          "text": [
            "Action: emotion: 100%|██████████| 1/1 [00:00<00:00, 17.62it/s]\n"
          ]
        },
        {
          "output_type": "stream",
          "name": "stdout",
          "text": [
            "[{'emotion': {'angry': 0.07361828179391107, 'disgust': 8.684943862456714e-05, 'fear': 0.06151020794483518, 'happy': 76.8065246112972, 'sad': 0.9549500627756193, 'surprise': 0.06109633978487131, 'neutral': 22.042218988206265}, 'dominant_emotion': 'happy', 'region': {'x': 18, 'y': 38, 'w': 27, 'h': 27}}]\n",
            "An error happened\n"
          ]
        },
        {
          "output_type": "stream",
          "name": "stderr",
          "text": [
            "Action: emotion: 100%|██████████| 1/1 [00:00<00:00, 12.37it/s]\n"
          ]
        },
        {
          "output_type": "stream",
          "name": "stdout",
          "text": [
            "[{'emotion': {'angry': 6.024424386093093, 'disgust': 0.16136401504781664, 'fear': 8.965508316098653, 'happy': 5.072965613250063, 'sad': 9.418295691216505, 'surprise': 0.036889400475804454, 'neutral': 70.3205501651108}, 'dominant_emotion': 'neutral', 'region': {'x': 17, 'y': 37, 'w': 29, 'h': 29}}]\n"
          ]
        },
        {
          "output_type": "stream",
          "name": "stderr",
          "text": [
            "Action: emotion: 100%|██████████| 1/1 [00:00<00:00, 14.41it/s]\n"
          ]
        },
        {
          "output_type": "stream",
          "name": "stdout",
          "text": [
            "[{'emotion': {'angry': 4.780515283346176, 'disgust': 5.439793948625038e-07, 'fear': 0.13055986491963267, 'happy': 0.015803003043401986, 'sad': 10.672225058078766, 'surprise': 5.086224632577796e-05, 'neutral': 84.40085053443909}, 'dominant_emotion': 'neutral', 'region': {'x': 18, 'y': 38, 'w': 92, 'h': 92}}]\n"
          ]
        },
        {
          "output_type": "stream",
          "name": "stderr",
          "text": [
            "Action: emotion: 100%|██████████| 1/1 [00:00<00:00, 16.45it/s]\n"
          ]
        },
        {
          "output_type": "stream",
          "name": "stdout",
          "text": [
            "[{'emotion': {'angry': 17.41238385438919, 'disgust': 0.026585004525259137, 'fear': 0.8956043981015682, 'happy': 2.135978825390339, 'sad': 4.555761814117432, 'surprise': 0.02911917690653354, 'neutral': 74.94456171989441}, 'dominant_emotion': 'neutral', 'region': {'x': 23, 'y': 45, 'w': 77, 'h': 77}}]\n"
          ]
        },
        {
          "output_type": "stream",
          "name": "stderr",
          "text": [
            "Action: emotion: 100%|██████████| 1/1 [00:00<00:00, 17.94it/s]\n"
          ]
        },
        {
          "output_type": "stream",
          "name": "stdout",
          "text": [
            "[{'emotion': {'angry': 21.602827310562134, 'disgust': 0.014481888501904905, 'fear': 2.4713920429348946, 'happy': 2.8296463191509247, 'sad': 9.126485139131546, 'surprise': 2.0214688032865524, 'neutral': 61.93370223045349}, 'dominant_emotion': 'neutral', 'region': {'x': 21, 'y': 42, 'w': 84, 'h': 84}}]\n"
          ]
        },
        {
          "output_type": "stream",
          "name": "stderr",
          "text": [
            "Action: emotion: 100%|██████████| 1/1 [00:00<00:00, 13.32it/s]\n"
          ]
        },
        {
          "output_type": "stream",
          "name": "stdout",
          "text": [
            "[{'emotion': {'angry': 0.5838861571333502, 'disgust': 3.490137276268921e-07, 'fear': 1.073146768548892, 'happy': 8.675614202334193e-05, 'sad': 6.759220764590547, 'surprise': 8.705865134786634e-05, 'neutral': 91.58357331654867}, 'dominant_emotion': 'neutral', 'region': {'x': 18, 'y': 38, 'w': 28, 'h': 28}}]\n"
          ]
        },
        {
          "output_type": "stream",
          "name": "stderr",
          "text": [
            "Action: emotion: 100%|██████████| 1/1 [00:00<00:00, 17.09it/s]\n"
          ]
        },
        {
          "output_type": "stream",
          "name": "stdout",
          "text": [
            "[{'emotion': {'angry': 2.756229218383449e-11, 'disgust': 9.957284561791597e-15, 'fear': 1.8115037248023214e-07, 'happy': 99.98892545700073, 'sad': 8.819571462037601e-09, 'surprise': 3.969125543790142e-05, 'neutral': 0.011032124166376889}, 'dominant_emotion': 'happy', 'region': {'x': 29, 'y': 47, 'w': 67, 'h': 67}}]\n"
          ]
        },
        {
          "output_type": "stream",
          "name": "stderr",
          "text": [
            "Action: emotion: 100%|██████████| 1/1 [00:00<00:00, 16.82it/s]\n"
          ]
        },
        {
          "output_type": "stream",
          "name": "stdout",
          "text": [
            "[{'emotion': {'angry': 0.061659340281039476, 'disgust': 0.0008735712981433608, 'fear': 12.737934291362762, 'happy': 67.01173186302185, 'sad': 0.7128998171538115, 'surprise': 7.122999429702759, 'neutral': 12.351901829242706}, 'dominant_emotion': 'happy', 'region': {'x': 19, 'y': 38, 'w': 27, 'h': 27}}]\n"
          ]
        },
        {
          "output_type": "stream",
          "name": "stderr",
          "text": [
            "Action: emotion: 100%|██████████| 1/1 [00:00<00:00, 19.50it/s]\n"
          ]
        },
        {
          "output_type": "stream",
          "name": "stdout",
          "text": [
            "[{'emotion': {'angry': 2.4953859677450696, 'disgust': 0.01355580882155939, 'fear': 92.54791825438521, 'happy': 0.10543429432847568, 'sad': 2.803669163147311, 'surprise': 1.301449568396858, 'neutral': 0.7325807644330544}, 'dominant_emotion': 'fear', 'region': {'x': 21, 'y': 39, 'w': 86, 'h': 86}}]\n"
          ]
        },
        {
          "output_type": "stream",
          "name": "stderr",
          "text": [
            "Action: emotion: 100%|██████████| 1/1 [00:00<00:00, 13.89it/s]\n"
          ]
        },
        {
          "output_type": "stream",
          "name": "stdout",
          "text": [
            "[{'emotion': {'angry': 18.063296377658844, 'disgust': 0.015953771071508527, 'fear': 0.4153822083026171, 'happy': 3.3130813390016556, 'sad': 7.754295319318771, 'surprise': 0.19287182949483395, 'neutral': 70.2451229095459}, 'dominant_emotion': 'neutral', 'region': {'x': 30, 'y': 49, 'w': 67, 'h': 67}}]\n"
          ]
        },
        {
          "output_type": "stream",
          "name": "stderr",
          "text": [
            "Action: emotion: 100%|██████████| 1/1 [00:00<00:00, 18.46it/s]\n"
          ]
        },
        {
          "output_type": "stream",
          "name": "stdout",
          "text": [
            "[{'emotion': {'angry': 5.631209238623471, 'disgust': 0.0024854630048370316, 'fear': 1.0042796576881816, 'happy': 0.7055102006482838, 'sad': 6.665220807168388, 'surprise': 0.022996345238264472, 'neutral': 85.96829343220074}, 'dominant_emotion': 'neutral', 'region': {'x': 28, 'y': 49, 'w': 67, 'h': 67}}]\n"
          ]
        },
        {
          "output_type": "stream",
          "name": "stderr",
          "text": [
            "Action: emotion: 100%|██████████| 1/1 [00:00<00:00, 16.02it/s]\n"
          ]
        },
        {
          "output_type": "stream",
          "name": "stdout",
          "text": [
            "[{'emotion': {'angry': 65.00877916917553, 'disgust': 0.06448758254238457, 'fear': 11.337277899656046, 'happy': 0.027985976037760204, 'sad': 18.753627688125096, 'surprise': 0.0362447709909926, 'neutral': 4.771605330300966}, 'dominant_emotion': 'angry', 'region': {'x': 33, 'y': 49, 'w': 64, 'h': 64}}]\n"
          ]
        },
        {
          "output_type": "stream",
          "name": "stderr",
          "text": [
            "Action: emotion: 100%|██████████| 1/1 [00:00<00:00, 12.03it/s]\n"
          ]
        },
        {
          "output_type": "stream",
          "name": "stdout",
          "text": [
            "[{'emotion': {'angry': 0.8590470068156719, 'disgust': 0.0001019681008074258, 'fear': 1.1651855893433094, 'happy': 80.20432591438293, 'sad': 1.0794471949338913, 'surprise': 0.06002230220474303, 'neutral': 16.631874442100525}, 'dominant_emotion': 'happy', 'region': {'x': 32, 'y': 48, 'w': 64, 'h': 64}}]\n"
          ]
        },
        {
          "output_type": "stream",
          "name": "stderr",
          "text": [
            "Action: emotion: 100%|██████████| 1/1 [00:00<00:00, 12.58it/s]\n"
          ]
        },
        {
          "output_type": "stream",
          "name": "stdout",
          "text": [
            "[{'emotion': {'angry': 4.733871296048164, 'disgust': 0.0019345518012414686, 'fear': 0.3097781213000417, 'happy': 11.931194365024567, 'sad': 9.910709410905838, 'surprise': 0.01878094772109762, 'neutral': 73.09373021125793}, 'dominant_emotion': 'neutral', 'region': {'x': 22, 'y': 41, 'w': 81, 'h': 81}}]\n",
            "An error happened\n"
          ]
        },
        {
          "output_type": "stream",
          "name": "stderr",
          "text": [
            "Action: emotion: 100%|██████████| 1/1 [00:00<00:00, 10.94it/s]\n"
          ]
        },
        {
          "output_type": "stream",
          "name": "stdout",
          "text": [
            "[{'emotion': {'angry': 1.6434645280241966, 'disgust': 15.607850253582, 'fear': 4.957710579037666, 'happy': 0.9133869782090187, 'sad': 27.647259831428528, 'surprise': 1.8065903335809708, 'neutral': 47.42373526096344}, 'dominant_emotion': 'neutral', 'region': {'x': 19, 'y': 40, 'w': 26, 'h': 26}}]\n"
          ]
        },
        {
          "output_type": "stream",
          "name": "stderr",
          "text": [
            "Action: emotion: 100%|██████████| 1/1 [00:00<00:00, 11.54it/s]\n"
          ]
        },
        {
          "output_type": "stream",
          "name": "stdout",
          "text": [
            "[{'emotion': {'angry': 0.00022639221697318135, 'disgust': 1.563854297795264e-11, 'fear': 0.06372621865011752, 'happy': 0.3775570308789611, 'sad': 37.739962339401245, 'surprise': 0.004132501635467634, 'neutral': 61.81439161300659}, 'dominant_emotion': 'neutral', 'region': {'x': 21, 'y': 41, 'w': 84, 'h': 84}}]\n"
          ]
        },
        {
          "output_type": "stream",
          "name": "stderr",
          "text": [
            "Action: emotion: 100%|██████████| 1/1 [00:00<00:00, 10.15it/s]\n"
          ]
        },
        {
          "output_type": "stream",
          "name": "stdout",
          "text": [
            "[{'emotion': {'angry': 5.0774204580682885e-05, 'disgust': 9.789768863402953e-12, 'fear': 8.236242401626789e-07, 'happy': 91.98013496280521, 'sad': 0.00016033786597099823, 'surprise': 6.334754432229571e-07, 'neutral': 8.01965046046081}, 'dominant_emotion': 'happy', 'region': {'x': 31, 'y': 50, 'w': 68, 'h': 68}}]\n"
          ]
        },
        {
          "output_type": "stream",
          "name": "stderr",
          "text": [
            "Action: emotion: 100%|██████████| 1/1 [00:00<00:00,  9.79it/s]\n"
          ]
        },
        {
          "output_type": "stream",
          "name": "stdout",
          "text": [
            "[{'emotion': {'angry': 67.15860366821289, 'disgust': 0.0007058255050651496, 'fear': 1.3057629577815533, 'happy': 2.512264624238014, 'sad': 11.569765955209732, 'surprise': 1.1837190017104149, 'neutral': 16.26918315887451}, 'dominant_emotion': 'angry', 'region': {'x': 17, 'y': 38, 'w': 91, 'h': 91}}]\n"
          ]
        },
        {
          "output_type": "stream",
          "name": "stderr",
          "text": [
            "Action: emotion: 100%|██████████| 1/1 [00:00<00:00, 10.18it/s]\n"
          ]
        },
        {
          "output_type": "stream",
          "name": "stdout",
          "text": [
            "[{'emotion': {'angry': 15.133896156084996, 'disgust': 1.159046906838197e-05, 'fear': 0.37037967945579536, 'happy': 0.03637474877204015, 'sad': 9.32805352472621, 'surprise': 0.009728860027115715, 'neutral': 75.12154875736847}, 'dominant_emotion': 'neutral', 'region': {'x': 25, 'y': 45, 'w': 73, 'h': 73}}]\n"
          ]
        },
        {
          "output_type": "stream",
          "name": "stderr",
          "text": [
            "Action: emotion: 100%|██████████| 1/1 [00:00<00:00, 11.09it/s]\n"
          ]
        },
        {
          "output_type": "stream",
          "name": "stdout",
          "text": [
            "[{'emotion': {'angry': 0.6335295736789703, 'disgust': 1.0683574025449616e-07, 'fear': 23.162657022476196, 'happy': 9.845920203588321e-05, 'sad': 65.9738540649414, 'surprise': 0.00013070547311144765, 'neutral': 10.229731351137161}, 'dominant_emotion': 'sad', 'region': {'x': 18, 'y': 38, 'w': 28, 'h': 28}}]\n"
          ]
        },
        {
          "output_type": "stream",
          "name": "stderr",
          "text": [
            "Action: emotion: 100%|██████████| 1/1 [00:00<00:00, 10.41it/s]\n"
          ]
        },
        {
          "output_type": "stream",
          "name": "stdout",
          "text": [
            "[{'emotion': {'angry': 2.9986245557665825, 'disgust': 6.441296829251542e-07, 'fear': 0.016314780805259943, 'happy': 0.006096700963098556, 'sad': 4.403312876820564, 'surprise': 0.0001695915329946729, 'neutral': 92.57548451423645}, 'dominant_emotion': 'neutral', 'region': {'x': 17, 'y': 36, 'w': 55, 'h': 55}}]\n"
          ]
        },
        {
          "output_type": "stream",
          "name": "stderr",
          "text": [
            "Action: emotion: 100%|██████████| 1/1 [00:00<00:00, 13.30it/s]\n"
          ]
        },
        {
          "output_type": "stream",
          "name": "stdout",
          "text": [
            "[{'emotion': {'angry': 9.820019242212652e-08, 'disgust': 5.1475340951719515e-17, 'fear': 1.5736886238570946e-07, 'happy': 99.57410097122192, 'sad': 7.728969109166428e-06, 'surprise': 4.4940273369320494e-05, 'neutral': 0.42584934271872044}, 'dominant_emotion': 'happy', 'region': {'x': 21, 'y': 42, 'w': 83, 'h': 83}}]\n"
          ]
        },
        {
          "output_type": "stream",
          "name": "stderr",
          "text": [
            "Action: emotion: 100%|██████████| 1/1 [00:00<00:00, 13.58it/s]\n"
          ]
        },
        {
          "output_type": "stream",
          "name": "stdout",
          "text": [
            "[{'emotion': {'angry': 0.6390752270817757, 'disgust': 0.0032674124668119475, 'fear': 27.029812335968018, 'happy': 68.69949698448181, 'sad': 2.6432689279317856, 'surprise': 0.054208701476454735, 'neutral': 0.9308680891990662}, 'dominant_emotion': 'happy', 'region': {'x': 22, 'y': 44, 'w': 81, 'h': 81}}]\n"
          ]
        },
        {
          "output_type": "stream",
          "name": "stderr",
          "text": [
            "Action: emotion: 100%|██████████| 1/1 [00:00<00:00, 10.78it/s]\n"
          ]
        },
        {
          "output_type": "stream",
          "name": "stdout",
          "text": [
            "[{'emotion': {'angry': 3.178762426614412e-05, 'disgust': 3.1059228522423155e-07, 'fear': 0.0005038740710006095, 'happy': 98.07661771774292, 'sad': 0.0060480204410851, 'surprise': 0.0003443927425905713, 'neutral': 1.9164545461535454}, 'dominant_emotion': 'happy', 'region': {'x': 30, 'y': 49, 'w': 67, 'h': 67}}]\n"
          ]
        },
        {
          "output_type": "stream",
          "name": "stderr",
          "text": [
            "Action: emotion: 100%|██████████| 1/1 [00:00<00:00, 10.64it/s]\n"
          ]
        },
        {
          "output_type": "stream",
          "name": "stdout",
          "text": [
            "[{'emotion': {'angry': 0.14668602377566411, 'disgust': 0.0013704781125567869, 'fear': 0.02825800283623453, 'happy': 58.77124562606268, 'sad': 3.7705938493497553, 'surprise': 3.4867340410635695e-06, 'neutral': 37.28183361508446}, 'dominant_emotion': 'happy', 'region': {'x': 18, 'y': 39, 'w': 28, 'h': 28}}]\n"
          ]
        },
        {
          "output_type": "stream",
          "name": "stderr",
          "text": [
            "Action: emotion: 100%|██████████| 1/1 [00:00<00:00, 12.08it/s]\n"
          ]
        },
        {
          "output_type": "stream",
          "name": "stdout",
          "text": [
            "[{'emotion': {'angry': 20.599256455898285, 'disgust': 0.0011648088729998562, 'fear': 1.3922217302024364, 'happy': 0.04611750191543251, 'sad': 35.07395684719086, 'surprise': 0.01941216760315001, 'neutral': 42.86787211894989}, 'dominant_emotion': 'neutral', 'region': {'x': 27, 'y': 49, 'w': 68, 'h': 68}}]\n"
          ]
        },
        {
          "output_type": "stream",
          "name": "stderr",
          "text": [
            "Action: emotion: 100%|██████████| 1/1 [00:00<00:00, 11.42it/s]\n"
          ]
        },
        {
          "output_type": "stream",
          "name": "stdout",
          "text": [
            "[{'emotion': {'angry': 0.8683112036175253, 'disgust': 9.991269421141471e-05, 'fear': 0.19417103605991817, 'happy': 4.6823463399616685, 'sad': 2.3276488752751874, 'surprise': 0.008348774778956162, 'neutral': 91.9190759610579}, 'dominant_emotion': 'neutral', 'region': {'x': 29, 'y': 49, 'w': 66, 'h': 66}}]\n"
          ]
        },
        {
          "output_type": "stream",
          "name": "stderr",
          "text": [
            "Action: emotion: 100%|██████████| 1/1 [00:00<00:00, 11.31it/s]\n"
          ]
        },
        {
          "output_type": "stream",
          "name": "stdout",
          "text": [
            "[{'emotion': {'angry': 5.418935699469385e-11, 'disgust': 2.7495289690806573e-17, 'fear': 3.0552988744813334e-13, 'happy': 99.9998927116394, 'sad': 2.2394087452470846e-10, 'surprise': 1.0673133384042632e-09, 'neutral': 0.00010438521940159262}, 'dominant_emotion': 'happy', 'region': {'x': 28, 'y': 52, 'w': 66, 'h': 66}}]\n"
          ]
        },
        {
          "output_type": "stream",
          "name": "stderr",
          "text": [
            "Action: emotion: 100%|██████████| 1/1 [00:00<00:00, 11.08it/s]\n"
          ]
        },
        {
          "output_type": "stream",
          "name": "stdout",
          "text": [
            "[{'emotion': {'angry': 7.324551382081879e-09, 'disgust': 2.9722975071749537e-15, 'fear': 2.3240177143835083e-10, 'happy': 99.95040893554688, 'sad': 6.9163452742770914e-09, 'surprise': 1.8658538603055774e-08, 'neutral': 0.04959042416885495}, 'dominant_emotion': 'happy', 'region': {'x': 20, 'y': 42, 'w': 86, 'h': 86}}]\n"
          ]
        },
        {
          "output_type": "stream",
          "name": "stderr",
          "text": [
            "Action: emotion: 100%|██████████| 1/1 [00:00<00:00,  9.53it/s]\n"
          ]
        },
        {
          "output_type": "stream",
          "name": "stdout",
          "text": [
            "[{'emotion': {'angry': 4.8442154730391756e-05, 'disgust': 6.19019820280118e-13, 'fear': 3.145583329639614e-06, 'happy': 62.79191818333648, 'sad': 0.00029267176763726283, 'surprise': 2.7322002733945246e-06, 'neutral': 37.20773312953315}, 'dominant_emotion': 'happy', 'region': {'x': 24, 'y': 43, 'w': 81, 'h': 81}}]\n"
          ]
        },
        {
          "output_type": "stream",
          "name": "stderr",
          "text": [
            "Action: emotion: 100%|██████████| 1/1 [00:00<00:00,  8.63it/s]\n"
          ]
        },
        {
          "output_type": "stream",
          "name": "stdout",
          "text": [
            "[{'emotion': {'angry': 1.6892154776582406, 'disgust': 0.02614205451504466, 'fear': 97.15902788394855, 'happy': 0.11628561880651825, 'sad': 0.120897842792293, 'surprise': 0.001046458299770794, 'neutral': 0.8873886957698283}, 'dominant_emotion': 'fear', 'region': {'x': 14, 'y': 34, 'w': 103, 'h': 103}}]\n"
          ]
        },
        {
          "output_type": "stream",
          "name": "stderr",
          "text": [
            "Action: emotion: 100%|██████████| 1/1 [00:00<00:00, 12.06it/s]\n"
          ]
        },
        {
          "output_type": "stream",
          "name": "stdout",
          "text": [
            "[{'emotion': {'angry': 0.022040060139261186, 'disgust': 0.0003207363533874741, 'fear': 0.02830526209436357, 'happy': 81.18493556976318, 'sad': 0.7683855015784502, 'surprise': 0.004084921602043323, 'neutral': 17.99192875623703}, 'dominant_emotion': 'happy', 'region': {'x': 30, 'y': 50, 'w': 64, 'h': 64}}]\n"
          ]
        },
        {
          "output_type": "stream",
          "name": "stderr",
          "text": [
            "Action: emotion: 100%|██████████| 1/1 [00:00<00:00, 13.01it/s]\n"
          ]
        },
        {
          "output_type": "stream",
          "name": "stdout",
          "text": [
            "[{'emotion': {'angry': 0.008480386895826086, 'disgust': 5.3568374779391914e-11, 'fear': 3.591396477986564e-05, 'happy': 66.83908104896545, 'sad': 0.00027264761683909455, 'surprise': 0.00030043941023905063, 'neutral': 33.1518292427063}, 'dominant_emotion': 'happy', 'region': {'x': 20, 'y': 42, 'w': 83, 'h': 83}}]\n"
          ]
        },
        {
          "output_type": "stream",
          "name": "stderr",
          "text": [
            "Action: emotion: 100%|██████████| 1/1 [00:00<00:00, 11.90it/s]\n"
          ]
        },
        {
          "output_type": "stream",
          "name": "stdout",
          "text": [
            "[{'emotion': {'angry': 9.340449480532698e-06, 'disgust': 5.2670958279555855e-12, 'fear': 0.05004942649975419, 'happy': 38.16761374473572, 'sad': 0.00012016118944302434, 'surprise': 0.048210000386461616, 'neutral': 61.733996868133545}, 'dominant_emotion': 'neutral', 'region': {'x': 19, 'y': 39, 'w': 90, 'h': 90}}]\n"
          ]
        },
        {
          "output_type": "stream",
          "name": "stderr",
          "text": [
            "Action: emotion: 100%|██████████| 1/1 [00:00<00:00, 17.04it/s]\n"
          ]
        },
        {
          "output_type": "stream",
          "name": "stdout",
          "text": [
            "[{'emotion': {'angry': 58.19816589355469, 'disgust': 2.1069514843929937e-05, 'fear': 0.028551756986416876, 'happy': 0.24898771662265062, 'sad': 5.153816193342209, 'surprise': 5.534125602224549e-07, 'neutral': 36.37045919895172}, 'dominant_emotion': 'angry', 'region': {'x': 25, 'y': 43, 'w': 76, 'h': 76}}]\n"
          ]
        },
        {
          "output_type": "stream",
          "name": "stderr",
          "text": [
            "Action: emotion: 100%|██████████| 1/1 [00:00<00:00, 13.41it/s]\n"
          ]
        },
        {
          "output_type": "stream",
          "name": "stdout",
          "text": [
            "[{'emotion': {'angry': 0.15897353661647656, 'disgust': 9.201391983899543e-05, 'fear': 11.811961937663671, 'happy': 6.429335113128133, 'sad': 2.961890017204882, 'surprise': 0.012302483816034127, 'neutral': 78.62544528397592}, 'dominant_emotion': 'neutral', 'region': {'x': 30, 'y': 49, 'w': 69, 'h': 69}}]\n"
          ]
        },
        {
          "output_type": "stream",
          "name": "stderr",
          "text": [
            "Action: emotion: 100%|██████████| 1/1 [00:00<00:00, 18.86it/s]\n"
          ]
        },
        {
          "output_type": "stream",
          "name": "stdout",
          "text": [
            "[{'emotion': {'angry': 2.7395662379781918, 'disgust': 0.011679516382303, 'fear': 15.944686121381984, 'happy': 1.446400037837024, 'sad': 8.784375037625427, 'surprise': 0.01501628833628734, 'neutral': 71.05827080508818}, 'dominant_emotion': 'neutral', 'region': {'x': 30, 'y': 50, 'w': 68, 'h': 68}}]\n"
          ]
        },
        {
          "output_type": "stream",
          "name": "stderr",
          "text": [
            "Action: emotion: 100%|██████████| 1/1 [00:00<00:00, 17.51it/s]\n"
          ]
        },
        {
          "output_type": "stream",
          "name": "stdout",
          "text": [
            "[{'emotion': {'angry': 9.74029079079628, 'disgust': 0.4640714731067419, 'fear': 2.3818856105208397, 'happy': 0.033888808684423566, 'sad': 16.623632609844208, 'surprise': 0.016781648446340114, 'neutral': 70.73944807052612}, 'dominant_emotion': 'neutral', 'region': {'x': 27, 'y': 48, 'w': 68, 'h': 68}}]\n"
          ]
        },
        {
          "output_type": "stream",
          "name": "stderr",
          "text": [
            "Action: emotion: 100%|██████████| 1/1 [00:00<00:00, 16.66it/s]\n"
          ]
        },
        {
          "output_type": "stream",
          "name": "stdout",
          "text": [
            "[{'emotion': {'angry': 2.8761371888690762e-06, 'disgust': 9.322429452209425e-11, 'fear': 6.430812319603971e-05, 'happy': 96.76894526296527, 'sad': 0.00021805239092853435, 'surprise': 0.002290677684979394, 'neutral': 3.2284824239303127}, 'dominant_emotion': 'happy', 'region': {'x': 28, 'y': 51, 'w': 67, 'h': 67}}]\n"
          ]
        },
        {
          "output_type": "stream",
          "name": "stderr",
          "text": [
            "Action: emotion: 100%|██████████| 1/1 [00:00<00:00, 15.57it/s]\n"
          ]
        },
        {
          "output_type": "stream",
          "name": "stdout",
          "text": [
            "[{'emotion': {'angry': 21.481048641329842, 'disgust': 3.3453316807496906e-11, 'fear': 0.4993242341219466, 'happy': 0.10497403651166397, 'sad': 0.947864559783287, 'surprise': 0.021238073153396476, 'neutral': 76.94555246180921}, 'dominant_emotion': 'neutral', 'region': {'x': 30, 'y': 49, 'w': 65, 'h': 65}}]\n"
          ]
        },
        {
          "output_type": "stream",
          "name": "stderr",
          "text": [
            "Action: emotion: 100%|██████████| 1/1 [00:00<00:00, 14.78it/s]\n"
          ]
        },
        {
          "output_type": "stream",
          "name": "stdout",
          "text": [
            "[{'emotion': {'angry': 2.510180081571889e-05, 'disgust': 8.277659446775942e-07, 'fear': 0.001546463681734167, 'happy': 98.87336492538452, 'sad': 0.001082122980733402, 'surprise': 2.805195242761016e-08, 'neutral': 1.1239810846745968}, 'dominant_emotion': 'happy', 'region': {'x': 31, 'y': 49, 'w': 63, 'h': 63}}]\n"
          ]
        },
        {
          "output_type": "stream",
          "name": "stderr",
          "text": [
            "Action: emotion: 100%|██████████| 1/1 [00:00<00:00, 18.87it/s]\n"
          ]
        },
        {
          "output_type": "stream",
          "name": "stdout",
          "text": [
            "[{'emotion': {'angry': 2.3688610643148422, 'disgust': 0.012671154399868101, 'fear': 29.727062582969666, 'happy': 4.23145592212677, 'sad': 10.754796117544174, 'surprise': 0.023740601318422705, 'neutral': 52.88141369819641}, 'dominant_emotion': 'neutral', 'region': {'x': 17, 'y': 38, 'w': 90, 'h': 90}}]\n"
          ]
        },
        {
          "output_type": "stream",
          "name": "stderr",
          "text": [
            "Action: emotion: 100%|██████████| 1/1 [00:00<00:00, 16.16it/s]\n"
          ]
        },
        {
          "output_type": "stream",
          "name": "stdout",
          "text": [
            "[{'emotion': {'angry': 0.5937238112076408, 'disgust': 0.00040168950029067043, 'fear': 0.10826856077573066, 'happy': 0.11413316922683532, 'sad': 3.2783838080396537, 'surprise': 0.000185918588326204, 'neutral': 95.90490435987141}, 'dominant_emotion': 'neutral', 'region': {'x': 28, 'y': 46, 'w': 67, 'h': 67}}]\n"
          ]
        },
        {
          "output_type": "stream",
          "name": "stderr",
          "text": [
            "Action: emotion: 100%|██████████| 1/1 [00:00<00:00, 17.50it/s]\n"
          ]
        },
        {
          "output_type": "stream",
          "name": "stdout",
          "text": [
            "[{'emotion': {'angry': 0.0018602620912133716, 'disgust': 2.9728093409175926e-05, 'fear': 0.056320399744436145, 'happy': 89.37787413597107, 'sad': 0.025727730826474726, 'surprise': 0.013888682588003576, 'neutral': 10.524304956197739}, 'dominant_emotion': 'happy', 'region': {'x': 27, 'y': 45, 'w': 71, 'h': 71}}]\n",
            "An error happened\n"
          ]
        },
        {
          "output_type": "stream",
          "name": "stderr",
          "text": [
            "Action: emotion: 100%|██████████| 1/1 [00:00<00:00, 16.90it/s]\n"
          ]
        },
        {
          "output_type": "stream",
          "name": "stdout",
          "text": [
            "[{'emotion': {'angry': 1.3476700393956924, 'disgust': 0.0036462241395920003, 'fear': 0.9592271981672763, 'happy': 0.018717306035484733, 'sad': 10.965410528505476, 'surprise': 0.00292494623107748, 'neutral': 86.7024056138042}, 'dominant_emotion': 'neutral', 'region': {'x': 33, 'y': 48, 'w': 62, 'h': 62}}]\n"
          ]
        },
        {
          "output_type": "stream",
          "name": "stderr",
          "text": [
            "Action: emotion: 100%|██████████| 1/1 [00:00<00:00, 15.45it/s]\n"
          ]
        },
        {
          "output_type": "stream",
          "name": "stdout",
          "text": [
            "[{'emotion': {'angry': 1.935800351202488, 'disgust': 0.0006683415904262802, 'fear': 11.01374700665474, 'happy': 0.2553832484409213, 'sad': 8.573266118764877, 'surprise': 0.010528683924349025, 'neutral': 78.2106101512909}, 'dominant_emotion': 'neutral', 'region': {'x': 29, 'y': 48, 'w': 65, 'h': 65}}]\n"
          ]
        },
        {
          "output_type": "stream",
          "name": "stderr",
          "text": [
            "Action: emotion: 100%|██████████| 1/1 [00:00<00:00, 16.75it/s]\n"
          ]
        },
        {
          "output_type": "stream",
          "name": "stdout",
          "text": [
            "[{'emotion': {'angry': 42.81053628795907, 'disgust': 0.19965663034836884, 'fear': 7.78089594472695, 'happy': 0.14284704273154822, 'sad': 24.168773094561924, 'surprise': 11.994927436718054, 'neutral': 12.902355146127325}, 'dominant_emotion': 'angry', 'region': {'x': 18, 'y': 37, 'w': 90, 'h': 90}}]\n"
          ]
        },
        {
          "output_type": "stream",
          "name": "stderr",
          "text": [
            "Action: emotion: 100%|██████████| 1/1 [00:00<00:00, 16.70it/s]\n"
          ]
        },
        {
          "output_type": "stream",
          "name": "stdout",
          "text": [
            "[{'emotion': {'angry': 25.398215698983158, 'disgust': 35.922135224596886, 'fear': 2.2334418128063454, 'happy': 0.07174533366542561, 'sad': 19.260517568649956, 'surprise': 0.21214259523363058, 'neutral': 16.90180503151477}, 'dominant_emotion': 'disgust', 'region': {'x': 28, 'y': 48, 'w': 68, 'h': 68}}]\n",
            "An error happened\n"
          ]
        },
        {
          "output_type": "stream",
          "name": "stderr",
          "text": [
            "Action: emotion: 100%|██████████| 1/1 [00:00<00:00, 16.72it/s]\n"
          ]
        },
        {
          "output_type": "stream",
          "name": "stdout",
          "text": [
            "[{'emotion': {'angry': 1.184048059599263e-06, 'disgust': 1.351727432243044e-10, 'fear': 0.0008452263500657864, 'happy': 99.64488744735718, 'sad': 0.0002864051111828303, 'surprise': 0.0006597046194656286, 'neutral': 0.3533243201673031}, 'dominant_emotion': 'happy', 'region': {'x': 19, 'y': 41, 'w': 86, 'h': 86}}]\n"
          ]
        },
        {
          "output_type": "stream",
          "name": "stderr",
          "text": [
            "Action: emotion: 100%|██████████| 1/1 [00:00<00:00, 18.64it/s]\n"
          ]
        },
        {
          "output_type": "stream",
          "name": "stdout",
          "text": [
            "[{'emotion': {'angry': 1.541196595613983e-07, 'disgust': 7.966459456043335e-11, 'fear': 1.2913324868611797e-05, 'happy': 96.22061826113571, 'sad': 0.00013178777966172122, 'surprise': 4.3944029703121423e-05, 'neutral': 3.77919882709973}, 'dominant_emotion': 'happy', 'region': {'x': 29, 'y': 51, 'w': 66, 'h': 66}}]\n"
          ]
        },
        {
          "output_type": "stream",
          "name": "stderr",
          "text": [
            "Action: emotion: 100%|██████████| 1/1 [00:00<00:00, 14.71it/s]\n"
          ]
        },
        {
          "output_type": "stream",
          "name": "stdout",
          "text": [
            "[{'emotion': {'angry': 45.889013515593234, 'disgust': 0.33353268419595766, 'fear': 15.74129500881374, 'happy': 0.025196830486128387, 'sad': 31.92823015787961, 'surprise': 0.44678534119252455, 'neutral': 5.635954366440101}, 'dominant_emotion': 'angry', 'region': {'x': 24, 'y': 42, 'w': 81, 'h': 81}}]\n"
          ]
        },
        {
          "output_type": "stream",
          "name": "stderr",
          "text": [
            "Action: emotion: 100%|██████████| 1/1 [00:00<00:00, 17.96it/s]\n"
          ]
        },
        {
          "output_type": "stream",
          "name": "stdout",
          "text": [
            "[{'emotion': {'angry': 14.313051957669972, 'disgust': 3.1571516786308096, 'fear': 66.8277720706327, 'happy': 9.661469439355697, 'sad': 1.678266848818472, 'surprise': 1.92231789513337, 'neutral': 2.439978677927177}, 'dominant_emotion': 'fear', 'region': {'x': 23, 'y': 42, 'w': 80, 'h': 80}}]\n"
          ]
        },
        {
          "output_type": "stream",
          "name": "stderr",
          "text": [
            "Action: emotion: 100%|██████████| 1/1 [00:00<00:00, 16.80it/s]\n"
          ]
        },
        {
          "output_type": "stream",
          "name": "stdout",
          "text": [
            "[{'emotion': {'angry': 9.938715948010213e-05, 'disgust': 2.3923395274343118e-11, 'fear': 1.5863894020640146e-05, 'happy': 97.69042134284973, 'sad': 0.00021906655547354603, 'surprise': 0.0003984299382864265, 'neutral': 2.3088470101356506}, 'dominant_emotion': 'happy', 'region': {'x': 23, 'y': 43, 'w': 83, 'h': 83}}]\n"
          ]
        },
        {
          "output_type": "stream",
          "name": "stderr",
          "text": [
            "Action: emotion: 100%|██████████| 1/1 [00:00<00:00, 16.00it/s]\n"
          ]
        },
        {
          "output_type": "stream",
          "name": "stdout",
          "text": [
            "[{'emotion': {'angry': 7.292220240426965e-06, 'disgust': 1.5573918084175588e-08, 'fear': 0.00017577990458440747, 'happy': 93.88483726291878, 'sad': 0.0037462092636920447, 'surprise': 0.002146164425222225, 'neutral': 6.109081945364591}, 'dominant_emotion': 'happy', 'region': {'x': 30, 'y': 48, 'w': 65, 'h': 65}}]\n"
          ]
        },
        {
          "output_type": "stream",
          "name": "stderr",
          "text": [
            "Action: emotion: 100%|██████████| 1/1 [00:00<00:00, 17.53it/s]\n"
          ]
        },
        {
          "output_type": "stream",
          "name": "stdout",
          "text": [
            "[{'emotion': {'angry': 0.00038576204133278225, 'disgust': 4.8897149440563226e-06, 'fear': 0.07163254194892943, 'happy': 81.99825882911682, 'sad': 0.012281956151127815, 'surprise': 0.06801207782700658, 'neutral': 17.849422991275787}, 'dominant_emotion': 'happy', 'region': {'x': 19, 'y': 42, 'w': 83, 'h': 83}}]\n"
          ]
        },
        {
          "output_type": "stream",
          "name": "stderr",
          "text": [
            "Action: emotion: 100%|██████████| 1/1 [00:00<00:00, 16.99it/s]\n"
          ]
        },
        {
          "output_type": "stream",
          "name": "stdout",
          "text": [
            "[{'emotion': {'angry': 36.27099394798279, 'disgust': 2.3680179594975925e-05, 'fear': 0.006608702096855268, 'happy': 0.16481924103572965, 'sad': 3.1179148703813553, 'surprise': 0.029245822224766016, 'neutral': 60.41039228439331}, 'dominant_emotion': 'neutral', 'region': {'x': 22, 'y': 40, 'w': 85, 'h': 85}}]\n"
          ]
        },
        {
          "output_type": "stream",
          "name": "stderr",
          "text": [
            "Action: emotion: 100%|██████████| 1/1 [00:00<00:00, 14.35it/s]\n"
          ]
        },
        {
          "output_type": "stream",
          "name": "stdout",
          "text": [
            "[{'emotion': {'angry': 0.14150431058954063, 'disgust': 4.867632195320064e-10, 'fear': 3.8756240351111924e-05, 'happy': 92.34851553133223, 'sad': 0.006248648068787043, 'surprise': 7.414503089345884e-05, 'neutral': 7.503621727444036}, 'dominant_emotion': 'happy', 'region': {'x': 31, 'y': 46, 'w': 68, 'h': 68}}]\n"
          ]
        },
        {
          "output_type": "stream",
          "name": "stderr",
          "text": [
            "Action: emotion: 100%|██████████| 1/1 [00:00<00:00, 17.46it/s]\n"
          ]
        },
        {
          "output_type": "stream",
          "name": "stdout",
          "text": [
            "[{'emotion': {'angry': 0.048025840030660634, 'disgust': 2.1030464668685938e-05, 'fear': 0.20283706298244375, 'happy': 3.2031795056569283, 'sad': 0.4556819136847206, 'surprise': 0.0031114346747117294, 'neutral': 96.08714557213459}, 'dominant_emotion': 'neutral', 'region': {'x': 31, 'y': 50, 'w': 66, 'h': 66}}]\n"
          ]
        },
        {
          "output_type": "stream",
          "name": "stderr",
          "text": [
            "Action: emotion: 100%|██████████| 1/1 [00:00<00:00, 16.40it/s]\n"
          ]
        },
        {
          "output_type": "stream",
          "name": "stdout",
          "text": [
            "[{'emotion': {'angry': 0.0030534611141774803, 'disgust': 1.2619016942494454e-07, 'fear': 0.0017015325283864513, 'happy': 97.0267653465271, 'sad': 0.0022268170141614974, 'surprise': 0.00558239953534212, 'neutral': 2.9606692492961884}, 'dominant_emotion': 'happy', 'region': {'x': 27, 'y': 47, 'w': 71, 'h': 71}}]\n"
          ]
        },
        {
          "output_type": "stream",
          "name": "stderr",
          "text": [
            "Action: emotion: 100%|██████████| 1/1 [00:00<00:00, 18.63it/s]\n"
          ]
        },
        {
          "output_type": "stream",
          "name": "stdout",
          "text": [
            "[{'emotion': {'angry': 0.00043113366541981657, 'disgust': 2.9246246819912265e-14, 'fear': 1.269445069232781e-05, 'happy': 7.156841883471125, 'sad': 0.0007362057642676345, 'surprise': 6.568851410218596e-08, 'neutral': 92.84197645437577}, 'dominant_emotion': 'neutral', 'region': {'x': 19, 'y': 39, 'w': 89, 'h': 89}}]\n"
          ]
        },
        {
          "output_type": "stream",
          "name": "stderr",
          "text": [
            "Action: emotion: 100%|██████████| 1/1 [00:00<00:00, 16.63it/s]\n"
          ]
        },
        {
          "output_type": "stream",
          "name": "stdout",
          "text": [
            "[{'emotion': {'angry': 0.008524626173311844, 'disgust': 8.864190270685413e-07, 'fear': 0.001923462150443811, 'happy': 61.3726019859314, 'sad': 0.10104045504704118, 'surprise': 0.013677430979441851, 'neutral': 38.50223124027252}, 'dominant_emotion': 'happy', 'region': {'x': 19, 'y': 39, 'w': 26, 'h': 26}}]\n"
          ]
        },
        {
          "output_type": "stream",
          "name": "stderr",
          "text": [
            "Action: emotion: 100%|██████████| 1/1 [00:00<00:00, 18.91it/s]\n"
          ]
        },
        {
          "output_type": "stream",
          "name": "stdout",
          "text": [
            "[{'emotion': {'angry': 53.65719199180603, 'disgust': 0.0007242897936521331, 'fear': 1.829472929239273, 'happy': 3.5870786756277084, 'sad': 29.22271490097046, 'surprise': 0.051130662905052304, 'neutral': 11.651680618524551}, 'dominant_emotion': 'angry', 'region': {'x': 18, 'y': 37, 'w': 92, 'h': 92}}]\n"
          ]
        },
        {
          "output_type": "stream",
          "name": "stderr",
          "text": [
            "Action: emotion: 100%|██████████| 1/1 [00:00<00:00, 17.02it/s]\n"
          ]
        },
        {
          "output_type": "stream",
          "name": "stdout",
          "text": [
            "[{'emotion': {'angry': 10.749866709105175, 'disgust': 0.000367209508172384, 'fear': 1.1073725958092568, 'happy': 20.46702626151003, 'sad': 11.132319935102458, 'surprise': 0.008584157114975207, 'neutral': 56.534466536907345}, 'dominant_emotion': 'neutral', 'region': {'x': 31, 'y': 47, 'w': 67, 'h': 67}}]\n"
          ]
        },
        {
          "output_type": "stream",
          "name": "stderr",
          "text": [
            "Action: emotion: 100%|██████████| 1/1 [00:00<00:00, 17.60it/s]\n"
          ]
        },
        {
          "output_type": "stream",
          "name": "stdout",
          "text": [
            "[{'emotion': {'angry': 43.8963919878006, 'disgust': 8.788760691436082e-09, 'fear': 46.49395048618317, 'happy': 0.13212452176958323, 'sad': 5.20685687661171, 'surprise': 0.04983885446563363, 'neutral': 4.220835492014885}, 'dominant_emotion': 'fear', 'region': {'x': 19, 'y': 38, 'w': 27, 'h': 27}}]\n"
          ]
        },
        {
          "output_type": "stream",
          "name": "stderr",
          "text": [
            "Action: emotion: 100%|██████████| 1/1 [00:00<00:00, 14.37it/s]\n"
          ]
        },
        {
          "output_type": "stream",
          "name": "stdout",
          "text": [
            "[{'emotion': {'angry': 2.6454439958400733, 'disgust': 1.3600147296894186e-05, 'fear': 13.032855029957886, 'happy': 79.18214450095361, 'sad': 3.927156606059479, 'surprise': 0.06739036540876443, 'neutral': 1.1449950313574038}, 'dominant_emotion': 'happy', 'region': {'x': 28, 'y': 48, 'w': 72, 'h': 72}}]\n"
          ]
        },
        {
          "output_type": "stream",
          "name": "stderr",
          "text": [
            "Action: emotion: 100%|██████████| 1/1 [00:00<00:00, 15.79it/s]\n"
          ]
        },
        {
          "output_type": "stream",
          "name": "stdout",
          "text": [
            "[{'emotion': {'angry': 2.2495479210672285, 'disgust': 0.17538378941745036, 'fear': 16.84164456625516, 'happy': 34.879679665527306, 'sad': 3.6364529891554103, 'surprise': 1.5578360291225946, 'neutral': 40.65945931189767}, 'dominant_emotion': 'neutral', 'region': {'x': 32, 'y': 51, 'w': 65, 'h': 65}}]\n"
          ]
        },
        {
          "output_type": "stream",
          "name": "stderr",
          "text": [
            "Action: emotion: 100%|██████████| 1/1 [00:00<00:00, 15.83it/s]\n"
          ]
        },
        {
          "output_type": "stream",
          "name": "stdout",
          "text": [
            "[{'emotion': {'angry': 0.0053830295226200385, 'disgust': 5.362903685489305e-06, 'fear': 1.3434051405432903, 'happy': 0.005906623107054158, 'sad': 0.007614592049348998, 'surprise': 98.59260312274714, 'neutral': 0.04508389079512005}, 'dominant_emotion': 'surprise', 'region': {'x': 19, 'y': 38, 'w': 27, 'h': 27}}]\n"
          ]
        },
        {
          "output_type": "stream",
          "name": "stderr",
          "text": [
            "Action: emotion: 100%|██████████| 1/1 [00:00<00:00, 17.04it/s]\n"
          ]
        },
        {
          "output_type": "stream",
          "name": "stdout",
          "text": [
            "[{'emotion': {'angry': 18.690048896080125, 'disgust': 4.3210779811236835, 'fear': 44.384502695143546, 'happy': 3.0086736987440226, 'sad': 13.562078900585043, 'surprise': 0.5547769097717893, 'neutral': 15.478840825419525}, 'dominant_emotion': 'fear', 'region': {'x': 28, 'y': 49, 'w': 67, 'h': 67}}]\n"
          ]
        },
        {
          "output_type": "stream",
          "name": "stderr",
          "text": [
            "Action: emotion: 100%|██████████| 1/1 [00:00<00:00, 11.87it/s]\n"
          ]
        },
        {
          "output_type": "stream",
          "name": "stdout",
          "text": [
            "[{'emotion': {'angry': 35.998526215553284, 'disgust': 8.25269808046869e-06, 'fear': 0.10985380504280329, 'happy': 0.02116953255608678, 'sad': 8.021817356348038, 'surprise': 0.334110320545733, 'neutral': 55.514514446258545}, 'dominant_emotion': 'neutral', 'region': {'x': 16, 'y': 37, 'w': 92, 'h': 92}}]\n"
          ]
        },
        {
          "output_type": "stream",
          "name": "stderr",
          "text": [
            "Action: emotion: 100%|██████████| 1/1 [00:00<00:00, 17.97it/s]\n"
          ]
        },
        {
          "output_type": "stream",
          "name": "stdout",
          "text": [
            "[{'emotion': {'angry': 3.5117097198963165, 'disgust': 0.09789769537746906, 'fear': 46.98421657085419, 'happy': 7.310053706169128, 'sad': 4.186806827783585, 'surprise': 36.83577477931976, 'neutral': 1.0735433548688889}, 'dominant_emotion': 'fear', 'region': {'x': 28, 'y': 50, 'w': 67, 'h': 67}}]\n"
          ]
        },
        {
          "output_type": "stream",
          "name": "stderr",
          "text": [
            "Action: emotion: 100%|██████████| 1/1 [00:00<00:00, 13.19it/s]\n"
          ]
        },
        {
          "output_type": "stream",
          "name": "stdout",
          "text": [
            "[{'emotion': {'angry': 8.455241471529007, 'disgust': 0.5283034406602383, 'fear': 37.126725912094116, 'happy': 0.13402046170085669, 'sad': 1.236986182630062, 'surprise': 40.10184705257416, 'neutral': 12.41687759757042}, 'dominant_emotion': 'surprise', 'region': {'x': 27, 'y': 46, 'w': 73, 'h': 73}}]\n"
          ]
        },
        {
          "output_type": "stream",
          "name": "stderr",
          "text": [
            "Action: emotion: 100%|██████████| 1/1 [00:00<00:00, 17.69it/s]\n"
          ]
        },
        {
          "output_type": "stream",
          "name": "stdout",
          "text": [
            "[{'emotion': {'angry': 1.623266306799171e-12, 'disgust': 7.104630680324682e-28, 'fear': 4.82235351515583e-19, 'happy': 100.0, 'sad': 1.7751264181652452e-13, 'surprise': 8.03977977942294e-10, 'neutral': 1.4319309293853166e-06}, 'dominant_emotion': 'happy', 'region': {'x': 28, 'y': 47, 'w': 71, 'h': 71}}]\n"
          ]
        },
        {
          "output_type": "stream",
          "name": "stderr",
          "text": [
            "Action: emotion: 100%|██████████| 1/1 [00:00<00:00, 16.05it/s]\n"
          ]
        },
        {
          "output_type": "stream",
          "name": "stdout",
          "text": [
            "[{'emotion': {'angry': 10.705894976854324, 'disgust': 0.03837771655526012, 'fear': 1.6589123755693436, 'happy': 3.5584960132837296, 'sad': 11.29542589187622, 'surprise': 0.2237472217530012, 'neutral': 72.51914143562317}, 'dominant_emotion': 'neutral', 'region': {'x': 28, 'y': 49, 'w': 66, 'h': 66}}]\n"
          ]
        },
        {
          "output_type": "stream",
          "name": "stderr",
          "text": [
            "Action: emotion: 100%|██████████| 1/1 [00:00<00:00, 17.71it/s]\n"
          ]
        },
        {
          "output_type": "stream",
          "name": "stdout",
          "text": [
            "[{'emotion': {'angry': 0.16766584847236854, 'disgust': 2.9192635791525535e-06, 'fear': 1.5940085091004979, 'happy': 0.027097159501571596, 'sad': 1.077005954325909, 'surprise': 0.0007934768327710075, 'neutral': 97.13342751663059}, 'dominant_emotion': 'neutral', 'region': {'x': 29, 'y': 48, 'w': 67, 'h': 67}}]\n"
          ]
        },
        {
          "output_type": "stream",
          "name": "stderr",
          "text": [
            "Action: emotion: 100%|██████████| 1/1 [00:00<00:00, 17.16it/s]\n"
          ]
        },
        {
          "output_type": "stream",
          "name": "stdout",
          "text": [
            "[{'emotion': {'angry': 59.58247666567842, 'disgust': 8.188702680027166, 'fear': 30.857845442551916, 'happy': 0.06964512037618513, 'sad': 1.215896237981768, 'surprise': 0.0011483742577914101, 'neutral': 0.08427681910113166}, 'dominant_emotion': 'angry', 'region': {'x': 23, 'y': 39, 'w': 157, 'h': 157}}]\n"
          ]
        },
        {
          "output_type": "stream",
          "name": "stderr",
          "text": [
            "Action: emotion: 100%|██████████| 1/1 [00:00<00:00, 17.10it/s]\n"
          ]
        },
        {
          "output_type": "stream",
          "name": "stdout",
          "text": [
            "[{'emotion': {'angry': 3.5776734352111816, 'disgust': 0.0041676132241263986, 'fear': 1.9850581884384155, 'happy': 0.05407586577348411, 'sad': 38.03209066390991, 'surprise': 0.00900626037037, 'neutral': 56.337928771972656}, 'dominant_emotion': 'neutral', 'region': {'x': 29, 'y': 50, 'w': 64, 'h': 64}}]\n"
          ]
        },
        {
          "output_type": "stream",
          "name": "stderr",
          "text": [
            "Action: emotion: 100%|██████████| 1/1 [00:00<00:00, 13.41it/s]\n"
          ]
        },
        {
          "output_type": "stream",
          "name": "stdout",
          "text": [
            "[{'emotion': {'angry': 0.10504655074328184, 'disgust': 5.584598339325453e-08, 'fear': 9.917458783093025e-05, 'happy': 0.0006196898539201356, 'sad': 0.40494133718311787, 'surprise': 4.109426687826101e-09, 'neutral': 99.4892954826355}, 'dominant_emotion': 'neutral', 'region': {'x': 29, 'y': 46, 'w': 68, 'h': 68}}]\n"
          ]
        },
        {
          "output_type": "stream",
          "name": "stderr",
          "text": [
            "Action: emotion: 100%|██████████| 1/1 [00:00<00:00, 12.06it/s]\n"
          ]
        },
        {
          "output_type": "stream",
          "name": "stdout",
          "text": [
            "[{'emotion': {'angry': 1.0316139087080956, 'disgust': 0.00013904078741688863, 'fear': 0.7022450678050518, 'happy': 0.780652230605483, 'sad': 7.791432738304138, 'surprise': 0.0005503241482074372, 'neutral': 89.69336748123169}, 'dominant_emotion': 'neutral', 'region': {'x': 17, 'y': 38, 'w': 28, 'h': 28}}]\n"
          ]
        },
        {
          "output_type": "stream",
          "name": "stderr",
          "text": [
            "Action: emotion: 100%|██████████| 1/1 [00:00<00:00, 16.78it/s]\n"
          ]
        },
        {
          "output_type": "stream",
          "name": "stdout",
          "text": [
            "[{'emotion': {'angry': 4.2106660730043695, 'disgust': 0.0005102756253485708, 'fear': 24.45407953584668, 'happy': 0.0420565916612948, 'sad': 3.8590247249021963, 'surprise': 0.10157450474870233, 'neutral': 67.3320870001368}, 'dominant_emotion': 'neutral', 'region': {'x': 31, 'y': 49, 'w': 68, 'h': 68}}]\n",
            "An error happened\n"
          ]
        },
        {
          "output_type": "stream",
          "name": "stderr",
          "text": [
            "Action: emotion: 100%|██████████| 1/1 [00:00<00:00, 18.04it/s]\n"
          ]
        },
        {
          "output_type": "stream",
          "name": "stdout",
          "text": [
            "[{'emotion': {'angry': 31.2497079372406, 'disgust': 0.03568940737750381, 'fear': 9.295804798603058, 'happy': 0.11827158741652966, 'sad': 31.311294436454773, 'surprise': 0.14774815645068884, 'neutral': 27.841487526893616}, 'dominant_emotion': 'sad', 'region': {'x': 31, 'y': 51, 'w': 64, 'h': 64}}]\n"
          ]
        },
        {
          "output_type": "stream",
          "name": "stderr",
          "text": [
            "Action: emotion: 100%|██████████| 1/1 [00:00<00:00, 17.38it/s]\n"
          ]
        },
        {
          "output_type": "stream",
          "name": "stdout",
          "text": [
            "[{'emotion': {'angry': 0.3831262467429042, 'disgust': 1.2069115672141972e-09, 'fear': 4.070205986499786, 'happy': 0.0023688106011832133, 'sad': 6.035783141851425, 'surprise': 0.00014010473705639015, 'neutral': 89.50837850570679}, 'dominant_emotion': 'neutral', 'region': {'x': 19, 'y': 39, 'w': 26, 'h': 26}}]\n"
          ]
        },
        {
          "output_type": "stream",
          "name": "stderr",
          "text": [
            "Action: emotion: 100%|██████████| 1/1 [00:00<00:00, 17.72it/s]\n"
          ]
        },
        {
          "output_type": "stream",
          "name": "stdout",
          "text": [
            "[{'emotion': {'angry': 2.072194218635559, 'disgust': 0.07761382730677724, 'fear': 68.49988102912903, 'happy': 0.1438373699784279, 'sad': 16.346685588359833, 'surprise': 0.25004425551742315, 'neutral': 12.60974258184433}, 'dominant_emotion': 'fear', 'region': {'x': 16, 'y': 33, 'w': 96, 'h': 96}}]\n"
          ]
        },
        {
          "output_type": "stream",
          "name": "stderr",
          "text": [
            "Action: emotion: 100%|██████████| 1/1 [00:00<00:00, 15.41it/s]\n"
          ]
        },
        {
          "output_type": "stream",
          "name": "stdout",
          "text": [
            "[{'emotion': {'angry': 2.704837148179838, 'disgust': 0.006175434468526212, 'fear': 4.399376252256409, 'happy': 1.0175455036786498, 'sad': 15.571447644916036, 'surprise': 0.2642785356508813, 'neutral': 76.03633856989971}, 'dominant_emotion': 'neutral', 'region': {'x': 30, 'y': 49, 'w': 64, 'h': 64}}]\n",
            "An error happened\n"
          ]
        },
        {
          "output_type": "stream",
          "name": "stderr",
          "text": [
            "Action: emotion: 100%|██████████| 1/1 [00:00<00:00, 14.87it/s]\n"
          ]
        },
        {
          "output_type": "stream",
          "name": "stdout",
          "text": [
            "[{'emotion': {'angry': 0.0008563006192734658, 'disgust': 1.3165857458504536e-09, 'fear': 99.65728525432525, 'happy': 1.454785895964099e-06, 'sad': 0.3416280553411775, 'surprise': 2.4872922976027203e-08, 'neutral': 0.00022419444177502204}, 'dominant_emotion': 'fear', 'region': {'x': 31, 'y': 49, 'w': 65, 'h': 65}}]\n"
          ]
        },
        {
          "output_type": "stream",
          "name": "stderr",
          "text": [
            "Action: emotion: 100%|██████████| 1/1 [00:00<00:00, 16.07it/s]\n"
          ]
        },
        {
          "output_type": "stream",
          "name": "stdout",
          "text": [
            "[{'emotion': {'angry': 41.44488820105125, 'disgust': 0.013385450508602738, 'fear': 2.5970967171845865, 'happy': 0.41706988279938, 'sad': 35.535850258818286, 'surprise': 1.3110957889912003, 'neutral': 18.680622797049452}, 'dominant_emotion': 'angry', 'region': {'x': 19, 'y': 41, 'w': 88, 'h': 88}}]\n"
          ]
        },
        {
          "output_type": "stream",
          "name": "stderr",
          "text": [
            "Action: emotion: 100%|██████████| 1/1 [00:00<00:00, 17.53it/s]\n"
          ]
        },
        {
          "output_type": "stream",
          "name": "stdout",
          "text": [
            "[{'emotion': {'angry': 2.261977456510067, 'disgust': 0.0006638560535066063, 'fear': 3.0138112604618073, 'happy': 1.1409169062972069, 'sad': 8.662191778421402, 'surprise': 0.04946607514284551, 'neutral': 84.8709762096405}, 'dominant_emotion': 'neutral', 'region': {'x': 17, 'y': 38, 'w': 29, 'h': 29}}]\n"
          ]
        },
        {
          "output_type": "stream",
          "name": "stderr",
          "text": [
            "Action: emotion: 100%|██████████| 1/1 [00:00<00:00, 16.45it/s]\n"
          ]
        },
        {
          "output_type": "stream",
          "name": "stdout",
          "text": [
            "[{'emotion': {'angry': 24.600042402744293, 'disgust': 0.004472558066481724, 'fear': 2.024211548268795, 'happy': 0.06478724535554647, 'sad': 33.252984285354614, 'surprise': 1.04181207716465, 'neutral': 39.01169002056122}, 'dominant_emotion': 'neutral', 'region': {'x': 25, 'y': 46, 'w': 71, 'h': 71}}]\n"
          ]
        },
        {
          "output_type": "stream",
          "name": "stderr",
          "text": [
            "Action: emotion: 100%|██████████| 1/1 [00:00<00:00, 18.36it/s]\n"
          ]
        },
        {
          "output_type": "stream",
          "name": "stdout",
          "text": [
            "[{'emotion': {'angry': 97.5816011428833, 'disgust': 3.468303191311861e-05, 'fear': 1.205681636929512, 'happy': 0.03243640239816159, 'sad': 1.0673392564058304, 'surprise': 0.0060049966123187914, 'neutral': 0.10690185008570552}, 'dominant_emotion': 'angry', 'region': {'x': 22, 'y': 42, 'w': 82, 'h': 82}}]\n"
          ]
        },
        {
          "output_type": "stream",
          "name": "stderr",
          "text": [
            "Action: emotion: 100%|██████████| 1/1 [00:00<00:00, 12.88it/s]\n"
          ]
        },
        {
          "output_type": "stream",
          "name": "stdout",
          "text": [
            "[{'emotion': {'angry': 2.8766645414633105, 'disgust': 0.0036525015468753894, 'fear': 5.514674348869997, 'happy': 2.5996870056167833, 'sad': 11.38719035539742, 'surprise': 0.0273963665759797, 'neutral': 77.59073047748441}, 'dominant_emotion': 'neutral', 'region': {'x': 18, 'y': 37, 'w': 30, 'h': 30}}]\n"
          ]
        },
        {
          "output_type": "stream",
          "name": "stderr",
          "text": [
            "Action: emotion: 100%|██████████| 1/1 [00:00<00:00, 17.85it/s]\n"
          ]
        },
        {
          "output_type": "stream",
          "name": "stdout",
          "text": [
            "[{'emotion': {'angry': 6.013351678848267, 'disgust': 0.01584159181220457, 'fear': 0.8448946289718151, 'happy': 0.9750251658260822, 'sad': 7.689180225133896, 'surprise': 0.013486911484505981, 'neutral': 84.44821834564209}, 'dominant_emotion': 'neutral', 'region': {'x': 18, 'y': 41, 'w': 47, 'h': 47}}]\n"
          ]
        },
        {
          "output_type": "stream",
          "name": "stderr",
          "text": [
            "Action: emotion: 100%|██████████| 1/1 [00:00<00:00, 15.49it/s]\n"
          ]
        },
        {
          "output_type": "stream",
          "name": "stdout",
          "text": [
            "[{'emotion': {'angry': 0.008000569505384192, 'disgust': 1.076338931177423e-09, 'fear': 41.77324175834656, 'happy': 7.72608146071434, 'sad': 0.5962178111076355, 'surprise': 0.3114710561931133, 'neutral': 49.58499073982239}, 'dominant_emotion': 'neutral', 'region': {'x': 28, 'y': 48, 'w': 74, 'h': 74}}]\n"
          ]
        },
        {
          "output_type": "stream",
          "name": "stderr",
          "text": [
            "Action: emotion: 100%|██████████| 1/1 [00:00<00:00, 14.98it/s]\n"
          ]
        },
        {
          "output_type": "stream",
          "name": "stdout",
          "text": [
            "[{'emotion': {'angry': 0.004496827386901714, 'disgust': 0.0006999069682933623, 'fear': 31.66372776031494, 'happy': 0.5098003428429365, 'sad': 0.06963717169128358, 'surprise': 0.239818193949759, 'neutral': 67.51181483268738}, 'dominant_emotion': 'neutral', 'region': {'x': 30, 'y': 51, 'w': 63, 'h': 63}}]\n"
          ]
        },
        {
          "output_type": "stream",
          "name": "stderr",
          "text": [
            "Action: emotion: 100%|██████████| 1/1 [00:00<00:00, 15.21it/s]\n"
          ]
        },
        {
          "output_type": "stream",
          "name": "stdout",
          "text": [
            "[{'emotion': {'angry': 22.423240542411804, 'disgust': 0.0004937568519380875, 'fear': 2.6259655132889748, 'happy': 3.799353912472725, 'sad': 6.143985316157341, 'surprise': 0.03500776074361056, 'neutral': 64.97195959091187}, 'dominant_emotion': 'neutral', 'region': {'x': 28, 'y': 50, 'w': 145, 'h': 145}}]\n"
          ]
        },
        {
          "output_type": "stream",
          "name": "stderr",
          "text": [
            "Action: emotion: 100%|██████████| 1/1 [00:00<00:00, 15.46it/s]\n"
          ]
        },
        {
          "output_type": "stream",
          "name": "stdout",
          "text": [
            "[{'emotion': {'angry': 23.666827380657196, 'disgust': 0.027287958073429763, 'fear': 18.09430718421936, 'happy': 9.194336086511612, 'sad': 1.0884210467338562, 'surprise': 2.354230359196663, 'neutral': 45.57458758354187}, 'dominant_emotion': 'neutral', 'region': {'x': 29, 'y': 48, 'w': 67, 'h': 67}}]\n"
          ]
        },
        {
          "output_type": "stream",
          "name": "stderr",
          "text": [
            "Action: emotion: 100%|██████████| 1/1 [00:00<00:00, 14.93it/s]\n"
          ]
        },
        {
          "output_type": "stream",
          "name": "stdout",
          "text": [
            "[{'emotion': {'angry': 0.06014172686263919, 'disgust': 5.372733085096115e-05, 'fear': 0.36423990968614817, 'happy': 1.171277929097414, 'sad': 3.5747434943914413, 'surprise': 0.06552864797413349, 'neutral': 94.76401209831238}, 'dominant_emotion': 'neutral', 'region': {'x': 30, 'y': 49, 'w': 65, 'h': 65}}]\n"
          ]
        },
        {
          "output_type": "stream",
          "name": "stderr",
          "text": [
            "Action: emotion: 100%|██████████| 1/1 [00:00<00:00, 16.91it/s]\n"
          ]
        },
        {
          "output_type": "stream",
          "name": "stdout",
          "text": [
            "[{'emotion': {'angry': 2.606618210165834e-06, 'disgust': 8.249013567395726e-22, 'fear': 6.621725063785816e-14, 'happy': 99.99984502792358, 'sad': 1.19032252587567e-11, 'surprise': 2.0987782367067054e-11, 'neutral': 0.00015923380942695076}, 'dominant_emotion': 'happy', 'region': {'x': 17, 'y': 39, 'w': 91, 'h': 91}}]\n"
          ]
        },
        {
          "output_type": "stream",
          "name": "stderr",
          "text": [
            "Action: emotion: 100%|██████████| 1/1 [00:00<00:00, 15.09it/s]\n"
          ]
        },
        {
          "output_type": "stream",
          "name": "stdout",
          "text": [
            "[{'emotion': {'angry': 3.0197151005268097, 'disgust': 0.13972558081150055, 'fear': 2.8691384941339493, 'happy': 1.7222296446561813, 'sad': 39.63742554187775, 'surprise': 0.07564104162156582, 'neutral': 52.53612399101257}, 'dominant_emotion': 'neutral', 'region': {'x': 16, 'y': 35, 'w': 94, 'h': 94}}]\n"
          ]
        },
        {
          "output_type": "stream",
          "name": "stderr",
          "text": [
            "Action: emotion: 100%|██████████| 1/1 [00:00<00:00, 16.32it/s]\n"
          ]
        },
        {
          "output_type": "stream",
          "name": "stdout",
          "text": [
            "[{'emotion': {'angry': 0.0061675491375417545, 'disgust': 1.525403579795179e-09, 'fear': 5.555822232770214e-05, 'happy': 70.06981729628833, 'sad': 2.7974399197173216, 'surprise': 4.0128370860924564e-05, 'neutral': 27.126472934904942}, 'dominant_emotion': 'happy', 'region': {'x': 26, 'y': 47, 'w': 74, 'h': 74}}]\n"
          ]
        },
        {
          "output_type": "stream",
          "name": "stderr",
          "text": [
            "Action: emotion: 100%|██████████| 1/1 [00:00<00:00, 16.48it/s]\n"
          ]
        },
        {
          "output_type": "stream",
          "name": "stdout",
          "text": [
            "[{'emotion': {'angry': 0.007976676939068965, 'disgust': 1.2346785067369693e-07, 'fear': 7.582383016631963, 'happy': 0.028736953906091024, 'sad': 0.0002272891877430524, 'surprise': 92.38065986402748, 'neutral': 1.7168350211968572e-05}, 'dominant_emotion': 'surprise', 'region': {'x': 22, 'y': 42, 'w': 84, 'h': 84}}]\n"
          ]
        },
        {
          "output_type": "stream",
          "name": "stderr",
          "text": [
            "Action: emotion: 100%|██████████| 1/1 [00:00<00:00, 17.17it/s]\n"
          ]
        },
        {
          "output_type": "stream",
          "name": "stdout",
          "text": [
            "[{'emotion': {'angry': 0.034350941724572585, 'disgust': 2.5450656555288906e-10, 'fear': 1.900562096630199e-05, 'happy': 99.12479514627428, 'sad': 5.926774802257672e-06, 'surprise': 0.00022658945440504476, 'neutral': 0.8406027721227868}, 'dominant_emotion': 'happy', 'region': {'x': 26, 'y': 46, 'w': 75, 'h': 75}}]\n"
          ]
        },
        {
          "output_type": "stream",
          "name": "stderr",
          "text": [
            "Action: emotion: 100%|██████████| 1/1 [00:00<00:00, 12.60it/s]\n"
          ]
        },
        {
          "output_type": "stream",
          "name": "stdout",
          "text": [
            "[{'emotion': {'angry': 5.0217680633068085, 'disgust': 0.0001739091430863482, 'fear': 0.12204693630337715, 'happy': 0.034155588946305215, 'sad': 5.088804289698601, 'surprise': 0.00038659636629745364, 'neutral': 89.7326648235321}, 'dominant_emotion': 'neutral', 'region': {'x': 18, 'y': 37, 'w': 29, 'h': 29}}]\n"
          ]
        },
        {
          "output_type": "stream",
          "name": "stderr",
          "text": [
            "Action: emotion: 100%|██████████| 1/1 [00:00<00:00, 16.95it/s]\n"
          ]
        },
        {
          "output_type": "stream",
          "name": "stdout",
          "text": [
            "[{'emotion': {'angry': 5.557532981038094, 'disgust': 0.07008233806118369, 'fear': 3.7242863327264786, 'happy': 0.1354607054963708, 'sad': 7.559072971343994, 'surprise': 0.017962054698728025, 'neutral': 82.93560743331909}, 'dominant_emotion': 'neutral', 'region': {'x': 29, 'y': 49, 'w': 66, 'h': 66}}]\n"
          ]
        },
        {
          "output_type": "stream",
          "name": "stderr",
          "text": [
            "Action: emotion: 100%|██████████| 1/1 [00:00<00:00, 13.28it/s]\n"
          ]
        },
        {
          "output_type": "stream",
          "name": "stdout",
          "text": [
            "[{'emotion': {'angry': 4.798957892498046e-05, 'disgust': 4.101548034985266e-06, 'fear': 0.00508081963376134, 'happy': 95.22876682624421, 'sad': 0.0015843299549135699, 'surprise': 0.1160574167551001, 'neutral': 4.648461374457046}, 'dominant_emotion': 'happy', 'region': {'x': 32, 'y': 49, 'w': 64, 'h': 64}}]\n"
          ]
        },
        {
          "output_type": "stream",
          "name": "stderr",
          "text": [
            "Action: emotion: 100%|██████████| 1/1 [00:00<00:00, 17.23it/s]\n"
          ]
        },
        {
          "output_type": "stream",
          "name": "stdout",
          "text": [
            "[{'emotion': {'angry': 2.574849249404579, 'disgust': 0.01364689541217183, 'fear': 42.88211678053341, 'happy': 0.20819443897240628, 'sad': 4.767753007144094, 'surprise': 0.14188993318184415, 'neutral': 49.41155605453921}, 'dominant_emotion': 'neutral', 'region': {'x': 28, 'y': 47, 'w': 67, 'h': 67}}]\n"
          ]
        },
        {
          "output_type": "stream",
          "name": "stderr",
          "text": [
            "Action: emotion: 100%|██████████| 1/1 [00:00<00:00, 18.26it/s]\n"
          ]
        },
        {
          "output_type": "stream",
          "name": "stdout",
          "text": [
            "[{'emotion': {'angry': 2.7053005497108157e-07, 'disgust': 6.419563559295196e-08, 'fear': 0.0035376600283705782, 'happy': 99.89222289416517, 'sad': 7.468769032178448e-05, 'surprise': 6.75723005821632e-06, 'neutral': 0.10414865023360846}, 'dominant_emotion': 'happy', 'region': {'x': 16, 'y': 40, 'w': 91, 'h': 91}}]\n"
          ]
        },
        {
          "output_type": "stream",
          "name": "stderr",
          "text": [
            "Action: emotion: 100%|██████████| 1/1 [00:00<00:00, 17.73it/s]\n"
          ]
        },
        {
          "output_type": "stream",
          "name": "stdout",
          "text": [
            "[{'emotion': {'angry': 0.9823108091950417, 'disgust': 0.0004521187292994, 'fear': 0.37791416980326176, 'happy': 2.6066284626722336, 'sad': 3.640005737543106, 'surprise': 0.004068451744387858, 'neutral': 92.3886239528656}, 'dominant_emotion': 'neutral', 'region': {'x': 28, 'y': 51, 'w': 62, 'h': 62}}]\n"
          ]
        },
        {
          "output_type": "stream",
          "name": "stderr",
          "text": [
            "Action: emotion: 100%|██████████| 1/1 [00:00<00:00, 18.08it/s]\n"
          ]
        },
        {
          "output_type": "stream",
          "name": "stdout",
          "text": [
            "[{'emotion': {'angry': 2.722546851591928e-13, 'disgust': 6.565485319654772e-24, 'fear': 1.2246128389183797e-14, 'happy': 99.87419247627258, 'sad': 2.813909001642134e-09, 'surprise': 3.122684055778535e-09, 'neutral': 0.12580754701048136}, 'dominant_emotion': 'happy', 'region': {'x': 26, 'y': 42, 'w': 79, 'h': 79}}]\n"
          ]
        },
        {
          "output_type": "stream",
          "name": "stderr",
          "text": [
            "Action: emotion: 100%|██████████| 1/1 [00:00<00:00, 16.27it/s]\n"
          ]
        },
        {
          "output_type": "stream",
          "name": "stdout",
          "text": [
            "[{'emotion': {'angry': 41.749680042266846, 'disgust': 1.2739317933885275e-08, 'fear': 0.002638142177602276, 'happy': 0.01585807476658374, 'sad': 0.9823724627494812, 'surprise': 0.0010205095350102056, 'neutral': 57.24843740463257}, 'dominant_emotion': 'neutral', 'region': {'x': 20, 'y': 43, 'w': 85, 'h': 85}}]\n"
          ]
        },
        {
          "output_type": "stream",
          "name": "stderr",
          "text": [
            "Action: emotion: 100%|██████████| 1/1 [00:00<00:00, 16.56it/s]\n"
          ]
        },
        {
          "output_type": "stream",
          "name": "stdout",
          "text": [
            "[{'emotion': {'angry': 5.359091162584448e-05, 'disgust': 7.819078479612652e-09, 'fear': 0.03007263226965728, 'happy': 99.96894598377395, 'sad': 0.00018333659088030468, 'surprise': 0.00017310168442346915, 'neutral': 0.0005739016840175813}, 'dominant_emotion': 'happy', 'region': {'x': 21, 'y': 43, 'w': 83, 'h': 83}}]\n"
          ]
        },
        {
          "output_type": "stream",
          "name": "stderr",
          "text": [
            "Action: emotion: 100%|██████████| 1/1 [00:00<00:00, 15.83it/s]\n"
          ]
        },
        {
          "output_type": "stream",
          "name": "stdout",
          "text": [
            "[{'emotion': {'angry': 8.93129376396015, 'disgust': 0.02260089698907471, 'fear': 0.2097292786041762, 'happy': 10.961739902288926, 'sad': 9.55028941627867, 'surprise': 0.016619353320191405, 'neutral': 70.30772324708423}, 'dominant_emotion': 'neutral', 'region': {'x': 28, 'y': 47, 'w': 67, 'h': 67}}]\n"
          ]
        },
        {
          "output_type": "stream",
          "name": "stderr",
          "text": [
            "Action: emotion: 100%|██████████| 1/1 [00:00<00:00, 16.79it/s]\n"
          ]
        },
        {
          "output_type": "stream",
          "name": "stdout",
          "text": [
            "[{'emotion': {'angry': 4.164748266339302, 'disgust': 0.2813725033774972, 'fear': 73.55986833572388, 'happy': 0.019611866446211934, 'sad': 17.779414355754852, 'surprise': 0.029708148213103414, 'neutral': 4.165276885032654}, 'dominant_emotion': 'fear', 'region': {'x': 27, 'y': 87, 'w': 61, 'h': 61}}]\n"
          ]
        },
        {
          "output_type": "stream",
          "name": "stderr",
          "text": [
            "Action: emotion: 100%|██████████| 1/1 [00:00<00:00, 14.50it/s]\n"
          ]
        },
        {
          "output_type": "stream",
          "name": "stdout",
          "text": [
            "[{'emotion': {'angry': 69.18047070503235, 'disgust': 1.967683971315637e-06, 'fear': 0.003752212433028035, 'happy': 0.3847426036372781, 'sad': 0.6742655299603939, 'surprise': 0.01621746487217024, 'neutral': 29.740548133850098}, 'dominant_emotion': 'angry', 'region': {'x': 21, 'y': 40, 'w': 84, 'h': 84}}]\n"
          ]
        },
        {
          "output_type": "stream",
          "name": "stderr",
          "text": [
            "Action: emotion: 100%|██████████| 1/1 [00:00<00:00, 16.41it/s]\n"
          ]
        },
        {
          "output_type": "stream",
          "name": "stdout",
          "text": [
            "[{'emotion': {'angry': 1.0242349468171597, 'disgust': 1.1770517720222085e-09, 'fear': 17.657488584518433, 'happy': 3.3320237236011963e-06, 'sad': 67.58890748023987, 'surprise': 5.519370294138071e-07, 'neutral': 13.729371130466461}, 'dominant_emotion': 'sad', 'region': {'x': 19, 'y': 41, 'w': 45, 'h': 45}}]\n"
          ]
        },
        {
          "output_type": "stream",
          "name": "stderr",
          "text": [
            "Action: emotion: 100%|██████████| 1/1 [00:00<00:00, 17.94it/s]\n"
          ]
        },
        {
          "output_type": "stream",
          "name": "stdout",
          "text": [
            "[{'emotion': {'angry': 8.748038113117218, 'disgust': 0.001788147710612975, 'fear': 0.7644284516572952, 'happy': 0.3028993494808674, 'sad': 7.815686613321304, 'surprise': 0.12992573902010918, 'neutral': 82.2372317314148}, 'dominant_emotion': 'neutral', 'region': {'x': 30, 'y': 46, 'w': 67, 'h': 67}}]\n"
          ]
        },
        {
          "output_type": "stream",
          "name": "stderr",
          "text": [
            "Action: emotion: 100%|██████████| 1/1 [00:00<00:00, 17.27it/s]\n"
          ]
        },
        {
          "output_type": "stream",
          "name": "stdout",
          "text": [
            "[{'emotion': {'angry': 3.584438556686082e-14, 'disgust': 2.6450598543449745e-19, 'fear': 3.830767649148453e-14, 'happy': 99.99985694885254, 'sad': 1.364923885721625e-09, 'surprise': 1.0230351722012587e-10, 'neutral': 0.0001418274337083858}, 'dominant_emotion': 'happy', 'region': {'x': 19, 'y': 42, 'w': 84, 'h': 84}}]\n"
          ]
        },
        {
          "output_type": "stream",
          "name": "stderr",
          "text": [
            "Action: emotion: 100%|██████████| 1/1 [00:00<00:00, 18.28it/s]\n"
          ]
        },
        {
          "output_type": "stream",
          "name": "stdout",
          "text": [
            "[{'emotion': {'angry': 55.61966300010681, 'disgust': 0.0002519301688153064, 'fear': 1.6504732891917229, 'happy': 0.02650445676408708, 'sad': 34.09055471420288, 'surprise': 0.012482513557188213, 'neutral': 8.600075542926788}, 'dominant_emotion': 'angry', 'region': {'x': 30, 'y': 48, 'w': 66, 'h': 66}}]\n"
          ]
        },
        {
          "output_type": "stream",
          "name": "stderr",
          "text": [
            "Action: emotion: 100%|██████████| 1/1 [00:00<00:00, 15.91it/s]\n"
          ]
        },
        {
          "output_type": "stream",
          "name": "stdout",
          "text": [
            "[{'emotion': {'angry': 2.5967204943299294, 'disgust': 2.9195444994911668e-05, 'fear': 0.7580331526696682, 'happy': 7.731668651103973, 'sad': 0.8754817768931389, 'surprise': 0.3671013982966542, 'neutral': 87.67096996307373}, 'dominant_emotion': 'neutral', 'region': {'x': 20, 'y': 39, 'w': 87, 'h': 87}}]\n"
          ]
        },
        {
          "output_type": "stream",
          "name": "stderr",
          "text": [
            "Action: emotion: 100%|██████████| 1/1 [00:00<00:00, 16.99it/s]\n"
          ]
        },
        {
          "output_type": "stream",
          "name": "stdout",
          "text": [
            "[{'emotion': {'angry': 0.07469209376722574, 'disgust': 0.0007851092959754169, 'fear': 14.916016161441803, 'happy': 46.10231816768646, 'sad': 1.0220649652183056, 'surprise': 0.07548804278485477, 'neutral': 37.808629870414734}, 'dominant_emotion': 'happy', 'region': {'x': 24, 'y': 45, 'w': 75, 'h': 75}}]\n"
          ]
        },
        {
          "output_type": "stream",
          "name": "stderr",
          "text": [
            "Action: emotion: 100%|██████████| 1/1 [00:00<00:00, 12.48it/s]\n"
          ]
        },
        {
          "output_type": "stream",
          "name": "stdout",
          "text": [
            "[{'emotion': {'angry': 0.030595430871471763, 'disgust': 1.2887096945135568e-08, 'fear': 0.020282472542021424, 'happy': 0.01355950953438878, 'sad': 0.13201794354245067, 'surprise': 0.0006058184681023704, 'neutral': 99.80294108390808}, 'dominant_emotion': 'neutral', 'region': {'x': 19, 'y': 39, 'w': 26, 'h': 26}}]\n"
          ]
        },
        {
          "output_type": "stream",
          "name": "stderr",
          "text": [
            "Action: emotion: 100%|██████████| 1/1 [00:00<00:00, 18.00it/s]\n"
          ]
        },
        {
          "output_type": "stream",
          "name": "stdout",
          "text": [
            "[{'emotion': {'angry': 40.37976207612527, 'disgust': 0.003247746110759444, 'fear': 11.429928924437101, 'happy': 0.03592214994041025, 'sad': 41.79370652399698, 'surprise': 0.07379732418156112, 'neutral': 6.283637510754914}, 'dominant_emotion': 'sad', 'region': {'x': 31, 'y': 49, 'w': 64, 'h': 64}}]\n"
          ]
        },
        {
          "output_type": "stream",
          "name": "stderr",
          "text": [
            "Action: emotion: 100%|██████████| 1/1 [00:00<00:00, 16.81it/s]\n"
          ]
        },
        {
          "output_type": "stream",
          "name": "stdout",
          "text": [
            "[{'emotion': {'angry': 6.093451380729675, 'disgust': 39.855870604515076, 'fear': 3.1331904232501984, 'happy': 15.76959639787674, 'sad': 0.5263122729957104, 'surprise': 20.757819712162018, 'neutral': 13.863760232925415}, 'dominant_emotion': 'disgust', 'region': {'x': 18, 'y': 38, 'w': 28, 'h': 28}}]\n"
          ]
        },
        {
          "output_type": "stream",
          "name": "stderr",
          "text": [
            "Action: emotion: 100%|██████████| 1/1 [00:00<00:00, 18.20it/s]\n"
          ]
        },
        {
          "output_type": "stream",
          "name": "stdout",
          "text": [
            "[{'emotion': {'angry': 0.3726260493025809, 'disgust': 0.0008304690294841005, 'fear': 0.14937956310835857, 'happy': 0.027167714306836684, 'sad': 3.7079131578155256, 'surprise': 0.0059096870129881135, 'neutral': 95.73617552138421}, 'dominant_emotion': 'neutral', 'region': {'x': 17, 'y': 40, 'w': 87, 'h': 87}}]\n"
          ]
        },
        {
          "output_type": "stream",
          "name": "stderr",
          "text": [
            "Action: emotion: 100%|██████████| 1/1 [00:00<00:00, 15.49it/s]\n"
          ]
        },
        {
          "output_type": "stream",
          "name": "stdout",
          "text": [
            "[{'emotion': {'angry': 12.437058985233307, 'disgust': 0.013117174967192113, 'fear': 2.3659570142626762, 'happy': 6.398744881153107, 'sad': 12.21373975276947, 'surprise': 0.02788051206152886, 'neutral': 66.54350161552429}, 'dominant_emotion': 'neutral', 'region': {'x': 31, 'y': 45, 'w': 68, 'h': 68}}]\n"
          ]
        },
        {
          "output_type": "stream",
          "name": "stderr",
          "text": [
            "Action: emotion: 100%|██████████| 1/1 [00:00<00:00, 10.89it/s]\n"
          ]
        },
        {
          "output_type": "stream",
          "name": "stdout",
          "text": [
            "[{'emotion': {'angry': 8.776111155748367, 'disgust': 2.853993521512166e-05, 'fear': 15.346576273441315, 'happy': 0.0005609463642031187, 'sad': 63.74656558036804, 'surprise': 0.007001656194915995, 'neutral': 12.12315782904625}, 'dominant_emotion': 'sad', 'region': {'x': 24, 'y': 45, 'w': 75, 'h': 75}}]\n"
          ]
        },
        {
          "output_type": "stream",
          "name": "stderr",
          "text": [
            "Action: emotion: 100%|██████████| 1/1 [00:00<00:00, 16.16it/s]\n"
          ]
        },
        {
          "output_type": "stream",
          "name": "stdout",
          "text": [
            "[{'emotion': {'angry': 2.8592564427221134e-08, 'disgust': 7.367662566734464e-23, 'fear': 9.842072033661129e-16, 'happy': 99.99628067016602, 'sad': 3.743304832770633e-08, 'surprise': 8.393112593818586e-10, 'neutral': 0.0037245514249661937}, 'dominant_emotion': 'happy', 'region': {'x': 17, 'y': 38, 'w': 92, 'h': 92}}]\n"
          ]
        },
        {
          "output_type": "stream",
          "name": "stderr",
          "text": [
            "Action: emotion: 100%|██████████| 1/1 [00:00<00:00, 17.09it/s]\n"
          ]
        },
        {
          "output_type": "stream",
          "name": "stdout",
          "text": [
            "[{'emotion': {'angry': 8.97303894162178, 'disgust': 0.05501860869117081, 'fear': 20.959235727787018, 'happy': 0.09417984401807189, 'sad': 34.463366866111755, 'surprise': 0.12467268388718367, 'neutral': 35.330480337142944}, 'dominant_emotion': 'neutral', 'region': {'x': 22, 'y': 43, 'w': 83, 'h': 83}}]\n"
          ]
        },
        {
          "output_type": "stream",
          "name": "stderr",
          "text": [
            "Action: emotion: 100%|██████████| 1/1 [00:00<00:00, 15.77it/s]\n"
          ]
        },
        {
          "output_type": "stream",
          "name": "stdout",
          "text": [
            "[{'emotion': {'angry': 1.7769043461623397, 'disgust': 2.7188726136810472e-05, 'fear': 96.16773105667419, 'happy': 0.001855734009602551, 'sad': 1.8916486958651957, 'surprise': 0.01555871805945221, 'neutral': 0.1462782587500369}, 'dominant_emotion': 'fear', 'region': {'x': 25, 'y': 46, 'w': 72, 'h': 72}}]\n"
          ]
        },
        {
          "output_type": "stream",
          "name": "stderr",
          "text": [
            "Action: emotion: 100%|██████████| 1/1 [00:00<00:00, 15.82it/s]\n"
          ]
        },
        {
          "output_type": "stream",
          "name": "stdout",
          "text": [
            "[{'emotion': {'angry': 0.3381127957254648, 'disgust': 0.00010280449487254373, 'fear': 0.0235745741520077, 'happy': 89.47779536247253, 'sad': 0.15674402238801122, 'surprise': 0.013365987979341298, 'neutral': 9.990307688713074}, 'dominant_emotion': 'happy', 'region': {'x': 19, 'y': 39, 'w': 27, 'h': 27}}]\n"
          ]
        },
        {
          "output_type": "stream",
          "name": "stderr",
          "text": [
            "Action: emotion: 100%|██████████| 1/1 [00:00<00:00, 16.12it/s]\n"
          ]
        },
        {
          "output_type": "stream",
          "name": "stdout",
          "text": [
            "[{'emotion': {'angry': 0.5435587838292122, 'disgust': 8.942575391301943e-06, 'fear': 26.160499453544617, 'happy': 0.11659470619633794, 'sad': 4.044722393155098, 'surprise': 0.003427075353101827, 'neutral': 69.13118958473206}, 'dominant_emotion': 'neutral', 'region': {'x': 32, 'y': 50, 'w': 64, 'h': 64}}]\n"
          ]
        },
        {
          "output_type": "stream",
          "name": "stderr",
          "text": [
            "Action: emotion: 100%|██████████| 1/1 [00:00<00:00, 14.73it/s]\n"
          ]
        },
        {
          "output_type": "stream",
          "name": "stdout",
          "text": [
            "[{'emotion': {'angry': 1.7240406945347786, 'disgust': 9.784598908879616e-07, 'fear': 3.3601470291614532, 'happy': 0.04259195411577821, 'sad': 15.87190181016922, 'surprise': 0.029357438324950635, 'neutral': 78.97196412086487}, 'dominant_emotion': 'neutral', 'region': {'x': 20, 'y': 39, 'w': 85, 'h': 85}}]\n"
          ]
        },
        {
          "output_type": "stream",
          "name": "stderr",
          "text": [
            "Action: emotion: 100%|██████████| 1/1 [00:00<00:00, 15.11it/s]\n"
          ]
        },
        {
          "output_type": "stream",
          "name": "stdout",
          "text": [
            "[{'emotion': {'angry': 57.841575145721436, 'disgust': 0.07557867793366313, 'fear': 1.5567596070468426, 'happy': 4.540019854903221, 'sad': 5.047095939517021, 'surprise': 0.2823254792019725, 'neutral': 30.65665066242218}, 'dominant_emotion': 'angry', 'region': {'x': 28, 'y': 51, 'w': 64, 'h': 64}}]\n"
          ]
        },
        {
          "output_type": "stream",
          "name": "stderr",
          "text": [
            "Action: emotion: 100%|██████████| 1/1 [00:00<00:00, 17.71it/s]\n"
          ]
        },
        {
          "output_type": "stream",
          "name": "stdout",
          "text": [
            "[{'emotion': {'angry': 0.013603806375193976, 'disgust': 0.01446116452618924, 'fear': 1.7153826633323825, 'happy': 82.55801692950827, 'sad': 0.32117983378051723, 'surprise': 0.0478821980668797, 'neutral': 15.329475124447056}, 'dominant_emotion': 'happy', 'region': {'x': 18, 'y': 39, 'w': 90, 'h': 90}}]\n"
          ]
        },
        {
          "output_type": "stream",
          "name": "stderr",
          "text": [
            "Action: emotion: 100%|██████████| 1/1 [00:00<00:00, 13.29it/s]\n"
          ]
        },
        {
          "output_type": "stream",
          "name": "stdout",
          "text": [
            "[{'emotion': {'angry': 0.026362505741417408, 'disgust': 0.006677020428469405, 'fear': 1.4817163348197937, 'happy': 96.21174931526184, 'sad': 0.16510087298229337, 'surprise': 0.0008252441148215439, 'neutral': 2.1075740456581116}, 'dominant_emotion': 'happy', 'region': {'x': 30, 'y': 48, 'w': 69, 'h': 69}}]\n"
          ]
        },
        {
          "output_type": "stream",
          "name": "stderr",
          "text": [
            "Action: emotion: 100%|██████████| 1/1 [00:00<00:00, 17.53it/s]\n"
          ]
        },
        {
          "output_type": "stream",
          "name": "stdout",
          "text": [
            "[{'emotion': {'angry': 0.018889222701545805, 'disgust': 1.9476862789247207e-06, 'fear': 0.1329639577306807, 'happy': 18.73377561569214, 'sad': 2.335873059928417, 'surprise': 0.005091700222692452, 'neutral': 78.77340316772461}, 'dominant_emotion': 'neutral', 'region': {'x': 19, 'y': 39, 'w': 26, 'h': 26}}]\n"
          ]
        },
        {
          "output_type": "stream",
          "name": "stderr",
          "text": [
            "Action: emotion: 100%|██████████| 1/1 [00:00<00:00, 15.68it/s]\n"
          ]
        },
        {
          "output_type": "stream",
          "name": "stdout",
          "text": [
            "[{'emotion': {'angry': 3.020177222788334, 'disgust': 0.00013132788581060595, 'fear': 1.0634618811309338, 'happy': 0.6335762795060873, 'sad': 6.505703926086426, 'surprise': 0.11438123183324933, 'neutral': 88.66257071495056}, 'dominant_emotion': 'neutral', 'region': {'x': 27, 'y': 48, 'w': 67, 'h': 67}}]\n"
          ]
        },
        {
          "output_type": "stream",
          "name": "stderr",
          "text": [
            "Action: emotion: 100%|██████████| 1/1 [00:00<00:00, 16.27it/s]\n"
          ]
        },
        {
          "output_type": "stream",
          "name": "stdout",
          "text": [
            "[{'emotion': {'angry': 0.00017815177595853564, 'disgust': 3.188282883448006e-08, 'fear': 0.0003513626307057178, 'happy': 99.4805335688909, 'sad': 0.0025626164351193717, 'surprise': 0.00021381905663733568, 'neutral': 0.5161569761429415}, 'dominant_emotion': 'happy', 'region': {'x': 30, 'y': 47, 'w': 67, 'h': 67}}]\n"
          ]
        },
        {
          "output_type": "stream",
          "name": "stderr",
          "text": [
            "Action: emotion: 100%|██████████| 1/1 [00:00<00:00, 12.34it/s]\n"
          ]
        },
        {
          "output_type": "stream",
          "name": "stdout",
          "text": [
            "[{'emotion': {'angry': 80.0820529460907, 'disgust': 0.7414247840642929, 'fear': 7.753826677799225, 'happy': 4.035091772675514, 'sad': 7.23365992307663, 'surprise': 0.06737866788171232, 'neutral': 0.08656931458972394}, 'dominant_emotion': 'angry', 'region': {'x': 29, 'y': 51, 'w': 65, 'h': 65}}]\n"
          ]
        },
        {
          "output_type": "stream",
          "name": "stderr",
          "text": [
            "Action: emotion: 100%|██████████| 1/1 [00:00<00:00, 18.54it/s]\n"
          ]
        },
        {
          "output_type": "stream",
          "name": "stdout",
          "text": [
            "[{'emotion': {'angry': 3.8636159151792526, 'disgust': 0.000522297841598629, 'fear': 13.115459680557251, 'happy': 0.5803135689347982, 'sad': 6.113949790596962, 'surprise': 0.04786682839039713, 'neutral': 76.27827525138855}, 'dominant_emotion': 'neutral', 'region': {'x': 17, 'y': 40, 'w': 90, 'h': 90}}]\n"
          ]
        },
        {
          "output_type": "stream",
          "name": "stderr",
          "text": [
            "Action: emotion: 100%|██████████| 1/1 [00:00<00:00, 12.73it/s]\n"
          ]
        },
        {
          "output_type": "stream",
          "name": "stdout",
          "text": [
            "[{'emotion': {'angry': 18.97897237413957, 'disgust': 7.565822553109453e-05, 'fear': 1.50725245146468, 'happy': 11.305531788202035, 'sad': 10.13158098647481, 'surprise': 0.060933214984578786, 'neutral': 58.01565396879041}, 'dominant_emotion': 'neutral', 'region': {'x': 31, 'y': 50, 'w': 62, 'h': 62}}]\n"
          ]
        },
        {
          "output_type": "stream",
          "name": "stderr",
          "text": [
            "Action: emotion: 100%|██████████| 1/1 [00:00<00:00, 17.60it/s]\n"
          ]
        },
        {
          "output_type": "stream",
          "name": "stdout",
          "text": [
            "[{'emotion': {'angry': 6.2755475858453546e-06, 'disgust': 1.2483110479037697e-08, 'fear': 8.883747775062683e-06, 'happy': 98.50661736805647, 'sad': 2.5530109072662943e-06, 'surprise': 4.324608387341933e-06, 'neutral': 1.4933565549083418}, 'dominant_emotion': 'happy', 'region': {'x': 30, 'y': 49, 'w': 66, 'h': 66}}]\n"
          ]
        },
        {
          "output_type": "stream",
          "name": "stderr",
          "text": [
            "Action: emotion: 100%|██████████| 1/1 [00:00<00:00, 16.93it/s]\n"
          ]
        },
        {
          "output_type": "stream",
          "name": "stdout",
          "text": [
            "[{'emotion': {'angry': 6.362737715244293, 'disgust': 0.0016065416275523603, 'fear': 19.45972889661789, 'happy': 0.10621467372402549, 'sad': 25.39859712123871, 'surprise': 0.009754826896823943, 'neutral': 48.661357164382935}, 'dominant_emotion': 'neutral', 'region': {'x': 30, 'y': 52, 'w': 64, 'h': 64}}]\n"
          ]
        },
        {
          "output_type": "stream",
          "name": "stderr",
          "text": [
            "Action: emotion: 100%|██████████| 1/1 [00:00<00:00, 17.90it/s]\n"
          ]
        },
        {
          "output_type": "stream",
          "name": "stdout",
          "text": [
            "[{'emotion': {'angry': 0.09490795200690627, 'disgust': 0.002649296948220581, 'fear': 97.08662629127502, 'happy': 0.9411937557160854, 'sad': 1.311397086828947, 'surprise': 0.48292740248143673, 'neutral': 0.08030427270568907}, 'dominant_emotion': 'fear', 'region': {'x': 32, 'y': 48, 'w': 66, 'h': 66}}]\n"
          ]
        },
        {
          "output_type": "stream",
          "name": "stderr",
          "text": [
            "Action: emotion: 100%|██████████| 1/1 [00:00<00:00, 13.12it/s]\n"
          ]
        },
        {
          "output_type": "stream",
          "name": "stdout",
          "text": [
            "[{'emotion': {'angry': 20.69704383611679, 'disgust': 0.004085946784471162, 'fear': 6.273727118968964, 'happy': 0.1067554927431047, 'sad': 20.80700695514679, 'surprise': 0.06826529279351234, 'neutral': 52.043116092681885}, 'dominant_emotion': 'neutral', 'region': {'x': 19, 'y': 39, 'w': 27, 'h': 27}}]\n"
          ]
        },
        {
          "output_type": "stream",
          "name": "stderr",
          "text": [
            "Action: emotion: 100%|██████████| 1/1 [00:00<00:00, 11.44it/s]\n"
          ]
        },
        {
          "output_type": "stream",
          "name": "stdout",
          "text": [
            "[{'emotion': {'angry': 0.029581354465335608, 'disgust': 1.2642686009201043e-06, 'fear': 8.535146713256836, 'happy': 12.248636037111282, 'sad': 0.06691940943710506, 'surprise': 0.014048308366909623, 'neutral': 79.10566926002502}, 'dominant_emotion': 'neutral', 'region': {'x': 30, 'y': 47, 'w': 69, 'h': 69}}]\n"
          ]
        },
        {
          "output_type": "stream",
          "name": "stderr",
          "text": [
            "Action: emotion: 100%|██████████| 1/1 [00:00<00:00, 10.95it/s]\n"
          ]
        },
        {
          "output_type": "stream",
          "name": "stdout",
          "text": [
            "[{'emotion': {'angry': 2.340676479277731e-17, 'disgust': 3.189331603323964e-33, 'fear': 0.0009741497377416428, 'happy': 52.40947916564221, 'sad': 0.00859687039647224, 'surprise': 3.994909499908844e-12, 'neutral': 47.58095428830113}, 'dominant_emotion': 'happy', 'region': {'x': 28, 'y': 50, 'w': 65, 'h': 65}}]\n"
          ]
        },
        {
          "output_type": "stream",
          "name": "stderr",
          "text": [
            "Action: emotion: 100%|██████████| 1/1 [00:00<00:00,  8.34it/s]\n"
          ]
        },
        {
          "output_type": "stream",
          "name": "stdout",
          "text": [
            "[{'emotion': {'angry': 5.699722096323967, 'disgust': 0.23806472308933735, 'fear': 90.85357785224915, 'happy': 0.013974904140923172, 'sad': 3.041190467774868, 'surprise': 0.06201142678037286, 'neutral': 0.09146027732640505}, 'dominant_emotion': 'fear', 'region': {'x': 22, 'y': 40, 'w': 83, 'h': 83}}]\n"
          ]
        },
        {
          "output_type": "stream",
          "name": "stderr",
          "text": [
            "Action: emotion: 100%|██████████| 1/1 [00:00<00:00,  9.77it/s]\n"
          ]
        },
        {
          "output_type": "stream",
          "name": "stdout",
          "text": [
            "[{'emotion': {'angry': 0.2131422981619835, 'disgust': 0.0005388621502788737, 'fear': 2.381272614002228, 'happy': 8.923093974590302, 'sad': 2.9160501435399055, 'surprise': 0.18142357002943754, 'neutral': 85.38447618484497}, 'dominant_emotion': 'neutral', 'region': {'x': 31, 'y': 51, 'w': 64, 'h': 64}}]\n"
          ]
        },
        {
          "output_type": "stream",
          "name": "stderr",
          "text": [
            "Action: emotion: 100%|██████████| 1/1 [00:00<00:00,  9.36it/s]\n"
          ]
        },
        {
          "output_type": "stream",
          "name": "stdout",
          "text": [
            "[{'emotion': {'angry': 9.216107428073883, 'disgust': 0.00035715013382287, 'fear': 0.7492366712540388, 'happy': 0.19291451899334788, 'sad': 18.859584629535675, 'surprise': 0.0019140374206472188, 'neutral': 70.97988724708557}, 'dominant_emotion': 'neutral', 'region': {'x': 26, 'y': 47, 'w': 70, 'h': 70}}]\n"
          ]
        },
        {
          "output_type": "stream",
          "name": "stderr",
          "text": [
            "Action: emotion: 100%|██████████| 1/1 [00:00<00:00, 11.26it/s]\n"
          ]
        },
        {
          "output_type": "stream",
          "name": "stdout",
          "text": [
            "[{'emotion': {'angry': 5.436661094427109, 'disgust': 1.2975195318176702e-05, 'fear': 11.116889119148254, 'happy': 3.05926576256752, 'sad': 33.23253393173218, 'surprise': 0.004892297511105426, 'neutral': 47.149744629859924}, 'dominant_emotion': 'neutral', 'region': {'x': 18, 'y': 38, 'w': 27, 'h': 27}}]\n"
          ]
        },
        {
          "output_type": "stream",
          "name": "stderr",
          "text": [
            "Action: emotion: 100%|██████████| 1/1 [00:00<00:00, 10.29it/s]\n"
          ]
        },
        {
          "output_type": "stream",
          "name": "stdout",
          "text": [
            "[{'emotion': {'angry': 1.2497582135839735e-08, 'disgust': 2.643661826181188e-14, 'fear': 1.8961326953004232e-08, 'happy': 99.91433620452881, 'sad': 2.9747642127375684e-07, 'surprise': 3.6199285347038312e-06, 'neutral': 0.08565679308958352}, 'dominant_emotion': 'happy', 'region': {'x': 24, 'y': 43, 'w': 80, 'h': 80}}]\n"
          ]
        },
        {
          "output_type": "stream",
          "name": "stderr",
          "text": [
            "Action: emotion: 100%|██████████| 1/1 [00:00<00:00, 13.16it/s]\n"
          ]
        },
        {
          "output_type": "stream",
          "name": "stdout",
          "text": [
            "[{'emotion': {'angry': 16.17082506418228, 'disgust': 0.01137859362643212, 'fear': 0.8080375380814075, 'happy': 0.05411020829342306, 'sad': 9.949278086423874, 'surprise': 0.02282671193825081, 'neutral': 72.98354506492615}, 'dominant_emotion': 'neutral', 'region': {'x': 31, 'y': 48, 'w': 63, 'h': 63}}]\n"
          ]
        },
        {
          "output_type": "stream",
          "name": "stderr",
          "text": [
            "Action: emotion: 100%|██████████| 1/1 [00:00<00:00, 10.27it/s]\n"
          ]
        },
        {
          "output_type": "stream",
          "name": "stdout",
          "text": [
            "[{'emotion': {'angry': 3.1469888985157013, 'disgust': 1.1963915969026573e-08, 'fear': 0.018216128228232265, 'happy': 0.041978422086685896, 'sad': 1.7606927081942558, 'surprise': 0.005269616303849034, 'neutral': 95.0268566608429}, 'dominant_emotion': 'neutral', 'region': {'x': 18, 'y': 40, 'w': 88, 'h': 88}}]\n"
          ]
        },
        {
          "output_type": "stream",
          "name": "stderr",
          "text": [
            "Action: emotion: 100%|██████████| 1/1 [00:00<00:00, 11.01it/s]\n"
          ]
        },
        {
          "output_type": "stream",
          "name": "stdout",
          "text": [
            "[{'emotion': {'angry': 0.00014831472299192683, 'disgust': 5.599735519029592e-10, 'fear': 0.0002262439920741599, 'happy': 97.74207472801208, 'sad': 4.9465808160675806e-05, 'surprise': 2.253495156764984, 'neutral': 0.00400432400056161}, 'dominant_emotion': 'happy', 'region': {'x': 25, 'y': 45, 'w': 70, 'h': 70}}]\n"
          ]
        },
        {
          "output_type": "stream",
          "name": "stderr",
          "text": [
            "Action: emotion: 100%|██████████| 1/1 [00:00<00:00,  8.08it/s]\n"
          ]
        },
        {
          "output_type": "stream",
          "name": "stdout",
          "text": [
            "[{'emotion': {'angry': 0.2275730211945747, 'disgust': 3.357495825242064e-08, 'fear': 0.004452010959053968, 'happy': 85.0137191994525, 'sad': 0.1583964025837001, 'surprise': 0.00025468588466338746, 'neutral': 14.595599222707841}, 'dominant_emotion': 'happy', 'region': {'x': 31, 'y': 45, 'w': 67, 'h': 67}}]\n"
          ]
        },
        {
          "output_type": "stream",
          "name": "stderr",
          "text": [
            "Action: emotion: 100%|██████████| 1/1 [00:00<00:00, 12.26it/s]\n"
          ]
        },
        {
          "output_type": "stream",
          "name": "stdout",
          "text": [
            "[{'emotion': {'angry': 1.2345664448425511e-12, 'disgust': 6.523204673678388e-20, 'fear': 3.933405807740809e-14, 'happy': 99.98505115509033, 'sad': 3.614504962695664e-10, 'surprise': 9.08422588454666e-11, 'neutral': 0.01494984608143568}, 'dominant_emotion': 'happy', 'region': {'x': 28, 'y': 49, 'w': 71, 'h': 71}}]\n"
          ]
        },
        {
          "output_type": "stream",
          "name": "stderr",
          "text": [
            "Action: emotion: 100%|██████████| 1/1 [00:00<00:00, 12.52it/s]\n"
          ]
        },
        {
          "output_type": "stream",
          "name": "stdout",
          "text": [
            "[{'emotion': {'angry': 0.5095507483929396, 'disgust': 0.0002871559217965114, 'fear': 0.10015503503382206, 'happy': 41.96622967720032, 'sad': 1.4717788435518742, 'surprise': 0.00859456486068666, 'neutral': 55.943405628204346}, 'dominant_emotion': 'neutral', 'region': {'x': 28, 'y': 47, 'w': 68, 'h': 68}}]\n"
          ]
        },
        {
          "output_type": "stream",
          "name": "stderr",
          "text": [
            "Action: emotion: 100%|██████████| 1/1 [00:00<00:00, 13.61it/s]\n"
          ]
        },
        {
          "output_type": "stream",
          "name": "stdout",
          "text": [
            "[{'emotion': {'angry': 0.4822878632694483, 'disgust': 3.6399057989910943e-05, 'fear': 0.056200457038357854, 'happy': 6.174023821949959, 'sad': 3.5035330802202225, 'surprise': 0.0009690437764220405, 'neutral': 89.7829532623291}, 'dominant_emotion': 'neutral', 'region': {'x': 31, 'y': 49, 'w': 65, 'h': 65}}]\n"
          ]
        },
        {
          "output_type": "stream",
          "name": "stderr",
          "text": [
            "Action: emotion: 100%|██████████| 1/1 [00:00<00:00, 12.17it/s]\n"
          ]
        },
        {
          "output_type": "stream",
          "name": "stdout",
          "text": [
            "[{'emotion': {'angry': 5.402446910738945, 'disgust': 1.0572755826387947e-05, 'fear': 0.050671439385041595, 'happy': 0.01952407183125615, 'sad': 7.482454925775528, 'surprise': 0.005346907346392982, 'neutral': 87.03954219818115}, 'dominant_emotion': 'neutral', 'region': {'x': 21, 'y': 42, 'w': 82, 'h': 82}}]\n"
          ]
        },
        {
          "output_type": "stream",
          "name": "stderr",
          "text": [
            "Action: emotion: 100%|██████████| 1/1 [00:00<00:00,  9.03it/s]\n"
          ]
        },
        {
          "output_type": "stream",
          "name": "stdout",
          "text": [
            "[{'emotion': {'angry': 0.03985888562255416, 'disgust': 5.916786347154366e-06, 'fear': 0.11519463255298927, 'happy': 49.41093322103818, 'sad': 0.12216775940613504, 'surprise': 0.000152973470926799, 'neutral': 50.31168760726974}, 'dominant_emotion': 'neutral', 'region': {'x': 20, 'y': 39, 'w': 89, 'h': 89}}]\n"
          ]
        },
        {
          "output_type": "stream",
          "name": "stderr",
          "text": [
            "Action: emotion: 100%|██████████| 1/1 [00:00<00:00,  7.66it/s]\n"
          ]
        },
        {
          "output_type": "stream",
          "name": "stdout",
          "text": [
            "[{'emotion': {'angry': 1.2594464235007763, 'disgust': 1.1675564515201131e-06, 'fear': 0.4471943713724613, 'happy': 4.424275830388069, 'sad': 1.5266859903931618, 'surprise': 0.0014965531590860337, 'neutral': 92.34090447425842}, 'dominant_emotion': 'neutral', 'region': {'x': 26, 'y': 45, 'w': 75, 'h': 75}}]\n"
          ]
        },
        {
          "output_type": "stream",
          "name": "stderr",
          "text": [
            "Action: emotion: 100%|██████████| 1/1 [00:00<00:00, 12.22it/s]\n"
          ]
        },
        {
          "output_type": "stream",
          "name": "stdout",
          "text": [
            "[{'emotion': {'angry': 14.664165675640106, 'disgust': 0.19968850538134575, 'fear': 29.072320461273193, 'happy': 0.0006118263172538718, 'sad': 43.2226687669754, 'surprise': 0.009958401642506942, 'neutral': 12.830585241317749}, 'dominant_emotion': 'sad', 'region': {'x': 26, 'y': 46, 'w': 73, 'h': 73}}]\n"
          ]
        },
        {
          "output_type": "stream",
          "name": "stderr",
          "text": [
            "Action: emotion: 100%|██████████| 1/1 [00:00<00:00, 11.01it/s]\n"
          ]
        },
        {
          "output_type": "stream",
          "name": "stdout",
          "text": [
            "[{'emotion': {'angry': 35.4406476020813, 'disgust': 0.0044092823372920975, 'fear': 0.36500084679573774, 'happy': 0.457542110234499, 'sad': 10.293050855398178, 'surprise': 0.03306655853521079, 'neutral': 53.40628623962402}, 'dominant_emotion': 'neutral', 'region': {'x': 29, 'y': 49, 'w': 67, 'h': 67}}]\n"
          ]
        },
        {
          "output_type": "stream",
          "name": "stderr",
          "text": [
            "Action: emotion: 100%|██████████| 1/1 [00:00<00:00,  9.29it/s]\n"
          ]
        },
        {
          "output_type": "stream",
          "name": "stdout",
          "text": [
            "[{'emotion': {'angry': 0.676095113158226, 'disgust': 0.0034771936043398455, 'fear': 1.7343448475003242, 'happy': 14.734911918640137, 'sad': 7.589928060770035, 'surprise': 0.08068084716796875, 'neutral': 75.18056035041809}, 'dominant_emotion': 'neutral', 'region': {'x': 28, 'y': 49, 'w': 69, 'h': 69}}]\n"
          ]
        },
        {
          "output_type": "stream",
          "name": "stderr",
          "text": [
            "Action: emotion: 100%|██████████| 1/1 [00:00<00:00, 12.26it/s]\n",
            "Action: emotion: 100%|██████████| 1/1 [00:00<00:00, 12.59it/s]\n"
          ]
        },
        {
          "output_type": "stream",
          "name": "stdout",
          "text": [
            "[{'emotion': {'angry': 26.185904513949424, 'disgust': 0.980119465596644, 'fear': 49.91959928987022, 'happy': 0.2632145461120931, 'sad': 3.3445572611425676, 'surprise': 10.270209477556318, 'neutral': 9.036400707745594}, 'dominant_emotion': 'fear', 'region': {'x': 18, 'y': 38, 'w': 27, 'h': 27}}, {'emotion': {'angry': 0.43623389482402175, 'disgust': 5.816988127068848e-07, 'fear': 0.5208758947775302, 'happy': 0.2661773395122492, 'sad': 1.6523786874043158, 'surprise': 0.0032573019902616064, 'neutral': 97.12107760435805}, 'dominant_emotion': 'neutral', 'region': {'x': 32, 'y': 2, 'w': 27, 'h': 27}}]\n"
          ]
        },
        {
          "output_type": "stream",
          "name": "stderr",
          "text": [
            "Action: emotion: 100%|██████████| 1/1 [00:00<00:00, 11.64it/s]\n"
          ]
        },
        {
          "output_type": "stream",
          "name": "stdout",
          "text": [
            "[{'emotion': {'angry': 0.8795994333922863, 'disgust': 4.399191844139949e-08, 'fear': 2.679562009871006, 'happy': 1.1572901924966628e-10, 'sad': 0.0027157140721101314, 'surprise': 7.856635342307072e-07, 'neutral': 96.43812775611877}, 'dominant_emotion': 'neutral', 'region': {'x': 16, 'y': 40, 'w': 90, 'h': 90}}]\n"
          ]
        },
        {
          "output_type": "stream",
          "name": "stderr",
          "text": [
            "Action: emotion: 100%|██████████| 1/1 [00:00<00:00, 13.18it/s]\n"
          ]
        },
        {
          "output_type": "stream",
          "name": "stdout",
          "text": [
            "[{'emotion': {'angry': 9.159936755895615, 'disgust': 1.5584175061533756e-07, 'fear': 1.125171035528183, 'happy': 0.011554342199815437, 'sad': 15.546604990959167, 'surprise': 0.0002514038442313904, 'neutral': 74.15648102760315}, 'dominant_emotion': 'neutral', 'region': {'x': 21, 'y': 41, 'w': 85, 'h': 85}}]\n"
          ]
        },
        {
          "output_type": "stream",
          "name": "stderr",
          "text": [
            "Action: emotion: 100%|██████████| 1/1 [00:00<00:00, 16.90it/s]\n"
          ]
        },
        {
          "output_type": "stream",
          "name": "stdout",
          "text": [
            "[{'emotion': {'angry': 2.392898028445479, 'disgust': 0.04073939731843503, 'fear': 76.82794608736681, 'happy': 0.1256961458464091, 'sad': 11.043505544244582, 'surprise': 0.12093026612040209, 'neutral': 9.448283529486236}, 'dominant_emotion': 'fear', 'region': {'x': 16, 'y': 35, 'w': 97, 'h': 97}}]\n",
            "An error happened\n"
          ]
        },
        {
          "output_type": "stream",
          "name": "stderr",
          "text": [
            "Action: emotion: 100%|██████████| 1/1 [00:00<00:00, 17.01it/s]\n",
            "Action: emotion: 100%|██████████| 1/1 [00:00<00:00, 15.61it/s]\n"
          ]
        },
        {
          "output_type": "stream",
          "name": "stdout",
          "text": [
            "[{'emotion': {'angry': 1.484240312129259, 'disgust': 1.7210336977768748e-05, 'fear': 0.1011535176075995, 'happy': 9.520132094621658, 'sad': 3.5111751407384872, 'surprise': 0.00824549570097588, 'neutral': 85.37503480911255}, 'dominant_emotion': 'neutral', 'region': {'x': 30, 'y': 48, 'w': 67, 'h': 67}}, {'emotion': {'angry': 5.683906715149088, 'disgust': 0.007171713214125154, 'fear': 45.82355891606563, 'happy': 47.59328947027263, 'sad': 0.023880178891896687, 'surprise': 0.004667123272033305, 'neutral': 0.8635286756472991}, 'dominant_emotion': 'happy', 'region': {'x': 34, 'y': 74, 'w': 58, 'h': 58}}]\n"
          ]
        },
        {
          "output_type": "stream",
          "name": "stderr",
          "text": [
            "Action: emotion: 100%|██████████| 1/1 [00:00<00:00, 17.49it/s]\n"
          ]
        },
        {
          "output_type": "stream",
          "name": "stdout",
          "text": [
            "[{'emotion': {'angry': 16.33598901843959, 'disgust': 1.7759838268747226, 'fear': 15.710000140070923, 'happy': 1.8872187666427354, 'sad': 30.262960807261514, 'surprise': 1.3699257631555655, 'neutral': 32.657923260803415}, 'dominant_emotion': 'neutral', 'region': {'x': 29, 'y': 47, 'w': 67, 'h': 67}}]\n"
          ]
        },
        {
          "output_type": "stream",
          "name": "stderr",
          "text": [
            "Action: emotion: 100%|██████████| 1/1 [00:00<00:00, 16.30it/s]\n"
          ]
        },
        {
          "output_type": "stream",
          "name": "stdout",
          "text": [
            "[{'emotion': {'angry': 2.051377123724052e-09, 'disgust': 4.065783479226901e-17, 'fear': 5.598149981772549e-10, 'happy': 99.9982476234436, 'sad': 1.5447984003102988e-07, 'surprise': 3.340432097598267e-09, 'neutral': 0.0017513277271063998}, 'dominant_emotion': 'happy', 'region': {'x': 29, 'y': 50, 'w': 66, 'h': 66}}]\n"
          ]
        },
        {
          "output_type": "stream",
          "name": "stderr",
          "text": [
            "Action: emotion: 100%|██████████| 1/1 [00:00<00:00, 17.93it/s]\n"
          ]
        },
        {
          "output_type": "stream",
          "name": "stdout",
          "text": [
            "[{'emotion': {'angry': 26.79240107536316, 'disgust': 0.016859614697750658, 'fear': 15.026569366455078, 'happy': 4.069759696722031, 'sad': 18.442554771900177, 'surprise': 22.38408476114273, 'neutral': 13.267774879932404}, 'dominant_emotion': 'angry', 'region': {'x': 17, 'y': 37, 'w': 92, 'h': 92}}]\n"
          ]
        },
        {
          "output_type": "stream",
          "name": "stderr",
          "text": [
            "Action: emotion: 100%|██████████| 1/1 [00:00<00:00, 12.84it/s]\n"
          ]
        },
        {
          "output_type": "stream",
          "name": "stdout",
          "text": [
            "[{'emotion': {'angry': 2.647598832845688, 'disgust': 6.264000376177137e-05, 'fear': 0.08488082676194608, 'happy': 7.814055681228638, 'sad': 2.5552816689014435, 'surprise': 0.04959168145433068, 'neutral': 86.84852719306946}, 'dominant_emotion': 'neutral', 'region': {'x': 18, 'y': 38, 'w': 90, 'h': 90}}]\n"
          ]
        },
        {
          "output_type": "stream",
          "name": "stderr",
          "text": [
            "Action: emotion: 100%|██████████| 1/1 [00:00<00:00, 17.59it/s]\n"
          ]
        },
        {
          "output_type": "stream",
          "name": "stdout",
          "text": [
            "[{'emotion': {'angry': 8.305324761259669e-08, 'disgust': 9.81809103372745e-19, 'fear': 4.254588868712883e-10, 'happy': 30.870836973190308, 'sad': 9.185027849412108e-07, 'surprise': 1.3950441690724347e-06, 'neutral': 69.12916302680969}, 'dominant_emotion': 'neutral', 'region': {'x': 28, 'y': 47, 'w': 67, 'h': 67}}]\n",
            "An error happened\n"
          ]
        },
        {
          "output_type": "stream",
          "name": "stderr",
          "text": [
            "Action: emotion: 100%|██████████| 1/1 [00:00<00:00,  9.41it/s]\n"
          ]
        },
        {
          "output_type": "stream",
          "name": "stdout",
          "text": [
            "[{'emotion': {'angry': 0.0016922269423957914, 'disgust': 7.387702428973686e-10, 'fear': 7.998981033097152e-06, 'happy': 61.906588077545166, 'sad': 0.01864863734226674, 'surprise': 0.0026165942472289316, 'neutral': 38.07044327259064}, 'dominant_emotion': 'happy', 'region': {'x': 24, 'y': 43, 'w': 79, 'h': 79}}]\n"
          ]
        },
        {
          "output_type": "stream",
          "name": "stderr",
          "text": [
            "Action: emotion: 100%|██████████| 1/1 [00:00<00:00,  7.47it/s]\n"
          ]
        },
        {
          "output_type": "stream",
          "name": "stdout",
          "text": [
            "[{'emotion': {'angry': 0.015439186245203018, 'disgust': 8.824821601461725e-20, 'fear': 3.5947506082933955e-08, 'happy': 96.4819073677063, 'sad': 1.6437489591680787e-05, 'surprise': 4.4907797480675526e-07, 'neutral': 3.502635657787323}, 'dominant_emotion': 'happy', 'region': {'x': 18, 'y': 39, 'w': 87, 'h': 87}}]\n"
          ]
        },
        {
          "output_type": "stream",
          "name": "stderr",
          "text": [
            "Action: emotion: 100%|██████████| 1/1 [00:00<00:00, 15.59it/s]\n"
          ]
        },
        {
          "output_type": "stream",
          "name": "stdout",
          "text": [
            "[{'emotion': {'angry': 0.06737706495983124, 'disgust': 0.0005143657131894153, 'fear': 4.790752555042201, 'happy': 78.87242688269295, 'sad': 0.9701890645695848, 'surprise': 0.08157415623637662, 'neutral': 15.217160854678053}, 'dominant_emotion': 'happy', 'region': {'x': 30, 'y': 49, 'w': 65, 'h': 65}}]\n"
          ]
        },
        {
          "output_type": "stream",
          "name": "stderr",
          "text": [
            "Action: emotion: 100%|██████████| 1/1 [00:00<00:00, 16.89it/s]\n"
          ]
        },
        {
          "output_type": "stream",
          "name": "stdout",
          "text": [
            "[{'emotion': {'angry': 11.351960897445679, 'disgust': 0.0002811880449371529, 'fear': 0.9591649286448956, 'happy': 0.044409805559553206, 'sad': 19.317637383937836, 'surprise': 0.0163431279361248, 'neutral': 68.31020712852478}, 'dominant_emotion': 'neutral', 'region': {'x': 18, 'y': 38, 'w': 89, 'h': 89}}]\n"
          ]
        },
        {
          "output_type": "stream",
          "name": "stderr",
          "text": [
            "Action: emotion: 100%|██████████| 1/1 [00:00<00:00, 15.73it/s]\n"
          ]
        },
        {
          "output_type": "stream",
          "name": "stdout",
          "text": [
            "[{'emotion': {'angry': 2.6089556249467166e-05, 'disgust': 2.9159027154461e-06, 'fear': 0.002227021419412336, 'happy': 94.15088261073129, 'sad': 0.010614062826428582, 'surprise': 0.0008935545870917789, 'neutral': 5.835355421027864}, 'dominant_emotion': 'happy', 'region': {'x': 29, 'y': 49, 'w': 64, 'h': 64}}]\n"
          ]
        },
        {
          "output_type": "stream",
          "name": "stderr",
          "text": [
            "Action: emotion: 100%|██████████| 1/1 [00:00<00:00, 16.26it/s]\n"
          ]
        },
        {
          "output_type": "stream",
          "name": "stdout",
          "text": [
            "[{'emotion': {'angry': 0.7054178975522518, 'disgust': 0.14265081845223904, 'fear': 2.7751924470067024, 'happy': 61.342185735702515, 'sad': 2.4169964715838432, 'surprise': 0.07057856419123709, 'neutral': 32.546985149383545}, 'dominant_emotion': 'happy', 'region': {'x': 31, 'y': 49, 'w': 65, 'h': 65}}]\n"
          ]
        },
        {
          "output_type": "stream",
          "name": "stderr",
          "text": [
            "Action: emotion: 100%|██████████| 1/1 [00:00<00:00, 17.42it/s]\n"
          ]
        },
        {
          "output_type": "stream",
          "name": "stdout",
          "text": [
            "[{'emotion': {'angry': 0.14322565402835608, 'disgust': 2.666755483105021e-07, 'fear': 0.03160121850669384, 'happy': 91.05727076530457, 'sad': 0.003916734567610547, 'surprise': 0.0064425817981828, 'neutral': 8.757541328668594}, 'dominant_emotion': 'happy', 'region': {'x': 25, 'y': 46, 'w': 73, 'h': 73}}]\n"
          ]
        },
        {
          "output_type": "stream",
          "name": "stderr",
          "text": [
            "Action: emotion: 100%|██████████| 1/1 [00:00<00:00, 16.96it/s]\n"
          ]
        },
        {
          "output_type": "stream",
          "name": "stdout",
          "text": [
            "[{'emotion': {'angry': 3.913255142151684e-06, 'disgust': 1.4035986457307248e-11, 'fear': 1.4980560791855169e-06, 'happy': 99.90481734275818, 'sad': 0.0004990531124349218, 'surprise': 0.0021049609131296165, 'neutral': 0.09257770143449306}, 'dominant_emotion': 'happy', 'region': {'x': 28, 'y': 49, 'w': 63, 'h': 63}}]\n"
          ]
        },
        {
          "output_type": "stream",
          "name": "stderr",
          "text": [
            "Action: emotion: 100%|██████████| 1/1 [00:00<00:00,  6.08it/s]\n"
          ]
        },
        {
          "output_type": "stream",
          "name": "stdout",
          "text": [
            "[{'emotion': {'angry': 0.018440166604705155, 'disgust': 2.3003683224942506e-05, 'fear': 0.6099068094044924, 'happy': 79.20359969139099, 'sad': 0.032228443888016045, 'surprise': 0.01264768507098779, 'neutral': 20.123156905174255}, 'dominant_emotion': 'happy', 'region': {'x': 28, 'y': 49, 'w': 65, 'h': 65}}]\n"
          ]
        },
        {
          "output_type": "stream",
          "name": "stderr",
          "text": [
            "Action: emotion: 100%|██████████| 1/1 [00:00<00:00, 13.23it/s]\n"
          ]
        },
        {
          "output_type": "stream",
          "name": "stdout",
          "text": [
            "[{'emotion': {'angry': 13.239848613739014, 'disgust': 0.00038674702409480233, 'fear': 0.1506942673586309, 'happy': 2.770550549030304, 'sad': 8.272286504507065, 'surprise': 1.0561276227235794, 'neutral': 74.51010346412659}, 'dominant_emotion': 'neutral', 'region': {'x': 26, 'y': 48, 'w': 71, 'h': 71}}]\n"
          ]
        },
        {
          "output_type": "stream",
          "name": "stderr",
          "text": [
            "Action: emotion: 100%|██████████| 1/1 [00:00<00:00, 17.29it/s]\n"
          ]
        },
        {
          "output_type": "stream",
          "name": "stdout",
          "text": [
            "[{'emotion': {'angry': 3.3357741436823694, 'disgust': 4.067274049068939e-06, 'fear': 0.10792875607259608, 'happy': 0.23503237407847488, 'sad': 1.3499150857278757, 'surprise': 0.09874286485793381, 'neutral': 94.87260549501214}, 'dominant_emotion': 'neutral', 'region': {'x': 19, 'y': 42, 'w': 84, 'h': 84}}]\n"
          ]
        },
        {
          "output_type": "stream",
          "name": "stderr",
          "text": [
            "Action: emotion: 100%|██████████| 1/1 [00:00<00:00, 18.03it/s]\n"
          ]
        },
        {
          "output_type": "stream",
          "name": "stdout",
          "text": [
            "[{'emotion': {'angry': 38.369110226631165, 'disgust': 5.9029873460531235, 'fear': 5.644470825791359, 'happy': 0.5632395856082439, 'sad': 32.596248388290405, 'surprise': 1.2495918199419975, 'neutral': 15.674355626106262}, 'dominant_emotion': 'angry', 'region': {'x': 29, 'y': 48, 'w': 67, 'h': 67}}]\n"
          ]
        },
        {
          "output_type": "stream",
          "name": "stderr",
          "text": [
            "Action: emotion: 100%|██████████| 1/1 [00:00<00:00, 15.22it/s]\n"
          ]
        },
        {
          "output_type": "stream",
          "name": "stdout",
          "text": [
            "[{'emotion': {'angry': 0.002496736851753667, 'disgust': 4.942044107281163e-07, 'fear': 0.00016800875073386123, 'happy': 98.90205264091492, 'sad': 0.0010573623512755148, 'surprise': 0.00016801210449557402, 'neutral': 1.0940595529973507}, 'dominant_emotion': 'happy', 'region': {'x': 29, 'y': 47, 'w': 65, 'h': 65}}]\n"
          ]
        },
        {
          "output_type": "stream",
          "name": "stderr",
          "text": [
            "Action: emotion: 100%|██████████| 1/1 [00:00<00:00, 16.77it/s]\n"
          ]
        },
        {
          "output_type": "stream",
          "name": "stdout",
          "text": [
            "[{'emotion': {'angry': 0.0062770574004389346, 'disgust': 0.00020501731796684908, 'fear': 0.44519281946122646, 'happy': 92.65608787536621, 'sad': 0.027802932891063392, 'surprise': 0.6768492516130209, 'neutral': 6.1875902116298676}, 'dominant_emotion': 'happy', 'region': {'x': 31, 'y': 50, 'w': 66, 'h': 66}}]\n"
          ]
        },
        {
          "output_type": "stream",
          "name": "stderr",
          "text": [
            "Action: emotion: 100%|██████████| 1/1 [00:00<00:00, 16.43it/s]\n"
          ]
        },
        {
          "output_type": "stream",
          "name": "stdout",
          "text": [
            "[{'emotion': {'angry': 49.80528652667999, 'disgust': 0.0012749136658385396, 'fear': 0.6925847381353378, 'happy': 0.005233734555076808, 'sad': 31.04311227798462, 'surprise': 0.013177524670027196, 'neutral': 18.439333140850067}, 'dominant_emotion': 'angry', 'region': {'x': 29, 'y': 47, 'w': 67, 'h': 67}}]\n"
          ]
        },
        {
          "output_type": "stream",
          "name": "stderr",
          "text": [
            "Action: emotion: 100%|██████████| 1/1 [00:00<00:00,  6.16it/s]\n"
          ]
        },
        {
          "output_type": "stream",
          "name": "stdout",
          "text": [
            "[{'emotion': {'angry': 11.323295533657074, 'disgust': 0.3004158614203334, 'fear': 9.596838802099228, 'happy': 78.31553220748901, 'sad': 0.22948849946260452, 'surprise': 0.012480412260629237, 'neutral': 0.2219413872808218}, 'dominant_emotion': 'happy', 'region': {'x': 18, 'y': 36, 'w': 93, 'h': 93}}]\n"
          ]
        },
        {
          "output_type": "stream",
          "name": "stderr",
          "text": [
            "Action: emotion: 100%|██████████| 1/1 [00:00<00:00, 11.71it/s]\n"
          ]
        },
        {
          "output_type": "stream",
          "name": "stdout",
          "text": [
            "[{'emotion': {'angry': 6.055403489196508, 'disgust': 0.0021336485040872395, 'fear': 1.2592928303356665, 'happy': 0.060438042383673334, 'sad': 6.167427818025817, 'surprise': 0.0025484026691739176, 'neutral': 86.45275750474677}, 'dominant_emotion': 'neutral', 'region': {'x': 27, 'y': 46, 'w': 70, 'h': 70}}]\n"
          ]
        },
        {
          "output_type": "stream",
          "name": "stderr",
          "text": [
            "Action: emotion: 100%|██████████| 1/1 [00:00<00:00, 15.32it/s]\n"
          ]
        },
        {
          "output_type": "stream",
          "name": "stdout",
          "text": [
            "[{'emotion': {'angry': 0.07244563894346356, 'disgust': 6.804939403082244e-05, 'fear': 49.49510097503662, 'happy': 2.8511378914117813, 'sad': 1.9258162006735802, 'surprise': 0.004480029019759968, 'neutral': 45.65094709396362}, 'dominant_emotion': 'fear', 'region': {'x': 24, 'y': 44, 'w': 78, 'h': 78}}]\n"
          ]
        },
        {
          "output_type": "stream",
          "name": "stderr",
          "text": [
            "Action: emotion: 100%|██████████| 1/1 [00:00<00:00, 15.95it/s]\n"
          ]
        },
        {
          "output_type": "stream",
          "name": "stdout",
          "text": [
            "[{'emotion': {'angry': 54.050713777542114, 'disgust': 0.0001893539661068644, 'fear': 0.09521293686702847, 'happy': 0.001084421637642663, 'sad': 23.262740671634674, 'surprise': 0.0007838196324883029, 'neutral': 22.58927673101425}, 'dominant_emotion': 'angry', 'region': {'x': 29, 'y': 51, 'w': 67, 'h': 67}}]\n"
          ]
        },
        {
          "output_type": "stream",
          "name": "stderr",
          "text": [
            "Action: emotion: 100%|██████████| 1/1 [00:00<00:00, 17.33it/s]\n"
          ]
        },
        {
          "output_type": "stream",
          "name": "stdout",
          "text": [
            "[{'emotion': {'angry': 4.7369019817722346e-08, 'disgust': 1.1110940127229504e-14, 'fear': 1.198832179361009e-09, 'happy': 99.80286955833435, 'sad': 3.267405901397069e-07, 'surprise': 5.316988169190573e-09, 'neutral': 0.19713356159627438}, 'dominant_emotion': 'happy', 'region': {'x': 32, 'y': 45, 'w': 65, 'h': 65}}]\n"
          ]
        },
        {
          "output_type": "stream",
          "name": "stderr",
          "text": [
            "Action: emotion: 100%|██████████| 1/1 [00:00<00:00, 16.10it/s]\n"
          ]
        },
        {
          "output_type": "stream",
          "name": "stdout",
          "text": [
            "[{'emotion': {'angry': 2.2913984954357147, 'disgust': 0.04104863910470158, 'fear': 9.897728264331818, 'happy': 9.756923466920853, 'sad': 11.961458623409271, 'surprise': 0.28226457070559263, 'neutral': 65.76917767524719}, 'dominant_emotion': 'neutral', 'region': {'x': 31, 'y': 50, 'w': 64, 'h': 64}}]\n"
          ]
        },
        {
          "output_type": "stream",
          "name": "stderr",
          "text": [
            "Action: emotion: 100%|██████████| 1/1 [00:00<00:00, 17.17it/s]\n"
          ]
        },
        {
          "output_type": "stream",
          "name": "stdout",
          "text": [
            "[{'emotion': {'angry': 45.286234932317434, 'disgust': 0.010962806771620766, 'fear': 2.409195857298127, 'happy': 5.75517748327121, 'sad': 18.529429646100382, 'surprise': 0.5229486929892715, 'neutral': 27.486051767233118}, 'dominant_emotion': 'angry', 'region': {'x': 19, 'y': 40, 'w': 86, 'h': 86}}]\n"
          ]
        },
        {
          "output_type": "stream",
          "name": "stderr",
          "text": [
            "Action: emotion: 100%|██████████| 1/1 [00:00<00:00, 16.20it/s]\n"
          ]
        },
        {
          "output_type": "stream",
          "name": "stdout",
          "text": [
            "[{'emotion': {'angry': 7.706816494464874, 'disgust': 0.31329982448369265, 'fear': 7.086138427257538, 'happy': 0.1560478238388896, 'sad': 43.492671847343445, 'surprise': 0.004519512003753334, 'neutral': 41.24050438404083}, 'dominant_emotion': 'sad', 'region': {'x': 17, 'y': 37, 'w': 29, 'h': 29}}]\n"
          ]
        },
        {
          "output_type": "stream",
          "name": "stderr",
          "text": [
            "Action: emotion: 100%|██████████| 1/1 [00:00<00:00, 15.05it/s]\n"
          ]
        },
        {
          "output_type": "stream",
          "name": "stdout",
          "text": [
            "[{'emotion': {'angry': 45.200520753860474, 'disgust': 9.688511104499753e-08, 'fear': 0.02057620440609753, 'happy': 0.09379465482197702, 'sad': 1.5762615948915482, 'surprise': 0.1864554826170206, 'neutral': 52.92239189147949}, 'dominant_emotion': 'neutral', 'region': {'x': 31, 'y': 48, 'w': 68, 'h': 68}}]\n"
          ]
        },
        {
          "output_type": "stream",
          "name": "stderr",
          "text": [
            "Action: emotion: 100%|██████████| 1/1 [00:00<00:00, 16.68it/s]\n"
          ]
        },
        {
          "output_type": "stream",
          "name": "stdout",
          "text": [
            "[{'emotion': {'angry': 14.98161405324936, 'disgust': 0.06060285377316177, 'fear': 1.39576755464077, 'happy': 0.14082639245316386, 'sad': 29.56840991973877, 'surprise': 0.004941557563142851, 'neutral': 53.84783744812012}, 'dominant_emotion': 'neutral', 'region': {'x': 28, 'y': 50, 'w': 66, 'h': 66}}]\n"
          ]
        },
        {
          "output_type": "stream",
          "name": "stderr",
          "text": [
            "Action: emotion: 100%|██████████| 1/1 [00:00<00:00, 16.14it/s]\n"
          ]
        },
        {
          "output_type": "stream",
          "name": "stdout",
          "text": [
            "[{'emotion': {'angry': 5.835603708366875e-05, 'disgust': 7.515634003461693e-13, 'fear': 0.00048392719846983973, 'happy': 0.0029341301272244455, 'sad': 3.0038172306905526, 'surprise': 7.881209044401581e-07, 'neutral': 96.99270707325381}, 'dominant_emotion': 'neutral', 'region': {'x': 27, 'y': 47, 'w': 67, 'h': 67}}]\n"
          ]
        },
        {
          "output_type": "stream",
          "name": "stderr",
          "text": [
            "Action: emotion: 100%|██████████| 1/1 [00:00<00:00, 15.74it/s]\n"
          ]
        },
        {
          "output_type": "stream",
          "name": "stdout",
          "text": [
            "[{'emotion': {'angry': 0.019918243388678092, 'disgust': 1.2710336903545319e-09, 'fear': 0.0008487081788570125, 'happy': 33.334360520167415, 'sad': 0.09366026449810141, 'surprise': 0.022161910332948457, 'neutral': 66.5290554200477}, 'dominant_emotion': 'neutral', 'region': {'x': 21, 'y': 41, 'w': 83, 'h': 83}}]\n"
          ]
        },
        {
          "output_type": "stream",
          "name": "stderr",
          "text": [
            "Action: emotion: 100%|██████████| 1/1 [00:00<00:00, 16.08it/s]\n"
          ]
        },
        {
          "output_type": "stream",
          "name": "stdout",
          "text": [
            "[{'emotion': {'angry': 0.009522825552346964, 'disgust': 3.860528121393009e-11, 'fear': 0.11946724974168836, 'happy': 0.027369913180986832, 'sad': 0.7883451417592252, 'surprise': 0.1517357278718488, 'neutral': 98.90356057307486}, 'dominant_emotion': 'neutral', 'region': {'x': 18, 'y': 37, 'w': 89, 'h': 89}}]\n"
          ]
        },
        {
          "output_type": "stream",
          "name": "stderr",
          "text": [
            "Action: emotion: 100%|██████████| 1/1 [00:00<00:00, 16.74it/s]\n"
          ]
        },
        {
          "output_type": "stream",
          "name": "stdout",
          "text": [
            "[{'emotion': {'angry': 2.0959774360562733e-05, 'disgust': 1.3431079572091484e-12, 'fear': 0.5891700275242329, 'happy': 0.04298807180020958, 'sad': 8.795326203107834, 'surprise': 0.007206583541119471, 'neutral': 90.56528806686401}, 'dominant_emotion': 'neutral', 'region': {'x': 23, 'y': 40, 'w': 82, 'h': 82}}]\n"
          ]
        },
        {
          "output_type": "stream",
          "name": "stderr",
          "text": [
            "Action: emotion: 100%|██████████| 1/1 [00:00<00:00, 18.20it/s]\n"
          ]
        },
        {
          "output_type": "stream",
          "name": "stdout",
          "text": [
            "[{'emotion': {'angry': 0.0003487382855382748, 'disgust': 1.77291908359872e-17, 'fear': 2.8086583406250476e-09, 'happy': 99.99632835388184, 'sad': 4.783280438402926e-08, 'surprise': 9.0146651254841e-08, 'neutral': 0.003324684439576231}, 'dominant_emotion': 'happy', 'region': {'x': 30, 'y': 46, 'w': 65, 'h': 65}}]\n"
          ]
        },
        {
          "output_type": "stream",
          "name": "stderr",
          "text": [
            "Action: emotion: 100%|██████████| 1/1 [00:00<00:00, 17.09it/s]\n"
          ]
        },
        {
          "output_type": "stream",
          "name": "stdout",
          "text": [
            "[{'emotion': {'angry': 27.838920226032748, 'disgust': 0.00042292206464173473, 'fear': 10.971777050005022, 'happy': 0.4071143698462468, 'sad': 14.408023024083557, 'surprise': 0.07575228679752569, 'neutral': 46.29799403536284}, 'dominant_emotion': 'neutral', 'region': {'x': 18, 'y': 38, 'w': 91, 'h': 91}}]\n"
          ]
        },
        {
          "output_type": "stream",
          "name": "stderr",
          "text": [
            "Action: emotion: 100%|██████████| 1/1 [00:00<00:00, 13.88it/s]\n"
          ]
        },
        {
          "output_type": "stream",
          "name": "stdout",
          "text": [
            "[{'emotion': {'angry': 0.0896414858289063, 'disgust': 1.3490767969415174e-05, 'fear': 0.3395731095224619, 'happy': 0.07664065342396498, 'sad': 0.8861442096531391, 'surprise': 0.044409348629415035, 'neutral': 98.5635757446289}, 'dominant_emotion': 'neutral', 'region': {'x': 19, 'y': 39, 'w': 87, 'h': 87}}]\n"
          ]
        },
        {
          "output_type": "stream",
          "name": "stderr",
          "text": [
            "Action: emotion: 100%|██████████| 1/1 [00:00<00:00, 13.35it/s]\n"
          ]
        },
        {
          "output_type": "stream",
          "name": "stdout",
          "text": [
            "[{'emotion': {'angry': 0.10441879276186228, 'disgust': 1.1531516719287538e-05, 'fear': 0.24390197359025478, 'happy': 81.58217668533325, 'sad': 0.10364069603383541, 'surprise': 0.013813395344186574, 'neutral': 17.9520383477211}, 'dominant_emotion': 'happy', 'region': {'x': 30, 'y': 52, 'w': 64, 'h': 64}}]\n"
          ]
        },
        {
          "output_type": "stream",
          "name": "stderr",
          "text": [
            "Action: emotion: 100%|██████████| 1/1 [00:00<00:00, 15.83it/s]\n"
          ]
        },
        {
          "output_type": "stream",
          "name": "stdout",
          "text": [
            "[{'emotion': {'angry': 84.26371812820435, 'disgust': 0.0009210712960339151, 'fear': 1.8712960183620453, 'happy': 6.12412728369236, 'sad': 3.6473985761404037, 'surprise': 0.22344444878399372, 'neutral': 3.8690950721502304}, 'dominant_emotion': 'angry', 'region': {'x': 28, 'y': 47, 'w': 70, 'h': 70}}]\n"
          ]
        },
        {
          "output_type": "stream",
          "name": "stderr",
          "text": [
            "Action: emotion: 100%|██████████| 1/1 [00:00<00:00, 14.62it/s]"
          ]
        },
        {
          "output_type": "stream",
          "name": "stdout",
          "text": [
            "[{'emotion': {'angry': 31.422826647758484, 'disgust': 2.3555647032935667e-05, 'fear': 0.03817214455921203, 'happy': 0.004083269232069142, 'sad': 8.174541592597961, 'surprise': 5.380698908652448e-06, 'neutral': 60.36034822463989}, 'dominant_emotion': 'neutral', 'region': {'x': 28, 'y': 47, 'w': 70, 'h': 70}}]\n"
          ]
        },
        {
          "output_type": "stream",
          "name": "stderr",
          "text": [
            "\n",
            "Action: emotion: 100%|██████████| 1/1 [00:00<00:00, 16.14it/s]\n"
          ]
        },
        {
          "output_type": "stream",
          "name": "stdout",
          "text": [
            "[{'emotion': {'angry': 46.84707522392273, 'disgust': 0.006416952965082601, 'fear': 3.521331399679184, 'happy': 0.08419459336437285, 'sad': 28.338828682899475, 'surprise': 0.16527300467714667, 'neutral': 21.036873757839203}, 'dominant_emotion': 'angry', 'region': {'x': 18, 'y': 38, 'w': 90, 'h': 90}}]\n"
          ]
        },
        {
          "output_type": "stream",
          "name": "stderr",
          "text": [
            "Action: emotion: 100%|██████████| 1/1 [00:00<00:00, 16.97it/s]\n"
          ]
        },
        {
          "output_type": "stream",
          "name": "stdout",
          "text": [
            "[{'emotion': {'angry': 1.3755741529166698, 'disgust': 0.001086472639144631, 'fear': 0.5207787733525038, 'happy': 1.8291305750608444, 'sad': 2.3070989176630974, 'surprise': 0.006952758849365637, 'neutral': 93.95937919616699}, 'dominant_emotion': 'neutral', 'region': {'x': 19, 'y': 39, 'w': 26, 'h': 26}}]\n"
          ]
        },
        {
          "output_type": "stream",
          "name": "stderr",
          "text": [
            "Action: emotion: 100%|██████████| 1/1 [00:00<00:00, 12.72it/s]\n"
          ]
        },
        {
          "output_type": "stream",
          "name": "stdout",
          "text": [
            "[{'emotion': {'angry': 58.34000110626221, 'disgust': 1.9552343744067002e-06, 'fear': 0.021683875820599496, 'happy': 0.19800234586000443, 'sad': 1.2424231506884098, 'surprise': 0.02697364252526313, 'neutral': 40.17091989517212}, 'dominant_emotion': 'angry', 'region': {'x': 29, 'y': 50, 'w': 63, 'h': 63}}]\n",
            "An error happened\n"
          ]
        },
        {
          "output_type": "stream",
          "name": "stderr",
          "text": [
            "Action: emotion: 100%|██████████| 1/1 [00:00<00:00, 16.85it/s]\n"
          ]
        },
        {
          "output_type": "stream",
          "name": "stdout",
          "text": [
            "[{'emotion': {'angry': 0.006577203021151945, 'disgust': 2.5048905172297964e-07, 'fear': 12.457148730754852, 'happy': 0.007359440496657044, 'sad': 27.3832768201828, 'surprise': 8.77156907108656e-06, 'neutral': 60.145628452301025}, 'dominant_emotion': 'neutral', 'region': {'x': 32, 'y': 51, 'w': 64, 'h': 64}}]\n"
          ]
        },
        {
          "output_type": "stream",
          "name": "stderr",
          "text": [
            "Action: emotion: 100%|██████████| 1/1 [00:00<00:00, 18.14it/s]\n"
          ]
        },
        {
          "output_type": "stream",
          "name": "stdout",
          "text": [
            "[{'emotion': {'angry': 0.2420913805196512, 'disgust': 5.169539692366552e-11, 'fear': 5.243998401666139e-05, 'happy': 7.795996683597367, 'sad': 0.23589701400828444, 'surprise': 0.008541856150076532, 'neutral': 91.71742151483426}, 'dominant_emotion': 'neutral', 'region': {'x': 15, 'y': 36, 'w': 94, 'h': 94}}]\n"
          ]
        },
        {
          "output_type": "stream",
          "name": "stderr",
          "text": [
            "Action: emotion: 100%|██████████| 1/1 [00:00<00:00, 16.94it/s]\n"
          ]
        },
        {
          "output_type": "stream",
          "name": "stdout",
          "text": [
            "[{'emotion': {'angry': 68.8789963722229, 'disgust': 0.9989338926970959, 'fear': 9.567178040742874, 'happy': 0.29185821767896414, 'sad': 11.615436524152756, 'surprise': 5.565708875656128, 'neutral': 3.081888146698475}, 'dominant_emotion': 'angry', 'region': {'x': 31, 'y': 48, 'w': 65, 'h': 65}}]\n"
          ]
        },
        {
          "output_type": "stream",
          "name": "stderr",
          "text": [
            "Action: emotion: 100%|██████████| 1/1 [00:00<00:00, 16.39it/s]\n"
          ]
        },
        {
          "output_type": "stream",
          "name": "stdout",
          "text": [
            "[{'emotion': {'angry': 0.38748893421143293, 'disgust': 0.006911746459081769, 'fear': 11.399629712104797, 'happy': 0.41352598927915096, 'sad': 23.827776312828064, 'surprise': 0.009196806786349043, 'neutral': 63.95546793937683}, 'dominant_emotion': 'neutral', 'region': {'x': 28, 'y': 49, 'w': 67, 'h': 67}}]\n"
          ]
        },
        {
          "output_type": "stream",
          "name": "stderr",
          "text": [
            "Action: emotion: 100%|██████████| 1/1 [00:00<00:00, 15.14it/s]\n"
          ]
        },
        {
          "output_type": "stream",
          "name": "stdout",
          "text": [
            "[{'emotion': {'angry': 0.6492943424310889, 'disgust': 0.0013304002888518093, 'fear': 32.66366616866983, 'happy': 7.607549882385127, 'sad': 11.594798361945054, 'surprise': 0.03518266230979039, 'neutral': 47.448178973685444}, 'dominant_emotion': 'neutral', 'region': {'x': 18, 'y': 41, 'w': 87, 'h': 87}}]\n"
          ]
        },
        {
          "output_type": "stream",
          "name": "stderr",
          "text": [
            "Action: emotion: 100%|██████████| 1/1 [00:00<00:00, 14.48it/s]\n"
          ]
        },
        {
          "output_type": "stream",
          "name": "stdout",
          "text": [
            "[{'emotion': {'angry': 10.85722138626703, 'disgust': 0.4144668360481761, 'fear': 64.09483934014078, 'happy': 0.004023472378032498, 'sad': 15.51629695393425, 'surprise': 4.7839838137617, 'neutral': 4.329170172165046}, 'dominant_emotion': 'fear', 'region': {'x': 18, 'y': 36, 'w': 90, 'h': 90}}]\n"
          ]
        },
        {
          "output_type": "stream",
          "name": "stderr",
          "text": [
            "Action: emotion: 100%|██████████| 1/1 [00:00<00:00, 12.18it/s]\n"
          ]
        },
        {
          "output_type": "stream",
          "name": "stdout",
          "text": [
            "[{'emotion': {'angry': 0.8303954266011715, 'disgust': 0.0016255700757028535, 'fear': 0.26624465826898813, 'happy': 0.7620743941515684, 'sad': 1.4746439643204212, 'surprise': 0.0014250089407141786, 'neutral': 96.66359424591064}, 'dominant_emotion': 'neutral', 'region': {'x': 27, 'y': 44, 'w': 72, 'h': 72}}]\n"
          ]
        },
        {
          "output_type": "stream",
          "name": "stderr",
          "text": [
            "Action: emotion: 100%|██████████| 1/1 [00:00<00:00, 16.43it/s]\n"
          ]
        },
        {
          "output_type": "stream",
          "name": "stdout",
          "text": [
            "[{'emotion': {'angry': 22.519369423389435, 'disgust': 4.680335149168968, 'fear': 2.164261043071747, 'happy': 17.767997086048126, 'sad': 10.82044169306755, 'surprise': 0.22378982976078987, 'neutral': 41.82380437850952}, 'dominant_emotion': 'neutral', 'region': {'x': 29, 'y': 45, 'w': 69, 'h': 69}}]\n"
          ]
        },
        {
          "output_type": "stream",
          "name": "stderr",
          "text": [
            "Action: emotion: 100%|██████████| 1/1 [00:00<00:00, 16.51it/s]\n"
          ]
        },
        {
          "output_type": "stream",
          "name": "stdout",
          "text": [
            "[{'emotion': {'angry': 41.18982553482056, 'disgust': 5.710731540431446e-09, 'fear': 3.75116765499115, 'happy': 1.327701285481453, 'sad': 31.08464777469635, 'surprise': 2.2135226984687506e-06, 'neutral': 22.64665961265564}, 'dominant_emotion': 'angry', 'region': {'x': 31, 'y': 48, 'w': 68, 'h': 68}}]\n"
          ]
        },
        {
          "output_type": "stream",
          "name": "stderr",
          "text": [
            "Action: emotion: 100%|██████████| 1/1 [00:00<00:00, 17.33it/s]\n"
          ]
        },
        {
          "output_type": "stream",
          "name": "stdout",
          "text": [
            "[{'emotion': {'angry': 0.8094241842627525, 'disgust': 0.26180874556303024, 'fear': 62.23471760749817, 'happy': 5.546560138463974, 'sad': 8.937215059995651, 'surprise': 0.19200756214559078, 'neutral': 22.018268704414368}, 'dominant_emotion': 'fear', 'region': {'x': 27, 'y': 47, 'w': 73, 'h': 73}}]\n"
          ]
        },
        {
          "output_type": "stream",
          "name": "stderr",
          "text": [
            "Action: emotion: 100%|██████████| 1/1 [00:00<00:00, 13.57it/s]\n"
          ]
        },
        {
          "output_type": "stream",
          "name": "stdout",
          "text": [
            "[{'emotion': {'angry': 49.158698270243306, 'disgust': 0.7622373744688853, 'fear': 2.772566096339589, 'happy': 1.0806351612886882, 'sad': 10.207798940408166, 'surprise': 0.036539477145789694, 'neutral': 35.98153209576202}, 'dominant_emotion': 'angry', 'region': {'x': 31, 'y': 50, 'w': 63, 'h': 63}}]\n"
          ]
        },
        {
          "output_type": "stream",
          "name": "stderr",
          "text": [
            "Action: emotion: 100%|██████████| 1/1 [00:00<00:00, 17.19it/s]\n"
          ]
        },
        {
          "output_type": "stream",
          "name": "stdout",
          "text": [
            "[{'emotion': {'angry': 29.467245936393738, 'disgust': 0.22669285535812378, 'fear': 46.26534879207611, 'happy': 0.011790699500124902, 'sad': 15.444596111774445, 'surprise': 0.043525215005502105, 'neutral': 8.540801703929901}, 'dominant_emotion': 'fear', 'region': {'x': 16, 'y': 38, 'w': 92, 'h': 92}}]\n"
          ]
        },
        {
          "output_type": "stream",
          "name": "stderr",
          "text": [
            "Action: emotion: 100%|██████████| 1/1 [00:00<00:00, 14.39it/s]\n"
          ]
        },
        {
          "output_type": "stream",
          "name": "stdout",
          "text": [
            "[{'emotion': {'angry': 65.18777012825012, 'disgust': 0.06284535047598183, 'fear': 2.8985708951950073, 'happy': 0.00595999626966659, 'sad': 23.366369307041168, 'surprise': 0.028067964012734592, 'neutral': 8.450417965650558}, 'dominant_emotion': 'angry', 'region': {'x': 19, 'y': 40, 'w': 88, 'h': 88}}]\n"
          ]
        },
        {
          "output_type": "stream",
          "name": "stderr",
          "text": [
            "Action: emotion: 100%|██████████| 1/1 [00:00<00:00, 15.94it/s]\n"
          ]
        },
        {
          "output_type": "stream",
          "name": "stdout",
          "text": [
            "[{'emotion': {'angry': 0.3085659584030509, 'disgust': 0.0006982418199186213, 'fear': 1.306278444826603, 'happy': 2.2729821503162384, 'sad': 6.510592997074127, 'surprise': 0.00651036316412501, 'neutral': 89.59437012672424}, 'dominant_emotion': 'neutral', 'region': {'x': 18, 'y': 38, 'w': 28, 'h': 28}}]\n"
          ]
        },
        {
          "output_type": "stream",
          "name": "stderr",
          "text": [
            "Action: emotion: 100%|██████████| 1/1 [00:00<00:00, 14.40it/s]\n"
          ]
        },
        {
          "output_type": "stream",
          "name": "stdout",
          "text": [
            "[{'emotion': {'angry': 0.28715435730095845, 'disgust': 0.0005606651818595795, 'fear': 3.204472181467544, 'happy': 4.097890353077075, 'sad': 1.9760920912678297, 'surprise': 0.0260515066723306, 'neutral': 90.40777626083948}, 'dominant_emotion': 'neutral', 'region': {'x': 15, 'y': 35, 'w': 94, 'h': 94}}]\n"
          ]
        },
        {
          "output_type": "stream",
          "name": "stderr",
          "text": [
            "Action: emotion: 100%|██████████| 1/1 [00:00<00:00, 15.46it/s]\n"
          ]
        },
        {
          "output_type": "stream",
          "name": "stdout",
          "text": [
            "[{'emotion': {'angry': 49.946895248067946, 'disgust': 0.09474932483591737, 'fear': 7.486358137564881, 'happy': 1.051974543693716, 'sad': 18.24012628315374, 'surprise': 0.518843702588236, 'neutral': 22.661042492265405}, 'dominant_emotion': 'angry', 'region': {'x': 21, 'y': 43, 'w': 42, 'h': 42}}]\n"
          ]
        },
        {
          "output_type": "stream",
          "name": "stderr",
          "text": [
            "Action: emotion: 100%|██████████| 1/1 [00:00<00:00, 16.81it/s]\n"
          ]
        },
        {
          "output_type": "stream",
          "name": "stdout",
          "text": [
            "[{'emotion': {'angry': 2.7667938492659123e-11, 'disgust': 1.591734599348421e-20, 'fear': 4.584759234640842e-08, 'happy': 99.96218085063582, 'sad': 3.75797713975652e-09, 'surprise': 0.006654193963267294, 'neutral': 0.03116877236850693}, 'dominant_emotion': 'happy', 'region': {'x': 23, 'y': 45, 'w': 159, 'h': 159}}]\n",
            "An error happened\n"
          ]
        },
        {
          "output_type": "stream",
          "name": "stderr",
          "text": [
            "Action: emotion: 100%|██████████| 1/1 [00:00<00:00, 15.45it/s]\n"
          ]
        },
        {
          "output_type": "stream",
          "name": "stdout",
          "text": [
            "[{'emotion': {'angry': 57.63686804331922, 'disgust': 5.849511149806388e-09, 'fear': 0.03170208860387342, 'happy': 0.20039454041933533, 'sad': 2.781967673365155, 'surprise': 0.0023580244405175294, 'neutral': 39.346699196493724}, 'dominant_emotion': 'angry', 'region': {'x': 15, 'y': 34, 'w': 96, 'h': 96}}]\n"
          ]
        },
        {
          "output_type": "stream",
          "name": "stderr",
          "text": [
            "Action: emotion: 100%|██████████| 1/1 [00:00<00:00, 14.71it/s]\n"
          ]
        },
        {
          "output_type": "stream",
          "name": "stdout",
          "text": [
            "[{'emotion': {'angry': 0.8381221011651815, 'disgust': 1.1677123298204676e-07, 'fear': 0.0022507408607494225, 'happy': 5.667199904751772, 'sad': 0.17268949751940355, 'surprise': 0.003214740546064819, 'neutral': 93.3165248225048}, 'dominant_emotion': 'neutral', 'region': {'x': 19, 'y': 39, 'w': 28, 'h': 28}}]\n"
          ]
        },
        {
          "output_type": "stream",
          "name": "stderr",
          "text": [
            "Action: emotion: 100%|██████████| 1/1 [00:00<00:00, 15.62it/s]\n"
          ]
        },
        {
          "output_type": "stream",
          "name": "stdout",
          "text": [
            "[{'emotion': {'angry': 0.6364091213142348, 'disgust': 0.0034407769139713816, 'fear': 0.009237814634079241, 'happy': 2.5285394506776004, 'sad': 3.53282115059025, 'surprise': 4.461984399241018e-05, 'neutral': 93.28950603541767}, 'dominant_emotion': 'neutral', 'region': {'x': 31, 'y': 44, 'w': 69, 'h': 69}}]\n"
          ]
        },
        {
          "output_type": "stream",
          "name": "stderr",
          "text": [
            "Action: emotion: 100%|██████████| 1/1 [00:00<00:00, 12.95it/s]\n"
          ]
        },
        {
          "output_type": "stream",
          "name": "stdout",
          "text": [
            "[{'emotion': {'angry': 0.2908778842538595, 'disgust': 0.0007950892722874414, 'fear': 0.9177602827548981, 'happy': 77.29871273040771, 'sad': 0.03289042797405273, 'surprise': 0.7994166575372219, 'neutral': 20.65954953432083}, 'dominant_emotion': 'happy', 'region': {'x': 28, 'y': 45, 'w': 73, 'h': 73}}]\n"
          ]
        },
        {
          "output_type": "stream",
          "name": "stderr",
          "text": [
            "Action: emotion: 100%|██████████| 1/1 [00:00<00:00, 15.30it/s]\n"
          ]
        },
        {
          "output_type": "stream",
          "name": "stdout",
          "text": [
            "[{'emotion': {'angry': 0.2357553457841277, 'disgust': 0.0026381627321825363, 'fear': 0.0916884804610163, 'happy': 94.0730094909668, 'sad': 0.18895661924034357, 'surprise': 0.002961651625810191, 'neutral': 5.404990166425705}, 'dominant_emotion': 'happy', 'region': {'x': 17, 'y': 37, 'w': 51, 'h': 51}}]\n"
          ]
        },
        {
          "output_type": "stream",
          "name": "stderr",
          "text": [
            "Action: emotion: 100%|██████████| 1/1 [00:00<00:00, 17.41it/s]\n"
          ]
        },
        {
          "output_type": "stream",
          "name": "stdout",
          "text": [
            "[{'emotion': {'angry': 0.0005316616352502024, 'disgust': 7.216960398181982e-05, 'fear': 0.02726890961639583, 'happy': 96.06820940971375, 'sad': 0.1496892306022346, 'surprise': 0.010006397496908903, 'neutral': 3.744220733642578}, 'dominant_emotion': 'happy', 'region': {'x': 17, 'y': 39, 'w': 50, 'h': 50}}]\n"
          ]
        },
        {
          "output_type": "stream",
          "name": "stderr",
          "text": [
            "Action: emotion: 100%|██████████| 1/1 [00:00<00:00, 17.66it/s]\n"
          ]
        },
        {
          "output_type": "stream",
          "name": "stdout",
          "text": [
            "[{'emotion': {'angry': 0.0004486344096221728, 'disgust': 1.1636114294333311e-07, 'fear': 9.286550834985974e-05, 'happy': 2.486039325594902, 'sad': 97.4135160446167, 'surprise': 2.5082247390173507e-08, 'neutral': 0.09990312391892076}, 'dominant_emotion': 'sad', 'region': {'x': 21, 'y': 43, 'w': 84, 'h': 84}}]\n"
          ]
        },
        {
          "output_type": "stream",
          "name": "stderr",
          "text": [
            "Action: emotion: 100%|██████████| 1/1 [00:00<00:00, 17.81it/s]\n"
          ]
        },
        {
          "output_type": "stream",
          "name": "stdout",
          "text": [
            "[{'emotion': {'angry': 0.156201864592731, 'disgust': 1.7396409646153188e-05, 'fear': 45.910632610321045, 'happy': 49.772992730140686, 'sad': 3.545984625816345, 'surprise': 0.05522216088138521, 'neutral': 0.5589455366134644}, 'dominant_emotion': 'happy', 'region': {'x': 18, 'y': 40, 'w': 86, 'h': 86}}]\n"
          ]
        },
        {
          "output_type": "stream",
          "name": "stderr",
          "text": [
            "Action: emotion: 100%|██████████| 1/1 [00:00<00:00, 13.38it/s]\n"
          ]
        },
        {
          "output_type": "stream",
          "name": "stdout",
          "text": [
            "[{'emotion': {'angry': 22.671034932136536, 'disgust': 8.409713103674221e-06, 'fear': 0.0032058771466836333, 'happy': 3.7226565182209015, 'sad': 0.3984335344284773, 'surprise': 0.015272360178641975, 'neutral': 73.18938374519348}, 'dominant_emotion': 'neutral', 'region': {'x': 23, 'y': 40, 'w': 84, 'h': 84}}]\n"
          ]
        },
        {
          "output_type": "stream",
          "name": "stderr",
          "text": [
            "Action: emotion: 100%|██████████| 1/1 [00:00<00:00, 16.28it/s]\n"
          ]
        },
        {
          "output_type": "stream",
          "name": "stdout",
          "text": [
            "[{'emotion': {'angry': 9.747598284093328e-08, 'disgust': 4.241115936819351e-14, 'fear': 1.724403091429849e-05, 'happy': 99.96975660324097, 'sad': 2.8030586918248446e-05, 'surprise': 0.025089739938266575, 'neutral': 0.005112108920002356}, 'dominant_emotion': 'happy', 'region': {'x': 22, 'y': 43, 'w': 79, 'h': 79}}]\n"
          ]
        },
        {
          "output_type": "stream",
          "name": "stderr",
          "text": [
            "Action: emotion: 100%|██████████| 1/1 [00:00<00:00, 12.78it/s]\n"
          ]
        },
        {
          "output_type": "stream",
          "name": "stdout",
          "text": [
            "[{'emotion': {'angry': 5.170672921844474e-14, 'disgust': 1.1879882356612036e-22, 'fear': 5.483386792179802e-13, 'happy': 99.99979734420776, 'sad': 8.873485306997234e-12, 'surprise': 4.364790931574332e-12, 'neutral': 0.00020365685031720204}, 'dominant_emotion': 'happy', 'region': {'x': 31, 'y': 48, 'w': 67, 'h': 67}}]\n"
          ]
        },
        {
          "output_type": "stream",
          "name": "stderr",
          "text": [
            "Action: emotion: 100%|██████████| 1/1 [00:00<00:00, 17.76it/s]\n"
          ]
        },
        {
          "output_type": "stream",
          "name": "stdout",
          "text": [
            "[{'emotion': {'angry': 0.00039057040339685045, 'disgust': 1.4981132778757456e-05, 'fear': 0.004194876601104625, 'happy': 94.8945939540863, 'sad': 0.027488527121022344, 'surprise': 0.0012305681593716145, 'neutral': 5.072085186839104}, 'dominant_emotion': 'happy', 'region': {'x': 14, 'y': 36, 'w': 54, 'h': 54}}]\n"
          ]
        },
        {
          "output_type": "stream",
          "name": "stderr",
          "text": [
            "Action: emotion: 100%|██████████| 1/1 [00:00<00:00, 14.30it/s]\n"
          ]
        },
        {
          "output_type": "stream",
          "name": "stdout",
          "text": [
            "[{'emotion': {'angry': 69.00974923430378, 'disgust': 7.928237455039353e-05, 'fear': 6.979440568652187, 'happy': 0.08430812661137442, 'sad': 7.541113796300518, 'surprise': 2.09119332380255, 'neutral': 14.294114070779925}, 'dominant_emotion': 'angry', 'region': {'x': 30, 'y': 48, 'w': 68, 'h': 68}}]\n"
          ]
        },
        {
          "output_type": "stream",
          "name": "stderr",
          "text": [
            "Action: emotion: 100%|██████████| 1/1 [00:00<00:00, 12.50it/s]\n"
          ]
        },
        {
          "output_type": "stream",
          "name": "stdout",
          "text": [
            "[{'emotion': {'angry': 7.6833754777908325, 'disgust': 0.032630228088237345, 'fear': 6.254791468381882, 'happy': 3.2424718141555786, 'sad': 29.1410893201828, 'surprise': 4.796795919537544, 'neutral': 48.84884059429169}, 'dominant_emotion': 'neutral', 'region': {'x': 19, 'y': 35, 'w': 91, 'h': 91}}]\n"
          ]
        },
        {
          "output_type": "stream",
          "name": "stderr",
          "text": [
            "Action: emotion: 100%|██████████| 1/1 [00:00<00:00, 16.04it/s]\n"
          ]
        },
        {
          "output_type": "stream",
          "name": "stdout",
          "text": [
            "[{'emotion': {'angry': 28.336608409881592, 'disgust': 0.0010998138350259978, 'fear': 0.030516096740029752, 'happy': 0.037524919025599957, 'sad': 12.914769351482391, 'surprise': 0.035352836130186915, 'neutral': 58.64412784576416}, 'dominant_emotion': 'neutral', 'region': {'x': 21, 'y': 39, 'w': 86, 'h': 86}}]\n"
          ]
        },
        {
          "output_type": "stream",
          "name": "stderr",
          "text": [
            "Action: emotion: 100%|██████████| 1/1 [00:00<00:00, 16.74it/s]\n"
          ]
        },
        {
          "output_type": "stream",
          "name": "stdout",
          "text": [
            "[{'emotion': {'angry': 2.6407556608319283, 'disgust': 0.0007935575922601856, 'fear': 10.024631023406982, 'happy': 37.03440725803375, 'sad': 3.699841722846031, 'surprise': 0.49131973646581173, 'neutral': 46.10825777053833}, 'dominant_emotion': 'neutral', 'region': {'x': 29, 'y': 46, 'w': 69, 'h': 69}}]\n"
          ]
        },
        {
          "output_type": "stream",
          "name": "stderr",
          "text": [
            "Action: emotion: 100%|██████████| 1/1 [00:00<00:00, 11.86it/s]\n"
          ]
        },
        {
          "output_type": "stream",
          "name": "stdout",
          "text": [
            "[{'emotion': {'angry': 3.2731529661390164e-06, 'disgust': 6.019698553577763e-10, 'fear': 0.04780765151110449, 'happy': 99.87260102466351, 'sad': 0.0009012592809676137, 'surprise': 0.0023818116061142115, 'neutral': 0.0763076170195709}, 'dominant_emotion': 'happy', 'region': {'x': 27, 'y': 45, 'w': 76, 'h': 76}}]\n"
          ]
        },
        {
          "output_type": "stream",
          "name": "stderr",
          "text": [
            "Action: emotion: 100%|██████████| 1/1 [00:00<00:00, 12.95it/s]\n"
          ]
        },
        {
          "output_type": "stream",
          "name": "stdout",
          "text": [
            "[{'emotion': {'angry': 6.320393830537796, 'disgust': 0.01118088184739463, 'fear': 57.21675157546997, 'happy': 0.14463397674262524, 'sad': 15.137024223804474, 'surprise': 0.3583149518817663, 'neutral': 20.811699330806732}, 'dominant_emotion': 'fear', 'region': {'x': 28, 'y': 46, 'w': 75, 'h': 75}}]\n"
          ]
        },
        {
          "output_type": "stream",
          "name": "stderr",
          "text": [
            "Action: emotion: 100%|██████████| 1/1 [00:00<00:00, 15.83it/s]\n"
          ]
        },
        {
          "output_type": "stream",
          "name": "stdout",
          "text": [
            "[{'emotion': {'angry': 20.44498324394226, 'disgust': 2.1668592253831775e-06, 'fear': 0.6174663081765175, 'happy': 65.42117595672607, 'sad': 0.11966695310547948, 'surprise': 0.00017812103578762617, 'neutral': 13.396531343460083}, 'dominant_emotion': 'happy', 'region': {'x': 30, 'y': 47, 'w': 66, 'h': 66}}]\n"
          ]
        },
        {
          "output_type": "stream",
          "name": "stderr",
          "text": [
            "Action: emotion: 100%|██████████| 1/1 [00:00<00:00, 16.55it/s]\n"
          ]
        },
        {
          "output_type": "stream",
          "name": "stdout",
          "text": [
            "[{'emotion': {'angry': 0.28084698133170605, 'disgust': 1.457387241998731e-05, 'fear': 0.09072913671843708, 'happy': 0.5078711546957493, 'sad': 3.7348728626966476, 'surprise': 0.007131582242436707, 'neutral': 95.37853598594666}, 'dominant_emotion': 'neutral', 'region': {'x': 19, 'y': 39, 'w': 27, 'h': 27}}]\n"
          ]
        },
        {
          "output_type": "stream",
          "name": "stderr",
          "text": [
            "Action: emotion: 100%|██████████| 1/1 [00:00<00:00, 12.56it/s]\n"
          ]
        },
        {
          "output_type": "stream",
          "name": "stdout",
          "text": [
            "[{'emotion': {'angry': 8.183972537517548, 'disgust': 2.613642746919924e-15, 'fear': 3.4496753897883536e-06, 'happy': 90.75170159339905, 'sad': 0.0014302420822787099, 'surprise': 4.088672759736123e-11, 'neutral': 1.0628972202539444}, 'dominant_emotion': 'happy', 'region': {'x': 16, 'y': 37, 'w': 52, 'h': 52}}]\n"
          ]
        },
        {
          "output_type": "stream",
          "name": "stderr",
          "text": [
            "Action: emotion: 100%|██████████| 1/1 [00:00<00:00, 16.17it/s]\n"
          ]
        },
        {
          "output_type": "stream",
          "name": "stdout",
          "text": [
            "[{'emotion': {'angry': 0.817071832716465, 'disgust': 1.6501113897591374e-11, 'fear': 0.0003945558091800194, 'happy': 0.10203277925029397, 'sad': 0.20570678170770407, 'surprise': 0.48047518357634544, 'neutral': 98.3943223953247}, 'dominant_emotion': 'neutral', 'region': {'x': 25, 'y': 44, 'w': 78, 'h': 78}}]\n"
          ]
        },
        {
          "output_type": "stream",
          "name": "stderr",
          "text": [
            "Action: emotion: 100%|██████████| 1/1 [00:00<00:00, 14.60it/s]\n"
          ]
        },
        {
          "output_type": "stream",
          "name": "stdout",
          "text": [
            "[{'emotion': {'angry': 22.479274718718212, 'disgust': 1.2612035501628483e-07, 'fear': 3.107587261782863e-05, 'happy': 70.16460717705532, 'sad': 0.18472402526283416, 'surprise': 0.0004449361578366152, 'neutral': 7.17091454094139}, 'dominant_emotion': 'happy', 'region': {'x': 16, 'y': 37, 'w': 91, 'h': 91}}]\n"
          ]
        },
        {
          "output_type": "stream",
          "name": "stderr",
          "text": [
            "Action: emotion: 100%|██████████| 1/1 [00:00<00:00, 16.26it/s]\n"
          ]
        },
        {
          "output_type": "stream",
          "name": "stdout",
          "text": [
            "[{'emotion': {'angry': 4.648112410194422, 'disgust': 0.044874215146479914, 'fear': 80.41714909178907, 'happy': 6.381685667138438, 'sad': 6.35489263265685, 'surprise': 0.0005630570166436015, 'neutral': 2.152728231413855}, 'dominant_emotion': 'fear', 'region': {'x': 29, 'y': 49, 'w': 66, 'h': 66}}]\n"
          ]
        },
        {
          "output_type": "stream",
          "name": "stderr",
          "text": [
            "Action: emotion: 100%|██████████| 1/1 [00:00<00:00, 16.63it/s]\n"
          ]
        },
        {
          "output_type": "stream",
          "name": "stdout",
          "text": [
            "[{'emotion': {'angry': 0.0007490516964026028, 'disgust': 6.900498448409288e-22, 'fear': 3.2134100068359484e-10, 'happy': 99.99575614929199, 'sad': 1.3707248877614653e-09, 'surprise': 1.178050305960035e-11, 'neutral': 0.0034964425140060484}, 'dominant_emotion': 'happy', 'region': {'x': 21, 'y': 36, 'w': 166, 'h': 166}}]\n"
          ]
        },
        {
          "output_type": "stream",
          "name": "stderr",
          "text": [
            "Action: emotion: 100%|██████████| 1/1 [00:00<00:00, 15.98it/s]\n"
          ]
        },
        {
          "output_type": "stream",
          "name": "stdout",
          "text": [
            "[{'emotion': {'angry': 24.213996529579163, 'disgust': 3.479879921997053e-05, 'fear': 0.323492637835443, 'happy': 49.226805567741394, 'sad': 2.734128013253212, 'surprise': 0.0009804535693547223, 'neutral': 23.500563204288483}, 'dominant_emotion': 'happy', 'region': {'x': 18, 'y': 38, 'w': 89, 'h': 89}}]\n"
          ]
        },
        {
          "output_type": "stream",
          "name": "stderr",
          "text": [
            "Action: emotion: 100%|██████████| 1/1 [00:00<00:00, 17.97it/s]\n"
          ]
        },
        {
          "output_type": "stream",
          "name": "stdout",
          "text": [
            "[{'emotion': {'angry': 2.4840830889667764e-11, 'disgust': 4.892064429466201e-16, 'fear': 1.3488478112222424e-07, 'happy': 100.0, 'sad': 9.484349069999176e-10, 'surprise': 2.140675440728823e-10, 'neutral': 4.0658991729003446e-07}, 'dominant_emotion': 'happy', 'region': {'x': 34, 'y': 52, 'w': 136, 'h': 136}}]\n"
          ]
        },
        {
          "output_type": "stream",
          "name": "stderr",
          "text": [
            "Action: emotion: 100%|██████████| 1/1 [00:00<00:00, 16.99it/s]\n"
          ]
        },
        {
          "output_type": "stream",
          "name": "stdout",
          "text": [
            "[{'emotion': {'angry': 11.107341200113297, 'disgust': 9.410880608129446e-06, 'fear': 2.763875015079975, 'happy': 2.3001177236437798, 'sad': 6.353592872619629, 'surprise': 0.5333778914064169, 'neutral': 76.9416868686676}, 'dominant_emotion': 'neutral', 'region': {'x': 36, 'y': 46, 'w': 66, 'h': 66}}]\n"
          ]
        },
        {
          "output_type": "stream",
          "name": "stderr",
          "text": [
            "Action: emotion: 100%|██████████| 1/1 [00:00<00:00, 16.89it/s]\n"
          ]
        },
        {
          "output_type": "stream",
          "name": "stdout",
          "text": [
            "[{'emotion': {'angry': 0.1224197011159004, 'disgust': 0.002272089566583712, 'fear': 0.034911146008993206, 'happy': 80.90573321649232, 'sad': 0.0030177932745102227, 'surprise': 0.014936732220837589, 'neutral': 18.916713466252503}, 'dominant_emotion': 'happy', 'region': {'x': 29, 'y': 47, 'w': 69, 'h': 69}}]\n"
          ]
        },
        {
          "output_type": "stream",
          "name": "stderr",
          "text": [
            "Action: emotion: 100%|██████████| 1/1 [00:00<00:00, 16.52it/s]\n"
          ]
        },
        {
          "output_type": "stream",
          "name": "stdout",
          "text": [
            "[{'emotion': {'angry': 97.98620915248503, 'disgust': 0.0001934277409900104, 'fear': 0.04438944981140045, 'happy': 1.1914301011648842e-05, 'sad': 1.9084211851264459, 'surprise': 0.0005087945889397128, 'neutral': 0.060272311293385776}, 'dominant_emotion': 'angry', 'region': {'x': 21, 'y': 41, 'w': 82, 'h': 82}}]\n"
          ]
        },
        {
          "output_type": "stream",
          "name": "stderr",
          "text": [
            "Action: emotion: 100%|██████████| 1/1 [00:00<00:00, 15.77it/s]\n"
          ]
        },
        {
          "output_type": "stream",
          "name": "stdout",
          "text": [
            "[{'emotion': {'angry': 8.484029194733012e-05, 'disgust': 5.552371496603259e-10, 'fear': 98.6467957496643, 'happy': 0.14743020292371511, 'sad': 1.1621449142694473, 'surprise': 4.048887891627828e-07, 'neutral': 0.04354431002866477}, 'dominant_emotion': 'fear', 'region': {'x': 20, 'y': 39, 'w': 83, 'h': 83}}]\n"
          ]
        },
        {
          "output_type": "stream",
          "name": "stderr",
          "text": [
            "Action: emotion: 100%|██████████| 1/1 [00:00<00:00, 13.97it/s]\n"
          ]
        },
        {
          "output_type": "stream",
          "name": "stdout",
          "text": [
            "[{'emotion': {'angry': 0.05475818179547787, 'disgust': 2.8281332354121447e-11, 'fear': 1.423632656205598e-07, 'happy': 99.93842840194702, 'sad': 0.00016597724652456236, 'surprise': 2.4984107635014484e-14, 'neutral': 0.006650607247138396}, 'dominant_emotion': 'happy', 'region': {'x': 16, 'y': 39, 'w': 52, 'h': 52}}]\n"
          ]
        },
        {
          "output_type": "stream",
          "name": "stderr",
          "text": [
            "Action: emotion: 100%|██████████| 1/1 [00:00<00:00, 15.73it/s]\n"
          ]
        },
        {
          "output_type": "stream",
          "name": "stdout",
          "text": [
            "[{'emotion': {'angry': 1.5643529503955551e-13, 'disgust': 1.1846791465448171e-29, 'fear': 2.8279046395158276e-21, 'happy': 99.72541330608209, 'sad': 3.231635429809094e-08, 'surprise': 4.346097993398159e-18, 'neutral': 0.27458825388331737}, 'dominant_emotion': 'happy', 'region': {'x': 17, 'y': 37, 'w': 53, 'h': 53}}]\n"
          ]
        },
        {
          "output_type": "stream",
          "name": "stderr",
          "text": [
            "Action: emotion: 100%|██████████| 1/1 [00:00<00:00, 12.36it/s]\n"
          ]
        },
        {
          "output_type": "stream",
          "name": "stdout",
          "text": [
            "[{'emotion': {'angry': 0.08191906775873217, 'disgust': 0.0003613190959720819, 'fear': 0.002475441874104142, 'happy': 99.8216092373859, 'sad': 0.00017473049447496613, 'surprise': 2.3979856694575372e-05, 'neutral': 0.09343552469252345}, 'dominant_emotion': 'happy', 'region': {'x': 16, 'y': 37, 'w': 54, 'h': 54}}]\n"
          ]
        },
        {
          "output_type": "stream",
          "name": "stderr",
          "text": [
            "Action: emotion: 100%|██████████| 1/1 [00:00<00:00, 17.58it/s]\n"
          ]
        },
        {
          "output_type": "stream",
          "name": "stdout",
          "text": [
            "[{'emotion': {'angry': 59.74584221839905, 'disgust': 4.872342085349146e-07, 'fear': 0.039125539478845894, 'happy': 7.167310267686844, 'sad': 2.2379253059625626, 'surprise': 0.005774865712737665, 'neutral': 30.804023146629333}, 'dominant_emotion': 'angry', 'region': {'x': 25, 'y': 39, 'w': 83, 'h': 83}}]\n"
          ]
        },
        {
          "output_type": "stream",
          "name": "stderr",
          "text": [
            "Action: emotion: 100%|██████████| 1/1 [00:00<00:00, 14.45it/s]\n"
          ]
        },
        {
          "output_type": "stream",
          "name": "stdout",
          "text": [
            "[{'emotion': {'angry': 25.227342559536847, 'disgust': 0.0003884935499266369, 'fear': 19.205438745345994, 'happy': 0.22800370547197493, 'sad': 48.86060946348962, 'surprise': 0.0061186114189598064, 'neutral': 6.472099958187339}, 'dominant_emotion': 'sad', 'region': {'x': 21, 'y': 43, 'w': 80, 'h': 80}}]\n"
          ]
        },
        {
          "output_type": "stream",
          "name": "stderr",
          "text": [
            "Action: emotion: 100%|██████████| 1/1 [00:00<00:00, 13.38it/s]\n"
          ]
        },
        {
          "output_type": "stream",
          "name": "stdout",
          "text": [
            "[{'emotion': {'angry': 0.03634519234765321, 'disgust': 7.744991314950767e-08, 'fear': 18.225902318954468, 'happy': 0.006398613913916051, 'sad': 81.71584010124207, 'surprise': 1.407799743446958e-05, 'neutral': 0.015507146599702537}, 'dominant_emotion': 'sad', 'region': {'x': 21, 'y': 40, 'w': 81, 'h': 81}}]\n"
          ]
        },
        {
          "output_type": "stream",
          "name": "stderr",
          "text": [
            "Action: emotion: 100%|██████████| 1/1 [00:00<00:00, 11.97it/s]\n"
          ]
        },
        {
          "output_type": "stream",
          "name": "stdout",
          "text": [
            "[{'emotion': {'angry': 0.0001968440081334282, 'disgust': 3.1631383952561698e-06, 'fear': 0.008324922501891926, 'happy': 99.78082773456904, 'sad': 0.05212950675988278, 'surprise': 0.00010395132324002392, 'neutral': 0.15841809360079093}, 'dominant_emotion': 'happy', 'region': {'x': 23, 'y': 44, 'w': 75, 'h': 75}}]\n"
          ]
        },
        {
          "output_type": "stream",
          "name": "stderr",
          "text": [
            "Action: emotion: 100%|██████████| 1/1 [00:00<00:00, 12.46it/s]\n"
          ]
        },
        {
          "output_type": "stream",
          "name": "stdout",
          "text": [
            "[{'emotion': {'angry': 0.0011398627066228073, 'disgust': 1.5795363628168246e-08, 'fear': 5.0163572495875997e-05, 'happy': 52.30528116226196, 'sad': 0.30240274500101805, 'surprise': 2.9489723996078965e-07, 'neutral': 47.391125559806824}, 'dominant_emotion': 'happy', 'region': {'x': 30, 'y': 47, 'w': 67, 'h': 67}}]\n"
          ]
        },
        {
          "output_type": "stream",
          "name": "stderr",
          "text": [
            "Action: emotion: 100%|██████████| 1/1 [00:00<00:00,  9.81it/s]\n"
          ]
        },
        {
          "output_type": "stream",
          "name": "stdout",
          "text": [
            "[{'emotion': {'angry': 5.889558419585228, 'disgust': 0.00018820271634467645, 'fear': 12.634065747261047, 'happy': 6.167295947670937, 'sad': 40.5373752117157, 'surprise': 0.12435218086466193, 'neutral': 34.64716672897339}, 'dominant_emotion': 'sad', 'region': {'x': 15, 'y': 34, 'w': 54, 'h': 54}}]\n"
          ]
        },
        {
          "output_type": "stream",
          "name": "stderr",
          "text": [
            "Action: emotion: 100%|██████████| 1/1 [00:00<00:00,  9.48it/s]\n"
          ]
        },
        {
          "output_type": "stream",
          "name": "stdout",
          "text": [
            "[{'emotion': {'angry': 2.5142544880509377, 'disgust': 9.909039542077656e-17, 'fear': 1.351644685065878e-07, 'happy': 15.456880629062653, 'sad': 0.009233064338332042, 'surprise': 2.3283176275867845e-06, 'neutral': 82.0196270942688}, 'dominant_emotion': 'neutral', 'region': {'x': 23, 'y': 41, 'w': 39, 'h': 39}}]\n"
          ]
        },
        {
          "output_type": "stream",
          "name": "stderr",
          "text": [
            "Action: emotion: 100%|██████████| 1/1 [00:00<00:00,  7.79it/s]\n"
          ]
        },
        {
          "output_type": "stream",
          "name": "stdout",
          "text": [
            "[{'emotion': {'angry': 0.48221503384411335, 'disgust': 2.6871396130445646e-05, 'fear': 0.32443152740597725, 'happy': 97.49283194541931, 'sad': 0.05669518723152578, 'surprise': 0.003227437991881743, 'neutral': 1.6405744478106499}, 'dominant_emotion': 'happy', 'region': {'x': 33, 'y': 49, 'w': 64, 'h': 64}}]\n"
          ]
        },
        {
          "output_type": "stream",
          "name": "stderr",
          "text": [
            "Action: emotion: 100%|██████████| 1/1 [00:00<00:00, 10.84it/s]\n"
          ]
        },
        {
          "output_type": "stream",
          "name": "stdout",
          "text": [
            "[{'emotion': {'angry': 0.018406247545499355, 'disgust': 8.623156355636041e-09, 'fear': 0.011987332254648209, 'happy': 0.03731403558049351, 'sad': 0.40439777076244354, 'surprise': 0.0032506188290426508, 'neutral': 99.52464699745178}, 'dominant_emotion': 'neutral', 'region': {'x': 19, 'y': 38, 'w': 28, 'h': 28}}]\n"
          ]
        },
        {
          "output_type": "stream",
          "name": "stderr",
          "text": [
            "Action: emotion: 100%|██████████| 1/1 [00:00<00:00, 10.18it/s]\n"
          ]
        },
        {
          "output_type": "stream",
          "name": "stdout",
          "text": [
            "[{'emotion': {'angry': 0.7286510958640461, 'disgust': 0.0020038668820681416, 'fear': 21.5669382730796, 'happy': 65.10199724411997, 'sad': 0.8824139712853466, 'surprise': 0.27575529152836903, 'neutral': 11.442231512995779}, 'dominant_emotion': 'happy', 'region': {'x': 18, 'y': 37, 'w': 89, 'h': 89}}]\n"
          ]
        },
        {
          "output_type": "stream",
          "name": "stderr",
          "text": [
            "Action: emotion: 100%|██████████| 1/1 [00:00<00:00, 10.78it/s]\n"
          ]
        },
        {
          "output_type": "stream",
          "name": "stdout",
          "text": [
            "[{'emotion': {'angry': 1.0566074401140213, 'disgust': 8.86244799335606e-11, 'fear': 2.3542911264939903e-05, 'happy': 98.53795170783997, 'sad': 0.00011031294206986786, 'surprise': 2.9114450433853634e-09, 'neutral': 0.4053052980452776}, 'dominant_emotion': 'happy', 'region': {'x': 14, 'y': 35, 'w': 96, 'h': 96}}]\n"
          ]
        },
        {
          "output_type": "stream",
          "name": "stderr",
          "text": [
            "Action: emotion: 100%|██████████| 1/1 [00:00<00:00, 10.91it/s]\n"
          ]
        },
        {
          "output_type": "stream",
          "name": "stdout",
          "text": [
            "[{'emotion': {'angry': 6.62674182194678e-06, 'disgust': 2.88214276663451e-11, 'fear': 0.03675823099911213, 'happy': 29.900071024894714, 'sad': 0.0020832880181842484, 'surprise': 3.2400425523519516, 'neutral': 66.82104468345642}, 'dominant_emotion': 'neutral', 'region': {'x': 25, 'y': 46, 'w': 71, 'h': 71}}]\n"
          ]
        },
        {
          "output_type": "stream",
          "name": "stderr",
          "text": [
            "Action: emotion: 100%|██████████| 1/1 [00:00<00:00, 10.69it/s]\n"
          ]
        },
        {
          "output_type": "stream",
          "name": "stdout",
          "text": [
            "[{'emotion': {'angry': 0.011122853902634233, 'disgust': 2.894105080031295e-05, 'fear': 0.012265374243725091, 'happy': 73.71767163276672, 'sad': 0.03650143335107714, 'surprise': 0.006123648927314207, 'neutral': 26.216289401054382}, 'dominant_emotion': 'happy', 'region': {'x': 16, 'y': 36, 'w': 55, 'h': 55}}]\n"
          ]
        },
        {
          "output_type": "stream",
          "name": "stderr",
          "text": [
            "Action: emotion: 100%|██████████| 1/1 [00:00<00:00, 12.41it/s]\n"
          ]
        },
        {
          "output_type": "stream",
          "name": "stdout",
          "text": [
            "[{'emotion': {'angry': 87.05384885622873, 'disgust': 9.59804654578633e-07, 'fear': 0.04831043776708093, 'happy': 0.0030787756226879734, 'sad': 9.254272669044415, 'surprise': 0.0013227260993768548, 'neutral': 3.6391607804106734}, 'dominant_emotion': 'angry', 'region': {'x': 20, 'y': 40, 'w': 89, 'h': 89}}]\n"
          ]
        },
        {
          "output_type": "stream",
          "name": "stderr",
          "text": [
            "Action: emotion: 100%|██████████| 1/1 [00:00<00:00,  7.78it/s]\n"
          ]
        },
        {
          "output_type": "stream",
          "name": "stdout",
          "text": [
            "[{'emotion': {'angry': 1.7315123230218887, 'disgust': 6.706977728754282e-05, 'fear': 3.991231694817543, 'happy': 47.912004590034485, 'sad': 3.295886144042015, 'surprise': 0.006414196104742587, 'neutral': 43.062880635261536}, 'dominant_emotion': 'happy', 'region': {'x': 28, 'y': 49, 'w': 68, 'h': 68}}]\n"
          ]
        },
        {
          "output_type": "stream",
          "name": "stderr",
          "text": [
            "Action: emotion: 100%|██████████| 1/1 [00:00<00:00,  9.47it/s]\n"
          ]
        },
        {
          "output_type": "stream",
          "name": "stdout",
          "text": [
            "[{'emotion': {'angry': 0.05534046717586014, 'disgust': 4.835714585170847e-12, 'fear': 0.09122512496373057, 'happy': 2.4428314234803106e-05, 'sad': 3.674567425302574, 'surprise': 0.00028471171179468596, 'neutral': 96.17855594413805}, 'dominant_emotion': 'neutral', 'region': {'x': 14, 'y': 33, 'w': 98, 'h': 98}}]\n"
          ]
        },
        {
          "output_type": "stream",
          "name": "stderr",
          "text": [
            "Action: emotion: 100%|██████████| 1/1 [00:00<00:00, 10.31it/s]\n"
          ]
        },
        {
          "output_type": "stream",
          "name": "stdout",
          "text": [
            "[{'emotion': {'angry': 88.84143233299255, 'disgust': 1.2914734837110586e-07, 'fear': 0.10978075442835689, 'happy': 3.850002769922867e-05, 'sad': 10.928677767515182, 'surprise': 4.844075007781612e-06, 'neutral': 0.12006936594843864}, 'dominant_emotion': 'angry', 'region': {'x': 24, 'y': 43, 'w': 78, 'h': 78}}]\n"
          ]
        },
        {
          "output_type": "stream",
          "name": "stderr",
          "text": [
            "Action: emotion: 100%|██████████| 1/1 [00:00<00:00, 11.22it/s]\n"
          ]
        },
        {
          "output_type": "stream",
          "name": "stdout",
          "text": [
            "[{'emotion': {'angry': 11.739491671323776, 'disgust': 0.00010551029845373705, 'fear': 0.63527119345963, 'happy': 1.8823254853487015, 'sad': 7.159233838319778, 'surprise': 0.007578077929792926, 'neutral': 78.57599258422852}, 'dominant_emotion': 'neutral', 'region': {'x': 30, 'y': 48, 'w': 66, 'h': 66}}]\n"
          ]
        },
        {
          "output_type": "stream",
          "name": "stderr",
          "text": [
            "Action: emotion: 100%|██████████| 1/1 [00:00<00:00, 11.73it/s]\n"
          ]
        },
        {
          "output_type": "stream",
          "name": "stdout",
          "text": [
            "[{'emotion': {'angry': 1.9171012914082643e-16, 'disgust': 6.206001084670814e-22, 'fear': 1.8560738629234312e-13, 'happy': 99.9994158744812, 'sad': 2.6753896475062607e-12, 'surprise': 2.781338900241081e-12, 'neutral': 0.0005853411948919529}, 'dominant_emotion': 'happy', 'region': {'x': 21, 'y': 44, 'w': 80, 'h': 80}}]\n",
            "An error happened\n"
          ]
        },
        {
          "output_type": "stream",
          "name": "stderr",
          "text": [
            "Action: emotion: 100%|██████████| 1/1 [00:00<00:00,  9.07it/s]\n"
          ]
        },
        {
          "output_type": "stream",
          "name": "stdout",
          "text": [
            "[{'emotion': {'angry': 4.333920031785965, 'disgust': 1.5260377850268014e-06, 'fear': 17.526260018348694, 'happy': 0.007512242154916748, 'sad': 37.81995475292206, 'surprise': 0.02924451546277851, 'neutral': 40.28310477733612}, 'dominant_emotion': 'neutral', 'region': {'x': 22, 'y': 38, 'w': 86, 'h': 86}}]\n"
          ]
        },
        {
          "output_type": "stream",
          "name": "stderr",
          "text": [
            "Action: emotion: 100%|██████████| 1/1 [00:00<00:00,  9.20it/s]\n"
          ]
        },
        {
          "output_type": "stream",
          "name": "stdout",
          "text": [
            "[{'emotion': {'angry': 2.087282513107954, 'disgust': 0.026892058372326687, 'fear': 64.86254753320843, 'happy': 0.1615385681605556, 'sad': 16.684385635330006, 'surprise': 0.017999973388857587, 'neutral': 16.159344773370652}, 'dominant_emotion': 'fear', 'region': {'x': 29, 'y': 47, 'w': 70, 'h': 70}}]\n"
          ]
        },
        {
          "output_type": "stream",
          "name": "stderr",
          "text": [
            "Action: emotion: 100%|██████████| 1/1 [00:00<00:00,  9.47it/s]\n"
          ]
        },
        {
          "output_type": "stream",
          "name": "stdout",
          "text": [
            "[{'emotion': {'angry': 99.99678730945512, 'disgust': 5.207611809676494e-14, 'fear': 0.0006675768361222395, 'happy': 2.0377734049083237e-08, 'sad': 0.002541819200433259, 'surprise': 2.750607197756882e-10, 'neutral': 3.446654012241122e-06}, 'dominant_emotion': 'angry', 'region': {'x': 24, 'y': 41, 'w': 80, 'h': 80}}]\n"
          ]
        },
        {
          "output_type": "stream",
          "name": "stderr",
          "text": [
            "Action: emotion: 100%|██████████| 1/1 [00:00<00:00, 11.48it/s]\n"
          ]
        },
        {
          "output_type": "stream",
          "name": "stdout",
          "text": [
            "[{'emotion': {'angry': 0.0002536472493375186, 'disgust': 1.9477794193095948e-22, 'fear': 2.944826260005639e-16, 'happy': 99.9984622001648, 'sad': 7.778225112609061e-10, 'surprise': 2.221436061359064e-11, 'neutral': 0.0012850216080551036}, 'dominant_emotion': 'happy', 'region': {'x': 18, 'y': 38, 'w': 90, 'h': 90}}]\n"
          ]
        },
        {
          "output_type": "stream",
          "name": "stderr",
          "text": [
            "Action: emotion: 100%|██████████| 1/1 [00:00<00:00,  9.16it/s]"
          ]
        },
        {
          "output_type": "stream",
          "name": "stdout",
          "text": [
            "[{'emotion': {'angry': 5.050151709182721e-08, 'disgust': 1.1292334353525661e-16, 'fear': 8.108859702972249e-05, 'happy': 99.52624437369373, 'sad': 1.429298453742152e-06, 'surprise': 0.008675461657326246, 'neutral': 0.46499658353606366}, 'dominant_emotion': 'happy', 'region': {'x': 25, 'y': 44, 'w': 77, 'h': 77}}]\n",
            "57\n"
          ]
        },
        {
          "output_type": "stream",
          "name": "stderr",
          "text": [
            "\n"
          ]
        }
      ],
      "source": [
        "%cd ..\n",
        "numberSmiles = 0\n",
        "smileCounts = []\n",
        "numberNonSmiles = 0\n",
        "nonSmileCounts = []\n",
        "numErrors = 0\n",
        "errorCounts = []\n",
        "pngs = []\n",
        "\n",
        "fileCount = 0\n",
        "fileCountList = []\n",
        "\n",
        "years = ['1911', '1921', '1931', '1941', '1951', '1961']\n",
        "\n",
        "for year in years:\n",
        "    path = r'./images' + '/' + year\n",
        "    for root, dirs, files in os.walk(path):\n",
        "        for dir in dirs:\n",
        "            path = path + '/' + (year + ' faces')\n",
        "            if(fileCount != 0):\n",
        "                fileCountList.append(fileCount)\n",
        "            fileCount = 0\n",
        "            for f in os.listdir(path):\n",
        "                if f.endswith('.png'):\n",
        "                    pngs.append(path + '/' + f)\n",
        "                    fileCount = fileCount + 1\n",
        "\n",
        "fileCountList.append(fileCount)\n",
        "\n",
        "totalLoops = 0\n",
        "count = 0\n",
        "iterator = 0\n",
        "for png in pngs:\n",
        "    try:\n",
        "        totalLoops = totalLoops + 1\n",
        "        count = count + 1\n",
        "        if(count != (fileCountList[iterator] + 1)):\n",
        "            demography = DeepFace.analyze(png, actions = ['emotion'])\n",
        "            print(demography)\n",
        "            if(demography[0]['dominant_emotion'] == 'happy'):\n",
        "                numberSmiles = numberSmiles + 1\n",
        "            else:\n",
        "                numberNonSmiles = numberNonSmiles + 1\n",
        "\n",
        "        else:\n",
        "            count = count - 1\n",
        "            smileCounts.append(numberSmiles / count)\n",
        "            nonSmileCounts.append(numberNonSmiles / count)\n",
        "            errorCounts.append(numErrors / count)\n",
        "            numberSmiles = 0\n",
        "            numberNonSmiles = 0\n",
        "            numErrors = 0\n",
        "            iterator = iterator + 1\n",
        "            count = 0\n",
        "\n",
        "    except (Exception):\n",
        "        numErrors = numErrors + 1\n",
        "        print(\"An error happened\")\n",
        "        continue\n",
        "\n",
        "smileCounts.append(numberSmiles / count)\n",
        "nonSmileCounts.append(numberNonSmiles / count)\n",
        "errorCounts.append(numErrors / count)\n",
        "\n",
        "dict = {'Years': years, 'Smiles': smileCounts, 'NonSmiles': nonSmileCounts, \"Error Weight\": errorCounts}\n",
        "data = pd.DataFrame(dict)\n",
        "data.to_csv('YearbookOutput.csv', index=False)\n",
        "print(count)\n"
      ]
    },
    {
      "cell_type": "markdown",
      "source": [
        "##Download and results"
      ],
      "metadata": {
        "id": "Sa2rV4Hzd5NE"
      }
    },
    {
      "cell_type": "code",
      "execution_count": null,
      "metadata": {
        "colab": {
          "base_uri": "https://localhost:8080/",
          "height": 17
        },
        "id": "QxBepnRtns50",
        "outputId": "4e7bb880-57c8-4bda-b5d2-eea7f2ca4049"
      },
      "outputs": [
        {
          "output_type": "display_data",
          "data": {
            "text/plain": [
              "<IPython.core.display.Javascript object>"
            ],
            "application/javascript": [
              "\n",
              "    async function download(id, filename, size) {\n",
              "      if (!google.colab.kernel.accessAllowed) {\n",
              "        return;\n",
              "      }\n",
              "      const div = document.createElement('div');\n",
              "      const label = document.createElement('label');\n",
              "      label.textContent = `Downloading \"${filename}\": `;\n",
              "      div.appendChild(label);\n",
              "      const progress = document.createElement('progress');\n",
              "      progress.max = size;\n",
              "      div.appendChild(progress);\n",
              "      document.body.appendChild(div);\n",
              "\n",
              "      const buffers = [];\n",
              "      let downloaded = 0;\n",
              "\n",
              "      const channel = await google.colab.kernel.comms.open(id);\n",
              "      // Send a message to notify the kernel that we're ready.\n",
              "      channel.send({})\n",
              "\n",
              "      for await (const message of channel.messages) {\n",
              "        // Send a message to notify the kernel that we're ready.\n",
              "        channel.send({})\n",
              "        if (message.buffers) {\n",
              "          for (const buffer of message.buffers) {\n",
              "            buffers.push(buffer);\n",
              "            downloaded += buffer.byteLength;\n",
              "            progress.value = downloaded;\n",
              "          }\n",
              "        }\n",
              "      }\n",
              "      const blob = new Blob(buffers, {type: 'application/binary'});\n",
              "      const a = document.createElement('a');\n",
              "      a.href = window.URL.createObjectURL(blob);\n",
              "      a.download = filename;\n",
              "      div.appendChild(a);\n",
              "      a.click();\n",
              "      div.remove();\n",
              "    }\n",
              "  "
            ]
          },
          "metadata": {}
        },
        {
          "output_type": "display_data",
          "data": {
            "text/plain": [
              "<IPython.core.display.Javascript object>"
            ],
            "application/javascript": [
              "download(\"download_0d13f19e-35db-4985-8af5-dc34bcce91a2\", \"YearbookOutput.csv\", 265)"
            ]
          },
          "metadata": {}
        }
      ],
      "source": [
        "from google.colab import files\n",
        "files.download('YearbookOutput.csv')"
      ]
    }
  ],
  "metadata": {
    "accelerator": "GPU",
    "colab": {
      "provenance": [],
      "toc_visible": true,
      "include_colab_link": true
    },
    "kernelspec": {
      "display_name": "Python 3",
      "name": "python3"
    },
    "language_info": {
      "name": "python"
    }
  },
  "nbformat": 4,
  "nbformat_minor": 0
}